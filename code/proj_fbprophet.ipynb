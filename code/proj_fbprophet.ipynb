{
  "cells": [
    {
      "cell_type": "markdown",
      "metadata": {
        "id": "view-in-github",
        "colab_type": "text"
      },
      "source": [
        "<a href=\"https://colab.research.google.com/github/leahnagy/liquor_predictor/blob/main/code/proj_fbprophet.ipynb\" target=\"_parent\"><img src=\"https://colab.research.google.com/assets/colab-badge.svg\" alt=\"Open In Colab\"/></a>"
      ]
    },
    {
      "cell_type": "code",
      "source": [
        "!pip install pystan~=2.14\n",
        "!pip install fbprophet"
      ],
      "metadata": {
        "colab": {
          "base_uri": "https://localhost:8080/"
        },
        "id": "DaxwcFbx3fAn",
        "outputId": "a3fab211-aafe-4e6d-e460-5da0ecaef652"
      },
      "id": "DaxwcFbx3fAn",
      "execution_count": null,
      "outputs": [
        {
          "output_type": "stream",
          "name": "stdout",
          "text": [
            "Looking in indexes: https://pypi.org/simple, https://us-python.pkg.dev/colab-wheels/public/simple/\n",
            "Collecting pystan~=2.14\n",
            "  Downloading pystan-2.19.1.1-cp37-cp37m-manylinux1_x86_64.whl (67.3 MB)\n",
            "\u001b[K     |████████████████████████████████| 67.3 MB 1.2 MB/s \n",
            "\u001b[?25hRequirement already satisfied: Cython!=0.25.1,>=0.22 in /usr/local/lib/python3.7/dist-packages (from pystan~=2.14) (0.29.32)\n",
            "Requirement already satisfied: numpy>=1.7 in /usr/local/lib/python3.7/dist-packages (from pystan~=2.14) (1.21.6)\n",
            "Installing collected packages: pystan\n",
            "  Attempting uninstall: pystan\n",
            "    Found existing installation: pystan 3.3.0\n",
            "    Uninstalling pystan-3.3.0:\n",
            "      Successfully uninstalled pystan-3.3.0\n",
            "Successfully installed pystan-2.19.1.1\n",
            "Looking in indexes: https://pypi.org/simple, https://us-python.pkg.dev/colab-wheels/public/simple/\n",
            "Collecting fbprophet\n",
            "  Downloading fbprophet-0.7.1.tar.gz (64 kB)\n",
            "\u001b[K     |████████████████████████████████| 64 kB 35 kB/s \n",
            "\u001b[?25hRequirement already satisfied: Cython>=0.22 in /usr/local/lib/python3.7/dist-packages (from fbprophet) (0.29.32)\n",
            "Collecting cmdstanpy==0.9.5\n",
            "  Downloading cmdstanpy-0.9.5-py3-none-any.whl (37 kB)\n",
            "Requirement already satisfied: pystan>=2.14 in /usr/local/lib/python3.7/dist-packages (from fbprophet) (2.19.1.1)\n",
            "Requirement already satisfied: numpy>=1.15.4 in /usr/local/lib/python3.7/dist-packages (from fbprophet) (1.21.6)\n",
            "Requirement already satisfied: pandas>=1.0.4 in /usr/local/lib/python3.7/dist-packages (from fbprophet) (1.3.5)\n",
            "Requirement already satisfied: matplotlib>=2.0.0 in /usr/local/lib/python3.7/dist-packages (from fbprophet) (3.2.2)\n",
            "Requirement already satisfied: LunarCalendar>=0.0.9 in /usr/local/lib/python3.7/dist-packages (from fbprophet) (0.0.9)\n",
            "Requirement already satisfied: convertdate>=2.1.2 in /usr/local/lib/python3.7/dist-packages (from fbprophet) (2.4.0)\n",
            "Requirement already satisfied: holidays>=0.10.2 in /usr/local/lib/python3.7/dist-packages (from fbprophet) (0.15)\n",
            "Requirement already satisfied: setuptools-git>=1.2 in /usr/local/lib/python3.7/dist-packages (from fbprophet) (1.2)\n",
            "Requirement already satisfied: python-dateutil>=2.8.0 in /usr/local/lib/python3.7/dist-packages (from fbprophet) (2.8.2)\n",
            "Requirement already satisfied: tqdm>=4.36.1 in /usr/local/lib/python3.7/dist-packages (from fbprophet) (4.64.0)\n",
            "Requirement already satisfied: pymeeus<=1,>=0.3.13 in /usr/local/lib/python3.7/dist-packages (from convertdate>=2.1.2->fbprophet) (0.5.11)\n",
            "Requirement already satisfied: hijri-converter in /usr/local/lib/python3.7/dist-packages (from holidays>=0.10.2->fbprophet) (2.2.4)\n",
            "Requirement already satisfied: korean-lunar-calendar in /usr/local/lib/python3.7/dist-packages (from holidays>=0.10.2->fbprophet) (0.2.1)\n",
            "Requirement already satisfied: pytz in /usr/local/lib/python3.7/dist-packages (from LunarCalendar>=0.0.9->fbprophet) (2022.2.1)\n",
            "Requirement already satisfied: ephem>=3.7.5.3 in /usr/local/lib/python3.7/dist-packages (from LunarCalendar>=0.0.9->fbprophet) (4.1.3)\n",
            "Requirement already satisfied: cycler>=0.10 in /usr/local/lib/python3.7/dist-packages (from matplotlib>=2.0.0->fbprophet) (0.11.0)\n",
            "Requirement already satisfied: kiwisolver>=1.0.1 in /usr/local/lib/python3.7/dist-packages (from matplotlib>=2.0.0->fbprophet) (1.4.4)\n",
            "Requirement already satisfied: pyparsing!=2.0.4,!=2.1.2,!=2.1.6,>=2.0.1 in /usr/local/lib/python3.7/dist-packages (from matplotlib>=2.0.0->fbprophet) (3.0.9)\n",
            "Requirement already satisfied: typing-extensions in /usr/local/lib/python3.7/dist-packages (from kiwisolver>=1.0.1->matplotlib>=2.0.0->fbprophet) (4.1.1)\n",
            "Requirement already satisfied: six>=1.5 in /usr/local/lib/python3.7/dist-packages (from python-dateutil>=2.8.0->fbprophet) (1.15.0)\n",
            "Building wheels for collected packages: fbprophet\n",
            "  Building wheel for fbprophet (setup.py) ... \u001b[?25l\u001b[?25hdone\n",
            "  Created wheel for fbprophet: filename=fbprophet-0.7.1-py3-none-any.whl size=6637996 sha256=b4e48e98a01f5a2503cc23aef016e29723bb75a8e7f6b44dd76fc44444b0f623\n",
            "  Stored in directory: /root/.cache/pip/wheels/cd/a1/12/db63ff624de492fe6cccf676091a0860fdde2ffde4bc3280e2\n",
            "Successfully built fbprophet\n",
            "Installing collected packages: cmdstanpy, fbprophet\n",
            "  Attempting uninstall: cmdstanpy\n",
            "    Found existing installation: cmdstanpy 1.0.7\n",
            "    Uninstalling cmdstanpy-1.0.7:\n",
            "      Successfully uninstalled cmdstanpy-1.0.7\n",
            "\u001b[31mERROR: pip's dependency resolver does not currently take into account all the packages that are installed. This behaviour is the source of the following dependency conflicts.\n",
            "prophet 1.1 requires cmdstanpy>=1.0.1, but you have cmdstanpy 0.9.5 which is incompatible.\u001b[0m\n",
            "Successfully installed cmdstanpy-0.9.5 fbprophet-0.7.1\n"
          ]
        }
      ]
    },
    {
      "cell_type": "code",
      "execution_count": null,
      "id": "d2964bdb",
      "metadata": {
        "id": "d2964bdb"
      },
      "outputs": [],
      "source": [
        "import pandas as pd\n",
        "from fbprophet import Prophet"
      ]
    },
    {
      "cell_type": "code",
      "source": [
        "# Connect to google drive\n",
        "from google.colab import drive\n",
        "drive.mount('/content/gdrive')"
      ],
      "metadata": {
        "colab": {
          "base_uri": "https://localhost:8080/"
        },
        "id": "6EXXAnIB3d1h",
        "outputId": "8a166545-f83a-444a-e992-2acd497de634"
      },
      "id": "6EXXAnIB3d1h",
      "execution_count": null,
      "outputs": [
        {
          "output_type": "stream",
          "name": "stdout",
          "text": [
            "Mounted at /content/gdrive\n"
          ]
        }
      ]
    },
    {
      "cell_type": "code",
      "execution_count": null,
      "id": "92bd59d4",
      "metadata": {
        "colab": {
          "base_uri": "https://localhost:8080/"
        },
        "id": "92bd59d4",
        "outputId": "cb3c70ef-49a1-4a28-bfda-abfdb26f00e7"
      },
      "outputs": [
        {
          "output_type": "stream",
          "name": "stderr",
          "text": [
            "/usr/local/lib/python3.7/dist-packages/IPython/core/interactiveshell.py:3326: DtypeWarning: Columns (7,13) have mixed types.Specify dtype option on import or set low_memory=False.\n",
            "  exec(code_obj, self.user_global_ns, self.user_ns)\n"
          ]
        }
      ],
      "source": [
        "path = '/content/gdrive/MyDrive/cleaned_liquor.csv'\n",
        "df = pd.read_csv(path)"
      ]
    },
    {
      "cell_type": "code",
      "source": [
        "df.shape"
      ],
      "metadata": {
        "colab": {
          "base_uri": "https://localhost:8080/"
        },
        "id": "aVvjQ-pAy2Rs",
        "outputId": "3d915049-d7e8-4df8-db8e-475f2f7a6a11"
      },
      "id": "aVvjQ-pAy2Rs",
      "execution_count": null,
      "outputs": [
        {
          "output_type": "execute_result",
          "data": {
            "text/plain": [
              "(24396811, 25)"
            ]
          },
          "metadata": {},
          "execution_count": 5
        }
      ]
    },
    {
      "cell_type": "code",
      "source": [
        "df = df[df['date'] > '2017-12-31']"
      ],
      "metadata": {
        "id": "iLi9qtaq0Glc"
      },
      "id": "iLi9qtaq0Glc",
      "execution_count": null,
      "outputs": []
    },
    {
      "cell_type": "code",
      "source": [
        "# calculate number of nulls\n",
        "df.isnull().sum(axis=0)"
      ],
      "metadata": {
        "colab": {
          "base_uri": "https://localhost:8080/"
        },
        "id": "MJfymPdu7LmP",
        "outputId": "762c9c34-0b12-4904-bca3-d00bb8fc39b3"
      },
      "id": "MJfymPdu7LmP",
      "execution_count": null,
      "outputs": [
        {
          "output_type": "execute_result",
          "data": {
            "text/plain": [
              "Unnamed: 0             0\n",
              "invoice_num            0\n",
              "date                   0\n",
              "store_num              0\n",
              "store_name             0\n",
              "address             7358\n",
              "city                7358\n",
              "zip_code            7358\n",
              "county              7358\n",
              "category            5621\n",
              "category_name       5621\n",
              "vendor_number          7\n",
              "vendor_name            7\n",
              "item_num               0\n",
              "item_description       0\n",
              "pack                   0\n",
              "bottle_volume          0\n",
              "bottle_cost            0\n",
              "bottle_retail          0\n",
              "bottles_sold           0\n",
              "sales_usd              0\n",
              "sales_liters           0\n",
              "sales_gallons          0\n",
              "year                   0\n",
              "month                  0\n",
              "dtype: int64"
            ]
          },
          "metadata": {},
          "execution_count": 7
        }
      ]
    },
    {
      "cell_type": "code",
      "source": [
        "# drop nulls\n",
        "df = df.dropna()"
      ],
      "metadata": {
        "id": "8QM-hCXU7fiw"
      },
      "id": "8QM-hCXU7fiw",
      "execution_count": null,
      "outputs": []
    },
    {
      "cell_type": "code",
      "source": [
        "# Filter for vodka products only\n",
        "df = df[df['category_name'].str.contains(\"Vodka\")]"
      ],
      "metadata": {
        "id": "kHUr2PrX7TZu"
      },
      "id": "kHUr2PrX7TZu",
      "execution_count": null,
      "outputs": []
    },
    {
      "cell_type": "code",
      "source": [
        "df.shape"
      ],
      "metadata": {
        "colab": {
          "base_uri": "https://localhost:8080/"
        },
        "id": "HzeCHoo97qbS",
        "outputId": "056864e8-76dc-402d-9c1d-2ac184f919f7"
      },
      "id": "HzeCHoo97qbS",
      "execution_count": null,
      "outputs": [
        {
          "output_type": "execute_result",
          "data": {
            "text/plain": [
              "(2825713, 25)"
            ]
          },
          "metadata": {},
          "execution_count": 10
        }
      ]
    },
    {
      "cell_type": "code",
      "source": [
        "# drop extra column\n",
        "df = df.drop('Unnamed: 0', axis=1)"
      ],
      "metadata": {
        "id": "tKg9Hy817udm"
      },
      "id": "tKg9Hy817udm",
      "execution_count": null,
      "outputs": []
    },
    {
      "cell_type": "code",
      "source": [
        "df.info()"
      ],
      "metadata": {
        "colab": {
          "base_uri": "https://localhost:8080/"
        },
        "id": "TiNwzjbB7x1L",
        "outputId": "23c81ad2-e698-49b0-bef9-3640d4e52049"
      },
      "id": "TiNwzjbB7x1L",
      "execution_count": null,
      "outputs": [
        {
          "output_type": "stream",
          "name": "stdout",
          "text": [
            "<class 'pandas.core.frame.DataFrame'>\n",
            "Int64Index: 2825713 entries, 1028819 to 24381910\n",
            "Data columns (total 24 columns):\n",
            " #   Column            Dtype  \n",
            "---  ------            -----  \n",
            " 0   invoice_num       object \n",
            " 1   date              object \n",
            " 2   store_num         int64  \n",
            " 3   store_name        object \n",
            " 4   address           object \n",
            " 5   city              object \n",
            " 6   zip_code          object \n",
            " 7   county            object \n",
            " 8   category          float64\n",
            " 9   category_name     object \n",
            " 10  vendor_number     float64\n",
            " 11  vendor_name       object \n",
            " 12  item_num          object \n",
            " 13  item_description  object \n",
            " 14  pack              int64  \n",
            " 15  bottle_volume     int64  \n",
            " 16  bottle_cost       float64\n",
            " 17  bottle_retail     float64\n",
            " 18  bottles_sold      int64  \n",
            " 19  sales_usd         float64\n",
            " 20  sales_liters      float64\n",
            " 21  sales_gallons     float64\n",
            " 22  year              int64  \n",
            " 23  month             int64  \n",
            "dtypes: float64(7), int64(6), object(11)\n",
            "memory usage: 539.0+ MB\n"
          ]
        }
      ]
    },
    {
      "cell_type": "code",
      "source": [
        "# filter for only polk county to test FB Prophet\n",
        "polk_df = df.loc[df['county']=='POLK']"
      ],
      "metadata": {
        "id": "5n6150Vy782L"
      },
      "id": "5n6150Vy782L",
      "execution_count": null,
      "outputs": []
    },
    {
      "cell_type": "code",
      "source": [
        "# put dates in correct format\n",
        "polk_df['ds'] = pd.to_datetime(['{}-{}-01'.format(y, m) for y, m in\n",
        "                                zip(polk_df.year, polk_df.month)])"
      ],
      "metadata": {
        "colab": {
          "base_uri": "https://localhost:8080/"
        },
        "id": "YZIpL04t8_oS",
        "outputId": "078c96c2-57a9-4f1d-c2ee-3428e1731284"
      },
      "id": "YZIpL04t8_oS",
      "execution_count": null,
      "outputs": [
        {
          "output_type": "stream",
          "name": "stderr",
          "text": [
            "/usr/local/lib/python3.7/dist-packages/ipykernel_launcher.py:2: SettingWithCopyWarning: \n",
            "A value is trying to be set on a copy of a slice from a DataFrame.\n",
            "Try using .loc[row_indexer,col_indexer] = value instead\n",
            "\n",
            "See the caveats in the documentation: https://pandas.pydata.org/pandas-docs/stable/user_guide/indexing.html#returning-a-view-versus-a-copy\n",
            "  \n"
          ]
        }
      ]
    },
    {
      "cell_type": "code",
      "source": [
        "polk_df.head()"
      ],
      "metadata": {
        "colab": {
          "base_uri": "https://localhost:8080/",
          "height": 484
        },
        "id": "8Wqw2Wyj9Y92",
        "outputId": "113d72c4-4215-4bf2-d219-7f8adbd7aa24"
      },
      "id": "8Wqw2Wyj9Y92",
      "execution_count": null,
      "outputs": [
        {
          "output_type": "execute_result",
          "data": {
            "text/plain": [
              "             invoice_num        date  store_num                    store_name  \\\n",
              "1028819  INV-14210900002  2018-09-04       4617                Lickety Liquor   \n",
              "5144326  INV-18421900010  2019-03-28       4136  Fareway Stores #983 / Grimes   \n",
              "5144708  INV-17877000003  2019-03-04       5338     Kum & Go #539/ NW 2nd Ave   \n",
              "5145430  INV-18136800003  2019-03-14       5698        Casey's #3746 / Grimes   \n",
              "5145724  INV-18049000028  2019-03-11       5338     Kum & Go #539/ NW 2nd Ave   \n",
              "\n",
              "                            address        city zip_code county   category  \\\n",
              "1028819            2501 HUBBELL AVE  Des Moines    50317   POLK  1031100.0   \n",
              "5144326              351 Gateway Dr      Grimes    50111   POLK  1031200.0   \n",
              "5144708             5050 NW 2nd Ave  Des Moines    50313   POLK  1031100.0   \n",
              "5145430  1650 NE Beaver Brooke Blvd      Grimes    50111   POLK  1031100.0   \n",
              "5145724             5050 NW 2nd Ave  Des Moines    50313   POLK  1031100.0   \n",
              "\n",
              "                   category_name  ...  bottle_volume bottle_cost  \\\n",
              "1028819          American Vodkas  ...            500        4.70   \n",
              "5144326  American Flavored Vodka  ...           1750       14.00   \n",
              "5144708          American Vodkas  ...            750        3.34   \n",
              "5145430          American Vodkas  ...            375        1.86   \n",
              "5145724          American Vodkas  ...            375        3.50   \n",
              "\n",
              "        bottle_retail bottles_sold  sales_usd  sales_liters  sales_gallons  \\\n",
              "1028819          7.05            6      42.30          3.00           0.79   \n",
              "5144326         21.00            6     126.00         10.50           2.77   \n",
              "5144708          5.01           12      60.12          9.00           2.37   \n",
              "5145430          2.79            9      25.11          3.37           0.89   \n",
              "5145724          5.25           10      52.50          3.75           0.99   \n",
              "\n",
              "         year  month         ds  \n",
              "1028819  2018      9 2018-09-01  \n",
              "5144326  2019      3 2019-03-01  \n",
              "5144708  2019      3 2019-03-01  \n",
              "5145430  2019      3 2019-03-01  \n",
              "5145724  2019      3 2019-03-01  \n",
              "\n",
              "[5 rows x 25 columns]"
            ],
            "text/html": [
              "\n",
              "  <div id=\"df-ca3f9662-36f4-43c4-ba0f-6c578ea7757d\">\n",
              "    <div class=\"colab-df-container\">\n",
              "      <div>\n",
              "<style scoped>\n",
              "    .dataframe tbody tr th:only-of-type {\n",
              "        vertical-align: middle;\n",
              "    }\n",
              "\n",
              "    .dataframe tbody tr th {\n",
              "        vertical-align: top;\n",
              "    }\n",
              "\n",
              "    .dataframe thead th {\n",
              "        text-align: right;\n",
              "    }\n",
              "</style>\n",
              "<table border=\"1\" class=\"dataframe\">\n",
              "  <thead>\n",
              "    <tr style=\"text-align: right;\">\n",
              "      <th></th>\n",
              "      <th>invoice_num</th>\n",
              "      <th>date</th>\n",
              "      <th>store_num</th>\n",
              "      <th>store_name</th>\n",
              "      <th>address</th>\n",
              "      <th>city</th>\n",
              "      <th>zip_code</th>\n",
              "      <th>county</th>\n",
              "      <th>category</th>\n",
              "      <th>category_name</th>\n",
              "      <th>...</th>\n",
              "      <th>bottle_volume</th>\n",
              "      <th>bottle_cost</th>\n",
              "      <th>bottle_retail</th>\n",
              "      <th>bottles_sold</th>\n",
              "      <th>sales_usd</th>\n",
              "      <th>sales_liters</th>\n",
              "      <th>sales_gallons</th>\n",
              "      <th>year</th>\n",
              "      <th>month</th>\n",
              "      <th>ds</th>\n",
              "    </tr>\n",
              "  </thead>\n",
              "  <tbody>\n",
              "    <tr>\n",
              "      <th>1028819</th>\n",
              "      <td>INV-14210900002</td>\n",
              "      <td>2018-09-04</td>\n",
              "      <td>4617</td>\n",
              "      <td>Lickety Liquor</td>\n",
              "      <td>2501 HUBBELL AVE</td>\n",
              "      <td>Des Moines</td>\n",
              "      <td>50317</td>\n",
              "      <td>POLK</td>\n",
              "      <td>1031100.0</td>\n",
              "      <td>American Vodkas</td>\n",
              "      <td>...</td>\n",
              "      <td>500</td>\n",
              "      <td>4.70</td>\n",
              "      <td>7.05</td>\n",
              "      <td>6</td>\n",
              "      <td>42.30</td>\n",
              "      <td>3.00</td>\n",
              "      <td>0.79</td>\n",
              "      <td>2018</td>\n",
              "      <td>9</td>\n",
              "      <td>2018-09-01</td>\n",
              "    </tr>\n",
              "    <tr>\n",
              "      <th>5144326</th>\n",
              "      <td>INV-18421900010</td>\n",
              "      <td>2019-03-28</td>\n",
              "      <td>4136</td>\n",
              "      <td>Fareway Stores #983 / Grimes</td>\n",
              "      <td>351 Gateway Dr</td>\n",
              "      <td>Grimes</td>\n",
              "      <td>50111</td>\n",
              "      <td>POLK</td>\n",
              "      <td>1031200.0</td>\n",
              "      <td>American Flavored Vodka</td>\n",
              "      <td>...</td>\n",
              "      <td>1750</td>\n",
              "      <td>14.00</td>\n",
              "      <td>21.00</td>\n",
              "      <td>6</td>\n",
              "      <td>126.00</td>\n",
              "      <td>10.50</td>\n",
              "      <td>2.77</td>\n",
              "      <td>2019</td>\n",
              "      <td>3</td>\n",
              "      <td>2019-03-01</td>\n",
              "    </tr>\n",
              "    <tr>\n",
              "      <th>5144708</th>\n",
              "      <td>INV-17877000003</td>\n",
              "      <td>2019-03-04</td>\n",
              "      <td>5338</td>\n",
              "      <td>Kum &amp; Go #539/ NW 2nd Ave</td>\n",
              "      <td>5050 NW 2nd Ave</td>\n",
              "      <td>Des Moines</td>\n",
              "      <td>50313</td>\n",
              "      <td>POLK</td>\n",
              "      <td>1031100.0</td>\n",
              "      <td>American Vodkas</td>\n",
              "      <td>...</td>\n",
              "      <td>750</td>\n",
              "      <td>3.34</td>\n",
              "      <td>5.01</td>\n",
              "      <td>12</td>\n",
              "      <td>60.12</td>\n",
              "      <td>9.00</td>\n",
              "      <td>2.37</td>\n",
              "      <td>2019</td>\n",
              "      <td>3</td>\n",
              "      <td>2019-03-01</td>\n",
              "    </tr>\n",
              "    <tr>\n",
              "      <th>5145430</th>\n",
              "      <td>INV-18136800003</td>\n",
              "      <td>2019-03-14</td>\n",
              "      <td>5698</td>\n",
              "      <td>Casey's #3746 / Grimes</td>\n",
              "      <td>1650 NE Beaver Brooke Blvd</td>\n",
              "      <td>Grimes</td>\n",
              "      <td>50111</td>\n",
              "      <td>POLK</td>\n",
              "      <td>1031100.0</td>\n",
              "      <td>American Vodkas</td>\n",
              "      <td>...</td>\n",
              "      <td>375</td>\n",
              "      <td>1.86</td>\n",
              "      <td>2.79</td>\n",
              "      <td>9</td>\n",
              "      <td>25.11</td>\n",
              "      <td>3.37</td>\n",
              "      <td>0.89</td>\n",
              "      <td>2019</td>\n",
              "      <td>3</td>\n",
              "      <td>2019-03-01</td>\n",
              "    </tr>\n",
              "    <tr>\n",
              "      <th>5145724</th>\n",
              "      <td>INV-18049000028</td>\n",
              "      <td>2019-03-11</td>\n",
              "      <td>5338</td>\n",
              "      <td>Kum &amp; Go #539/ NW 2nd Ave</td>\n",
              "      <td>5050 NW 2nd Ave</td>\n",
              "      <td>Des Moines</td>\n",
              "      <td>50313</td>\n",
              "      <td>POLK</td>\n",
              "      <td>1031100.0</td>\n",
              "      <td>American Vodkas</td>\n",
              "      <td>...</td>\n",
              "      <td>375</td>\n",
              "      <td>3.50</td>\n",
              "      <td>5.25</td>\n",
              "      <td>10</td>\n",
              "      <td>52.50</td>\n",
              "      <td>3.75</td>\n",
              "      <td>0.99</td>\n",
              "      <td>2019</td>\n",
              "      <td>3</td>\n",
              "      <td>2019-03-01</td>\n",
              "    </tr>\n",
              "  </tbody>\n",
              "</table>\n",
              "<p>5 rows × 25 columns</p>\n",
              "</div>\n",
              "      <button class=\"colab-df-convert\" onclick=\"convertToInteractive('df-ca3f9662-36f4-43c4-ba0f-6c578ea7757d')\"\n",
              "              title=\"Convert this dataframe to an interactive table.\"\n",
              "              style=\"display:none;\">\n",
              "        \n",
              "  <svg xmlns=\"http://www.w3.org/2000/svg\" height=\"24px\"viewBox=\"0 0 24 24\"\n",
              "       width=\"24px\">\n",
              "    <path d=\"M0 0h24v24H0V0z\" fill=\"none\"/>\n",
              "    <path d=\"M18.56 5.44l.94 2.06.94-2.06 2.06-.94-2.06-.94-.94-2.06-.94 2.06-2.06.94zm-11 1L8.5 8.5l.94-2.06 2.06-.94-2.06-.94L8.5 2.5l-.94 2.06-2.06.94zm10 10l.94 2.06.94-2.06 2.06-.94-2.06-.94-.94-2.06-.94 2.06-2.06.94z\"/><path d=\"M17.41 7.96l-1.37-1.37c-.4-.4-.92-.59-1.43-.59-.52 0-1.04.2-1.43.59L10.3 9.45l-7.72 7.72c-.78.78-.78 2.05 0 2.83L4 21.41c.39.39.9.59 1.41.59.51 0 1.02-.2 1.41-.59l7.78-7.78 2.81-2.81c.8-.78.8-2.07 0-2.86zM5.41 20L4 18.59l7.72-7.72 1.47 1.35L5.41 20z\"/>\n",
              "  </svg>\n",
              "      </button>\n",
              "      \n",
              "  <style>\n",
              "    .colab-df-container {\n",
              "      display:flex;\n",
              "      flex-wrap:wrap;\n",
              "      gap: 12px;\n",
              "    }\n",
              "\n",
              "    .colab-df-convert {\n",
              "      background-color: #E8F0FE;\n",
              "      border: none;\n",
              "      border-radius: 50%;\n",
              "      cursor: pointer;\n",
              "      display: none;\n",
              "      fill: #1967D2;\n",
              "      height: 32px;\n",
              "      padding: 0 0 0 0;\n",
              "      width: 32px;\n",
              "    }\n",
              "\n",
              "    .colab-df-convert:hover {\n",
              "      background-color: #E2EBFA;\n",
              "      box-shadow: 0px 1px 2px rgba(60, 64, 67, 0.3), 0px 1px 3px 1px rgba(60, 64, 67, 0.15);\n",
              "      fill: #174EA6;\n",
              "    }\n",
              "\n",
              "    [theme=dark] .colab-df-convert {\n",
              "      background-color: #3B4455;\n",
              "      fill: #D2E3FC;\n",
              "    }\n",
              "\n",
              "    [theme=dark] .colab-df-convert:hover {\n",
              "      background-color: #434B5C;\n",
              "      box-shadow: 0px 1px 3px 1px rgba(0, 0, 0, 0.15);\n",
              "      filter: drop-shadow(0px 1px 2px rgba(0, 0, 0, 0.3));\n",
              "      fill: #FFFFFF;\n",
              "    }\n",
              "  </style>\n",
              "\n",
              "      <script>\n",
              "        const buttonEl =\n",
              "          document.querySelector('#df-ca3f9662-36f4-43c4-ba0f-6c578ea7757d button.colab-df-convert');\n",
              "        buttonEl.style.display =\n",
              "          google.colab.kernel.accessAllowed ? 'block' : 'none';\n",
              "\n",
              "        async function convertToInteractive(key) {\n",
              "          const element = document.querySelector('#df-ca3f9662-36f4-43c4-ba0f-6c578ea7757d');\n",
              "          const dataTable =\n",
              "            await google.colab.kernel.invokeFunction('convertToInteractive',\n",
              "                                                     [key], {});\n",
              "          if (!dataTable) return;\n",
              "\n",
              "          const docLinkHtml = 'Like what you see? Visit the ' +\n",
              "            '<a target=\"_blank\" href=https://colab.research.google.com/notebooks/data_table.ipynb>data table notebook</a>'\n",
              "            + ' to learn more about interactive tables.';\n",
              "          element.innerHTML = '';\n",
              "          dataTable['output_type'] = 'display_data';\n",
              "          await google.colab.output.renderOutput(dataTable, element);\n",
              "          const docLink = document.createElement('div');\n",
              "          docLink.innerHTML = docLinkHtml;\n",
              "          element.appendChild(docLink);\n",
              "        }\n",
              "      </script>\n",
              "    </div>\n",
              "  </div>\n",
              "  "
            ]
          },
          "metadata": {},
          "execution_count": 16
        }
      ]
    },
    {
      "cell_type": "code",
      "source": [
        "# group by ds\n",
        "polk_df = polk_df.groupby(['ds']).sales_usd.sum().reset_index()"
      ],
      "metadata": {
        "id": "jlEhE3Nx9dWl"
      },
      "id": "jlEhE3Nx9dWl",
      "execution_count": null,
      "outputs": []
    },
    {
      "cell_type": "code",
      "source": [
        "polk_df.head()"
      ],
      "metadata": {
        "colab": {
          "base_uri": "https://localhost:8080/",
          "height": 204
        },
        "id": "nZG83FG49wbr",
        "outputId": "e2d50e9e-7ac9-44d4-d15e-f13b5a212689"
      },
      "id": "nZG83FG49wbr",
      "execution_count": null,
      "outputs": [
        {
          "output_type": "execute_result",
          "data": {
            "text/plain": [
              "          ds   sales_usd\n",
              "0 2018-01-01  1185550.24\n",
              "1 2018-02-01  1345511.36\n",
              "2 2018-03-01  1512580.09\n",
              "3 2018-04-01  1512348.58\n",
              "4 2018-05-01  1787986.46"
            ],
            "text/html": [
              "\n",
              "  <div id=\"df-fd899b58-587a-44e7-a840-f78c1617baea\">\n",
              "    <div class=\"colab-df-container\">\n",
              "      <div>\n",
              "<style scoped>\n",
              "    .dataframe tbody tr th:only-of-type {\n",
              "        vertical-align: middle;\n",
              "    }\n",
              "\n",
              "    .dataframe tbody tr th {\n",
              "        vertical-align: top;\n",
              "    }\n",
              "\n",
              "    .dataframe thead th {\n",
              "        text-align: right;\n",
              "    }\n",
              "</style>\n",
              "<table border=\"1\" class=\"dataframe\">\n",
              "  <thead>\n",
              "    <tr style=\"text-align: right;\">\n",
              "      <th></th>\n",
              "      <th>ds</th>\n",
              "      <th>sales_usd</th>\n",
              "    </tr>\n",
              "  </thead>\n",
              "  <tbody>\n",
              "    <tr>\n",
              "      <th>0</th>\n",
              "      <td>2018-01-01</td>\n",
              "      <td>1185550.24</td>\n",
              "    </tr>\n",
              "    <tr>\n",
              "      <th>1</th>\n",
              "      <td>2018-02-01</td>\n",
              "      <td>1345511.36</td>\n",
              "    </tr>\n",
              "    <tr>\n",
              "      <th>2</th>\n",
              "      <td>2018-03-01</td>\n",
              "      <td>1512580.09</td>\n",
              "    </tr>\n",
              "    <tr>\n",
              "      <th>3</th>\n",
              "      <td>2018-04-01</td>\n",
              "      <td>1512348.58</td>\n",
              "    </tr>\n",
              "    <tr>\n",
              "      <th>4</th>\n",
              "      <td>2018-05-01</td>\n",
              "      <td>1787986.46</td>\n",
              "    </tr>\n",
              "  </tbody>\n",
              "</table>\n",
              "</div>\n",
              "      <button class=\"colab-df-convert\" onclick=\"convertToInteractive('df-fd899b58-587a-44e7-a840-f78c1617baea')\"\n",
              "              title=\"Convert this dataframe to an interactive table.\"\n",
              "              style=\"display:none;\">\n",
              "        \n",
              "  <svg xmlns=\"http://www.w3.org/2000/svg\" height=\"24px\"viewBox=\"0 0 24 24\"\n",
              "       width=\"24px\">\n",
              "    <path d=\"M0 0h24v24H0V0z\" fill=\"none\"/>\n",
              "    <path d=\"M18.56 5.44l.94 2.06.94-2.06 2.06-.94-2.06-.94-.94-2.06-.94 2.06-2.06.94zm-11 1L8.5 8.5l.94-2.06 2.06-.94-2.06-.94L8.5 2.5l-.94 2.06-2.06.94zm10 10l.94 2.06.94-2.06 2.06-.94-2.06-.94-.94-2.06-.94 2.06-2.06.94z\"/><path d=\"M17.41 7.96l-1.37-1.37c-.4-.4-.92-.59-1.43-.59-.52 0-1.04.2-1.43.59L10.3 9.45l-7.72 7.72c-.78.78-.78 2.05 0 2.83L4 21.41c.39.39.9.59 1.41.59.51 0 1.02-.2 1.41-.59l7.78-7.78 2.81-2.81c.8-.78.8-2.07 0-2.86zM5.41 20L4 18.59l7.72-7.72 1.47 1.35L5.41 20z\"/>\n",
              "  </svg>\n",
              "      </button>\n",
              "      \n",
              "  <style>\n",
              "    .colab-df-container {\n",
              "      display:flex;\n",
              "      flex-wrap:wrap;\n",
              "      gap: 12px;\n",
              "    }\n",
              "\n",
              "    .colab-df-convert {\n",
              "      background-color: #E8F0FE;\n",
              "      border: none;\n",
              "      border-radius: 50%;\n",
              "      cursor: pointer;\n",
              "      display: none;\n",
              "      fill: #1967D2;\n",
              "      height: 32px;\n",
              "      padding: 0 0 0 0;\n",
              "      width: 32px;\n",
              "    }\n",
              "\n",
              "    .colab-df-convert:hover {\n",
              "      background-color: #E2EBFA;\n",
              "      box-shadow: 0px 1px 2px rgba(60, 64, 67, 0.3), 0px 1px 3px 1px rgba(60, 64, 67, 0.15);\n",
              "      fill: #174EA6;\n",
              "    }\n",
              "\n",
              "    [theme=dark] .colab-df-convert {\n",
              "      background-color: #3B4455;\n",
              "      fill: #D2E3FC;\n",
              "    }\n",
              "\n",
              "    [theme=dark] .colab-df-convert:hover {\n",
              "      background-color: #434B5C;\n",
              "      box-shadow: 0px 1px 3px 1px rgba(0, 0, 0, 0.15);\n",
              "      filter: drop-shadow(0px 1px 2px rgba(0, 0, 0, 0.3));\n",
              "      fill: #FFFFFF;\n",
              "    }\n",
              "  </style>\n",
              "\n",
              "      <script>\n",
              "        const buttonEl =\n",
              "          document.querySelector('#df-fd899b58-587a-44e7-a840-f78c1617baea button.colab-df-convert');\n",
              "        buttonEl.style.display =\n",
              "          google.colab.kernel.accessAllowed ? 'block' : 'none';\n",
              "\n",
              "        async function convertToInteractive(key) {\n",
              "          const element = document.querySelector('#df-fd899b58-587a-44e7-a840-f78c1617baea');\n",
              "          const dataTable =\n",
              "            await google.colab.kernel.invokeFunction('convertToInteractive',\n",
              "                                                     [key], {});\n",
              "          if (!dataTable) return;\n",
              "\n",
              "          const docLinkHtml = 'Like what you see? Visit the ' +\n",
              "            '<a target=\"_blank\" href=https://colab.research.google.com/notebooks/data_table.ipynb>data table notebook</a>'\n",
              "            + ' to learn more about interactive tables.';\n",
              "          element.innerHTML = '';\n",
              "          dataTable['output_type'] = 'display_data';\n",
              "          await google.colab.output.renderOutput(dataTable, element);\n",
              "          const docLink = document.createElement('div');\n",
              "          docLink.innerHTML = docLinkHtml;\n",
              "          element.appendChild(docLink);\n",
              "        }\n",
              "      </script>\n",
              "    </div>\n",
              "  </div>\n",
              "  "
            ]
          },
          "metadata": {},
          "execution_count": 18
        }
      ]
    },
    {
      "cell_type": "code",
      "source": [
        "polk_df.columns = ['ds', 'y']\n",
        "polk_df.head()"
      ],
      "metadata": {
        "colab": {
          "base_uri": "https://localhost:8080/",
          "height": 204
        },
        "id": "q-1NsDym9yL2",
        "outputId": "e4c3aef0-6130-4edb-fc18-4d14efbc428a"
      },
      "id": "q-1NsDym9yL2",
      "execution_count": null,
      "outputs": [
        {
          "output_type": "execute_result",
          "data": {
            "text/plain": [
              "          ds           y\n",
              "0 2018-01-01  1185550.24\n",
              "1 2018-02-01  1345511.36\n",
              "2 2018-03-01  1512580.09\n",
              "3 2018-04-01  1512348.58\n",
              "4 2018-05-01  1787986.46"
            ],
            "text/html": [
              "\n",
              "  <div id=\"df-153bfaaf-6db6-4001-b13b-ddce52ae0e67\">\n",
              "    <div class=\"colab-df-container\">\n",
              "      <div>\n",
              "<style scoped>\n",
              "    .dataframe tbody tr th:only-of-type {\n",
              "        vertical-align: middle;\n",
              "    }\n",
              "\n",
              "    .dataframe tbody tr th {\n",
              "        vertical-align: top;\n",
              "    }\n",
              "\n",
              "    .dataframe thead th {\n",
              "        text-align: right;\n",
              "    }\n",
              "</style>\n",
              "<table border=\"1\" class=\"dataframe\">\n",
              "  <thead>\n",
              "    <tr style=\"text-align: right;\">\n",
              "      <th></th>\n",
              "      <th>ds</th>\n",
              "      <th>y</th>\n",
              "    </tr>\n",
              "  </thead>\n",
              "  <tbody>\n",
              "    <tr>\n",
              "      <th>0</th>\n",
              "      <td>2018-01-01</td>\n",
              "      <td>1185550.24</td>\n",
              "    </tr>\n",
              "    <tr>\n",
              "      <th>1</th>\n",
              "      <td>2018-02-01</td>\n",
              "      <td>1345511.36</td>\n",
              "    </tr>\n",
              "    <tr>\n",
              "      <th>2</th>\n",
              "      <td>2018-03-01</td>\n",
              "      <td>1512580.09</td>\n",
              "    </tr>\n",
              "    <tr>\n",
              "      <th>3</th>\n",
              "      <td>2018-04-01</td>\n",
              "      <td>1512348.58</td>\n",
              "    </tr>\n",
              "    <tr>\n",
              "      <th>4</th>\n",
              "      <td>2018-05-01</td>\n",
              "      <td>1787986.46</td>\n",
              "    </tr>\n",
              "  </tbody>\n",
              "</table>\n",
              "</div>\n",
              "      <button class=\"colab-df-convert\" onclick=\"convertToInteractive('df-153bfaaf-6db6-4001-b13b-ddce52ae0e67')\"\n",
              "              title=\"Convert this dataframe to an interactive table.\"\n",
              "              style=\"display:none;\">\n",
              "        \n",
              "  <svg xmlns=\"http://www.w3.org/2000/svg\" height=\"24px\"viewBox=\"0 0 24 24\"\n",
              "       width=\"24px\">\n",
              "    <path d=\"M0 0h24v24H0V0z\" fill=\"none\"/>\n",
              "    <path d=\"M18.56 5.44l.94 2.06.94-2.06 2.06-.94-2.06-.94-.94-2.06-.94 2.06-2.06.94zm-11 1L8.5 8.5l.94-2.06 2.06-.94-2.06-.94L8.5 2.5l-.94 2.06-2.06.94zm10 10l.94 2.06.94-2.06 2.06-.94-2.06-.94-.94-2.06-.94 2.06-2.06.94z\"/><path d=\"M17.41 7.96l-1.37-1.37c-.4-.4-.92-.59-1.43-.59-.52 0-1.04.2-1.43.59L10.3 9.45l-7.72 7.72c-.78.78-.78 2.05 0 2.83L4 21.41c.39.39.9.59 1.41.59.51 0 1.02-.2 1.41-.59l7.78-7.78 2.81-2.81c.8-.78.8-2.07 0-2.86zM5.41 20L4 18.59l7.72-7.72 1.47 1.35L5.41 20z\"/>\n",
              "  </svg>\n",
              "      </button>\n",
              "      \n",
              "  <style>\n",
              "    .colab-df-container {\n",
              "      display:flex;\n",
              "      flex-wrap:wrap;\n",
              "      gap: 12px;\n",
              "    }\n",
              "\n",
              "    .colab-df-convert {\n",
              "      background-color: #E8F0FE;\n",
              "      border: none;\n",
              "      border-radius: 50%;\n",
              "      cursor: pointer;\n",
              "      display: none;\n",
              "      fill: #1967D2;\n",
              "      height: 32px;\n",
              "      padding: 0 0 0 0;\n",
              "      width: 32px;\n",
              "    }\n",
              "\n",
              "    .colab-df-convert:hover {\n",
              "      background-color: #E2EBFA;\n",
              "      box-shadow: 0px 1px 2px rgba(60, 64, 67, 0.3), 0px 1px 3px 1px rgba(60, 64, 67, 0.15);\n",
              "      fill: #174EA6;\n",
              "    }\n",
              "\n",
              "    [theme=dark] .colab-df-convert {\n",
              "      background-color: #3B4455;\n",
              "      fill: #D2E3FC;\n",
              "    }\n",
              "\n",
              "    [theme=dark] .colab-df-convert:hover {\n",
              "      background-color: #434B5C;\n",
              "      box-shadow: 0px 1px 3px 1px rgba(0, 0, 0, 0.15);\n",
              "      filter: drop-shadow(0px 1px 2px rgba(0, 0, 0, 0.3));\n",
              "      fill: #FFFFFF;\n",
              "    }\n",
              "  </style>\n",
              "\n",
              "      <script>\n",
              "        const buttonEl =\n",
              "          document.querySelector('#df-153bfaaf-6db6-4001-b13b-ddce52ae0e67 button.colab-df-convert');\n",
              "        buttonEl.style.display =\n",
              "          google.colab.kernel.accessAllowed ? 'block' : 'none';\n",
              "\n",
              "        async function convertToInteractive(key) {\n",
              "          const element = document.querySelector('#df-153bfaaf-6db6-4001-b13b-ddce52ae0e67');\n",
              "          const dataTable =\n",
              "            await google.colab.kernel.invokeFunction('convertToInteractive',\n",
              "                                                     [key], {});\n",
              "          if (!dataTable) return;\n",
              "\n",
              "          const docLinkHtml = 'Like what you see? Visit the ' +\n",
              "            '<a target=\"_blank\" href=https://colab.research.google.com/notebooks/data_table.ipynb>data table notebook</a>'\n",
              "            + ' to learn more about interactive tables.';\n",
              "          element.innerHTML = '';\n",
              "          dataTable['output_type'] = 'display_data';\n",
              "          await google.colab.output.renderOutput(dataTable, element);\n",
              "          const docLink = document.createElement('div');\n",
              "          docLink.innerHTML = docLinkHtml;\n",
              "          element.appendChild(docLink);\n",
              "        }\n",
              "      </script>\n",
              "    </div>\n",
              "  </div>\n",
              "  "
            ]
          },
          "metadata": {},
          "execution_count": 19
        }
      ]
    },
    {
      "cell_type": "code",
      "source": [
        "import warnings;\n",
        "warnings.simplefilter('ignore')"
      ],
      "metadata": {
        "id": "zF8kQyxa9-4D"
      },
      "id": "zF8kQyxa9-4D",
      "execution_count": null,
      "outputs": []
    },
    {
      "cell_type": "code",
      "source": [
        "polk_df.info()"
      ],
      "metadata": {
        "colab": {
          "base_uri": "https://localhost:8080/"
        },
        "id": "ke5EgPe1-EHO",
        "outputId": "e10b8e15-9f1d-4eb2-c38b-5ddec4b9ca7b"
      },
      "id": "ke5EgPe1-EHO",
      "execution_count": null,
      "outputs": [
        {
          "output_type": "stream",
          "name": "stdout",
          "text": [
            "<class 'pandas.core.frame.DataFrame'>\n",
            "RangeIndex: 55 entries, 0 to 54\n",
            "Data columns (total 2 columns):\n",
            " #   Column  Non-Null Count  Dtype         \n",
            "---  ------  --------------  -----         \n",
            " 0   ds      55 non-null     datetime64[ns]\n",
            " 1   y       55 non-null     float64       \n",
            "dtypes: datetime64[ns](1), float64(1)\n",
            "memory usage: 1008.0 bytes\n"
          ]
        }
      ]
    },
    {
      "cell_type": "code",
      "source": [
        "# plot past time series data\n",
        "polk_df.plot(x='ds', y='y', figsize=(20, 5), title='Time Series Data')"
      ],
      "metadata": {
        "colab": {
          "base_uri": "https://localhost:8080/",
          "height": 353
        },
        "id": "QA7i3zZu-HSa",
        "outputId": "d9bfd02b-2f45-4684-8c1e-3d9ac0ffce40"
      },
      "id": "QA7i3zZu-HSa",
      "execution_count": null,
      "outputs": [
        {
          "output_type": "execute_result",
          "data": {
            "text/plain": [
              "<matplotlib.axes._subplots.AxesSubplot at 0x7fb66d6ac8d0>"
            ]
          },
          "metadata": {},
          "execution_count": 22
        },
        {
          "output_type": "display_data",
          "data": {
            "text/plain": [
              "<Figure size 1440x360 with 1 Axes>"
            ],
            "image/png": "[encoded data removed]"
          },
          "metadata": {
            "needs_background": "light"
          }
        }
      ]
    },
    {
      "cell_type": "markdown",
      "source": [
        "## Train Model with Prophet Using Test Data to Compare Accuracy"
      ],
      "metadata": {
        "id": "1o5509TK-g3b"
      },
      "id": "1o5509TK-g3b"
    },
    {
      "cell_type": "code",
      "source": [
        "df_tr = polk_df[polk_df['ds'] < '2021-01-01']\n",
        "df_pr = polk_df[(polk_df['ds'] >= '2021-01-01') & (polk_df['ds'] < '2022-01-01')]\n",
        "df_tr.shape, df_pr.shape"
      ],
      "metadata": {
        "colab": {
          "base_uri": "https://localhost:8080/"
        },
        "id": "BK3H42Oq-c_j",
        "outputId": "55b06d70-d269-4d3b-afb4-2f6a1119ff60"
      },
      "id": "BK3H42Oq-c_j",
      "execution_count": null,
      "outputs": [
        {
          "output_type": "execute_result",
          "data": {
            "text/plain": [
              "((36, 2), (12, 2))"
            ]
          },
          "metadata": {},
          "execution_count": 40
        }
      ]
    },
    {
      "cell_type": "code",
      "source": [
        "m = Prophet()\n",
        "m.fit(df_tr)\n",
        "future = m.make_future_dataframe(periods=12, freq='MS')\n",
        "forecast = m.predict(future)\n",
        "\n",
        "forecast.head()"
      ],
      "metadata": {
        "colab": {
          "base_uri": "https://localhost:8080/",
          "height": 387
        },
        "id": "RDxJlBtf_UAF",
        "outputId": "834ea9b8-f65d-4f90-a602-60db1c8f6d0a"
      },
      "id": "RDxJlBtf_UAF",
      "execution_count": null,
      "outputs": [
        {
          "output_type": "stream",
          "name": "stderr",
          "text": [
            "INFO:fbprophet:Disabling weekly seasonality. Run prophet with weekly_seasonality=True to override this.\n",
            "INFO:fbprophet:Disabling daily seasonality. Run prophet with daily_seasonality=True to override this.\n"
          ]
        },
        {
          "output_type": "execute_result",
          "data": {
            "text/plain": [
              "          ds         trend    yhat_lower    yhat_upper   trend_lower  \\\n",
              "0 2018-01-01  1.602401e+06  1.126772e+06  1.313558e+06  1.602401e+06   \n",
              "1 2018-02-01  1.604747e+06  1.258116e+06  1.458680e+06  1.604747e+06   \n",
              "2 2018-03-01  1.606866e+06  1.345077e+06  1.525847e+06  1.606866e+06   \n",
              "3 2018-04-01  1.609212e+06  1.392453e+06  1.579397e+06  1.609212e+06   \n",
              "4 2018-05-01  1.611483e+06  1.700866e+06  1.884372e+06  1.611483e+06   \n",
              "\n",
              "    trend_upper  additive_terms  additive_terms_lower  additive_terms_upper  \\\n",
              "0  1.602401e+06  -383166.116810        -383166.116810        -383166.116810   \n",
              "1  1.604747e+06  -245824.283542        -245824.283542        -245824.283542   \n",
              "2  1.606866e+06  -172065.624902        -172065.624902        -172065.624902   \n",
              "3  1.609212e+06  -116467.082470        -116467.082470        -116467.082470   \n",
              "4  1.611483e+06   181904.166437         181904.166437         181904.166437   \n",
              "\n",
              "          yearly   yearly_lower   yearly_upper  multiplicative_terms  \\\n",
              "0 -383166.116810 -383166.116810 -383166.116810                   0.0   \n",
              "1 -245824.283542 -245824.283542 -245824.283542                   0.0   \n",
              "2 -172065.624902 -172065.624902 -172065.624902                   0.0   \n",
              "3 -116467.082470 -116467.082470 -116467.082470                   0.0   \n",
              "4  181904.166437  181904.166437  181904.166437                   0.0   \n",
              "\n",
              "   multiplicative_terms_lower  multiplicative_terms_upper          yhat  \n",
              "0                         0.0                         0.0  1.219234e+06  \n",
              "1                         0.0                         0.0  1.358923e+06  \n",
              "2                         0.0                         0.0  1.434800e+06  \n",
              "3                         0.0                         0.0  1.492745e+06  \n",
              "4                         0.0                         0.0  1.793387e+06  "
            ],
            "text/html": [
              "\n",
              "  <div id=\"df-a9a5153b-1b4d-4093-aaf7-bd7b3e488b56\">\n",
              "    <div class=\"colab-df-container\">\n",
              "      <div>\n",
              "<style scoped>\n",
              "    .dataframe tbody tr th:only-of-type {\n",
              "        vertical-align: middle;\n",
              "    }\n",
              "\n",
              "    .dataframe tbody tr th {\n",
              "        vertical-align: top;\n",
              "    }\n",
              "\n",
              "    .dataframe thead th {\n",
              "        text-align: right;\n",
              "    }\n",
              "</style>\n",
              "<table border=\"1\" class=\"dataframe\">\n",
              "  <thead>\n",
              "    <tr style=\"text-align: right;\">\n",
              "      <th></th>\n",
              "      <th>ds</th>\n",
              "      <th>trend</th>\n",
              "      <th>yhat_lower</th>\n",
              "      <th>yhat_upper</th>\n",
              "      <th>trend_lower</th>\n",
              "      <th>trend_upper</th>\n",
              "      <th>additive_terms</th>\n",
              "      <th>additive_terms_lower</th>\n",
              "      <th>additive_terms_upper</th>\n",
              "      <th>yearly</th>\n",
              "      <th>yearly_lower</th>\n",
              "      <th>yearly_upper</th>\n",
              "      <th>multiplicative_terms</th>\n",
              "      <th>multiplicative_terms_lower</th>\n",
              "      <th>multiplicative_terms_upper</th>\n",
              "      <th>yhat</th>\n",
              "    </tr>\n",
              "  </thead>\n",
              "  <tbody>\n",
              "    <tr>\n",
              "      <th>0</th>\n",
              "      <td>2018-01-01</td>\n",
              "      <td>1.602401e+06</td>\n",
              "      <td>1.126772e+06</td>\n",
              "      <td>1.313558e+06</td>\n",
              "      <td>1.602401e+06</td>\n",
              "      <td>1.602401e+06</td>\n",
              "      <td>-383166.116810</td>\n",
              "      <td>-383166.116810</td>\n",
              "      <td>-383166.116810</td>\n",
              "      <td>-383166.116810</td>\n",
              "      <td>-383166.116810</td>\n",
              "      <td>-383166.116810</td>\n",
              "      <td>0.0</td>\n",
              "      <td>0.0</td>\n",
              "      <td>0.0</td>\n",
              "      <td>1.219234e+06</td>\n",
              "    </tr>\n",
              "    <tr>\n",
              "      <th>1</th>\n",
              "      <td>2018-02-01</td>\n",
              "      <td>1.604747e+06</td>\n",
              "      <td>1.258116e+06</td>\n",
              "      <td>1.458680e+06</td>\n",
              "      <td>1.604747e+06</td>\n",
              "      <td>1.604747e+06</td>\n",
              "      <td>-245824.283542</td>\n",
              "      <td>-245824.283542</td>\n",
              "      <td>-245824.283542</td>\n",
              "      <td>-245824.283542</td>\n",
              "      <td>-245824.283542</td>\n",
              "      <td>-245824.283542</td>\n",
              "      <td>0.0</td>\n",
              "      <td>0.0</td>\n",
              "      <td>0.0</td>\n",
              "      <td>1.358923e+06</td>\n",
              "    </tr>\n",
              "    <tr>\n",
              "      <th>2</th>\n",
              "      <td>2018-03-01</td>\n",
              "      <td>1.606866e+06</td>\n",
              "      <td>1.345077e+06</td>\n",
              "      <td>1.525847e+06</td>\n",
              "      <td>1.606866e+06</td>\n",
              "      <td>1.606866e+06</td>\n",
              "      <td>-172065.624902</td>\n",
              "      <td>-172065.624902</td>\n",
              "      <td>-172065.624902</td>\n",
              "      <td>-172065.624902</td>\n",
              "      <td>-172065.624902</td>\n",
              "      <td>-172065.624902</td>\n",
              "      <td>0.0</td>\n",
              "      <td>0.0</td>\n",
              "      <td>0.0</td>\n",
              "      <td>1.434800e+06</td>\n",
              "    </tr>\n",
              "    <tr>\n",
              "      <th>3</th>\n",
              "      <td>2018-04-01</td>\n",
              "      <td>1.609212e+06</td>\n",
              "      <td>1.392453e+06</td>\n",
              "      <td>1.579397e+06</td>\n",
              "      <td>1.609212e+06</td>\n",
              "      <td>1.609212e+06</td>\n",
              "      <td>-116467.082470</td>\n",
              "      <td>-116467.082470</td>\n",
              "      <td>-116467.082470</td>\n",
              "      <td>-116467.082470</td>\n",
              "      <td>-116467.082470</td>\n",
              "      <td>-116467.082470</td>\n",
              "      <td>0.0</td>\n",
              "      <td>0.0</td>\n",
              "      <td>0.0</td>\n",
              "      <td>1.492745e+06</td>\n",
              "    </tr>\n",
              "    <tr>\n",
              "      <th>4</th>\n",
              "      <td>2018-05-01</td>\n",
              "      <td>1.611483e+06</td>\n",
              "      <td>1.700866e+06</td>\n",
              "      <td>1.884372e+06</td>\n",
              "      <td>1.611483e+06</td>\n",
              "      <td>1.611483e+06</td>\n",
              "      <td>181904.166437</td>\n",
              "      <td>181904.166437</td>\n",
              "      <td>181904.166437</td>\n",
              "      <td>181904.166437</td>\n",
              "      <td>181904.166437</td>\n",
              "      <td>181904.166437</td>\n",
              "      <td>0.0</td>\n",
              "      <td>0.0</td>\n",
              "      <td>0.0</td>\n",
              "      <td>1.793387e+06</td>\n",
              "    </tr>\n",
              "  </tbody>\n",
              "</table>\n",
              "</div>\n",
              "      <button class=\"colab-df-convert\" onclick=\"convertToInteractive('df-a9a5153b-1b4d-4093-aaf7-bd7b3e488b56')\"\n",
              "              title=\"Convert this dataframe to an interactive table.\"\n",
              "              style=\"display:none;\">\n",
              "        \n",
              "  <svg xmlns=\"http://www.w3.org/2000/svg\" height=\"24px\"viewBox=\"0 0 24 24\"\n",
              "       width=\"24px\">\n",
              "    <path d=\"M0 0h24v24H0V0z\" fill=\"none\"/>\n",
              "    <path d=\"M18.56 5.44l.94 2.06.94-2.06 2.06-.94-2.06-.94-.94-2.06-.94 2.06-2.06.94zm-11 1L8.5 8.5l.94-2.06 2.06-.94-2.06-.94L8.5 2.5l-.94 2.06-2.06.94zm10 10l.94 2.06.94-2.06 2.06-.94-2.06-.94-.94-2.06-.94 2.06-2.06.94z\"/><path d=\"M17.41 7.96l-1.37-1.37c-.4-.4-.92-.59-1.43-.59-.52 0-1.04.2-1.43.59L10.3 9.45l-7.72 7.72c-.78.78-.78 2.05 0 2.83L4 21.41c.39.39.9.59 1.41.59.51 0 1.02-.2 1.41-.59l7.78-7.78 2.81-2.81c.8-.78.8-2.07 0-2.86zM5.41 20L4 18.59l7.72-7.72 1.47 1.35L5.41 20z\"/>\n",
              "  </svg>\n",
              "      </button>\n",
              "      \n",
              "  <style>\n",
              "    .colab-df-container {\n",
              "      display:flex;\n",
              "      flex-wrap:wrap;\n",
              "      gap: 12px;\n",
              "    }\n",
              "\n",
              "    .colab-df-convert {\n",
              "      background-color: #E8F0FE;\n",
              "      border: none;\n",
              "      border-radius: 50%;\n",
              "      cursor: pointer;\n",
              "      display: none;\n",
              "      fill: #1967D2;\n",
              "      height: 32px;\n",
              "      padding: 0 0 0 0;\n",
              "      width: 32px;\n",
              "    }\n",
              "\n",
              "    .colab-df-convert:hover {\n",
              "      background-color: #E2EBFA;\n",
              "      box-shadow: 0px 1px 2px rgba(60, 64, 67, 0.3), 0px 1px 3px 1px rgba(60, 64, 67, 0.15);\n",
              "      fill: #174EA6;\n",
              "    }\n",
              "\n",
              "    [theme=dark] .colab-df-convert {\n",
              "      background-color: #3B4455;\n",
              "      fill: #D2E3FC;\n",
              "    }\n",
              "\n",
              "    [theme=dark] .colab-df-convert:hover {\n",
              "      background-color: #434B5C;\n",
              "      box-shadow: 0px 1px 3px 1px rgba(0, 0, 0, 0.15);\n",
              "      filter: drop-shadow(0px 1px 2px rgba(0, 0, 0, 0.3));\n",
              "      fill: #FFFFFF;\n",
              "    }\n",
              "  </style>\n",
              "\n",
              "      <script>\n",
              "        const buttonEl =\n",
              "          document.querySelector('#df-a9a5153b-1b4d-4093-aaf7-bd7b3e488b56 button.colab-df-convert');\n",
              "        buttonEl.style.display =\n",
              "          google.colab.kernel.accessAllowed ? 'block' : 'none';\n",
              "\n",
              "        async function convertToInteractive(key) {\n",
              "          const element = document.querySelector('#df-a9a5153b-1b4d-4093-aaf7-bd7b3e488b56');\n",
              "          const dataTable =\n",
              "            await google.colab.kernel.invokeFunction('convertToInteractive',\n",
              "                                                     [key], {});\n",
              "          if (!dataTable) return;\n",
              "\n",
              "          const docLinkHtml = 'Like what you see? Visit the ' +\n",
              "            '<a target=\"_blank\" href=https://colab.research.google.com/notebooks/data_table.ipynb>data table notebook</a>'\n",
              "            + ' to learn more about interactive tables.';\n",
              "          element.innerHTML = '';\n",
              "          dataTable['output_type'] = 'display_data';\n",
              "          await google.colab.output.renderOutput(dataTable, element);\n",
              "          const docLink = document.createElement('div');\n",
              "          docLink.innerHTML = docLinkHtml;\n",
              "          element.appendChild(docLink);\n",
              "        }\n",
              "      </script>\n",
              "    </div>\n",
              "  </div>\n",
              "  "
            ]
          },
          "metadata": {},
          "execution_count": 41
        }
      ]
    },
    {
      "cell_type": "code",
      "source": [
        "forecast.tail()"
      ],
      "metadata": {
        "colab": {
          "base_uri": "https://localhost:8080/",
          "height": 353
        },
        "id": "EwhoWv5OC0D_",
        "outputId": "a0776532-7ba1-4328-9e2e-f2b1b0aca949"
      },
      "id": "EwhoWv5OC0D_",
      "execution_count": null,
      "outputs": [
        {
          "output_type": "execute_result",
          "data": {
            "text/plain": [
              "           ds         trend    yhat_lower    yhat_upper   trend_lower  \\\n",
              "43 2021-08-01  1.700542e+06  1.794946e+06  1.980093e+06  1.700513e+06   \n",
              "44 2021-09-01  1.702853e+06  1.737724e+06  1.921135e+06  1.702819e+06   \n",
              "45 2021-10-01  1.705090e+06  1.874491e+06  2.061079e+06  1.705051e+06   \n",
              "46 2021-11-01  1.707401e+06  1.393742e+06  1.576288e+06  1.707356e+06   \n",
              "47 2021-12-01  1.709638e+06  1.636148e+06  1.821241e+06  1.709585e+06   \n",
              "\n",
              "     trend_upper  additive_terms  additive_terms_lower  additive_terms_upper  \\\n",
              "43  1.700568e+06   186348.917232         186348.917232         186348.917232   \n",
              "44  1.702885e+06   124304.846265         124304.846265         124304.846265   \n",
              "45  1.705127e+06   261809.157727         261809.157727         261809.157727   \n",
              "46  1.707444e+06  -225637.613707        -225637.613707        -225637.613707   \n",
              "47  1.709687e+06    21951.195461          21951.195461          21951.195461   \n",
              "\n",
              "           yearly   yearly_lower   yearly_upper  multiplicative_terms  \\\n",
              "43  186348.917232  186348.917232  186348.917232                   0.0   \n",
              "44  124304.846265  124304.846265  124304.846265                   0.0   \n",
              "45  261809.157727  261809.157727  261809.157727                   0.0   \n",
              "46 -225637.613707 -225637.613707 -225637.613707                   0.0   \n",
              "47   21951.195461   21951.195461   21951.195461                   0.0   \n",
              "\n",
              "    multiplicative_terms_lower  multiplicative_terms_upper          yhat  \n",
              "43                         0.0                         0.0  1.886890e+06  \n",
              "44                         0.0                         0.0  1.827158e+06  \n",
              "45                         0.0                         0.0  1.966899e+06  \n",
              "46                         0.0                         0.0  1.481764e+06  \n",
              "47                         0.0                         0.0  1.731589e+06  "
            ],
            "text/html": [
              "\n",
              "  <div id=\"df-dd53c1f6-20c1-4782-9971-ea5e841c253f\">\n",
              "    <div class=\"colab-df-container\">\n",
              "      <div>\n",
              "<style scoped>\n",
              "    .dataframe tbody tr th:only-of-type {\n",
              "        vertical-align: middle;\n",
              "    }\n",
              "\n",
              "    .dataframe tbody tr th {\n",
              "        vertical-align: top;\n",
              "    }\n",
              "\n",
              "    .dataframe thead th {\n",
              "        text-align: right;\n",
              "    }\n",
              "</style>\n",
              "<table border=\"1\" class=\"dataframe\">\n",
              "  <thead>\n",
              "    <tr style=\"text-align: right;\">\n",
              "      <th></th>\n",
              "      <th>ds</th>\n",
              "      <th>trend</th>\n",
              "      <th>yhat_lower</th>\n",
              "      <th>yhat_upper</th>\n",
              "      <th>trend_lower</th>\n",
              "      <th>trend_upper</th>\n",
              "      <th>additive_terms</th>\n",
              "      <th>additive_terms_lower</th>\n",
              "      <th>additive_terms_upper</th>\n",
              "      <th>yearly</th>\n",
              "      <th>yearly_lower</th>\n",
              "      <th>yearly_upper</th>\n",
              "      <th>multiplicative_terms</th>\n",
              "      <th>multiplicative_terms_lower</th>\n",
              "      <th>multiplicative_terms_upper</th>\n",
              "      <th>yhat</th>\n",
              "    </tr>\n",
              "  </thead>\n",
              "  <tbody>\n",
              "    <tr>\n",
              "      <th>43</th>\n",
              "      <td>2021-08-01</td>\n",
              "      <td>1.700542e+06</td>\n",
              "      <td>1.794946e+06</td>\n",
              "      <td>1.980093e+06</td>\n",
              "      <td>1.700513e+06</td>\n",
              "      <td>1.700568e+06</td>\n",
              "      <td>186348.917232</td>\n",
              "      <td>186348.917232</td>\n",
              "      <td>186348.917232</td>\n",
              "      <td>186348.917232</td>\n",
              "      <td>186348.917232</td>\n",
              "      <td>186348.917232</td>\n",
              "      <td>0.0</td>\n",
              "      <td>0.0</td>\n",
              "      <td>0.0</td>\n",
              "      <td>1.886890e+06</td>\n",
              "    </tr>\n",
              "    <tr>\n",
              "      <th>44</th>\n",
              "      <td>2021-09-01</td>\n",
              "      <td>1.702853e+06</td>\n",
              "      <td>1.737724e+06</td>\n",
              "      <td>1.921135e+06</td>\n",
              "      <td>1.702819e+06</td>\n",
              "      <td>1.702885e+06</td>\n",
              "      <td>124304.846265</td>\n",
              "      <td>124304.846265</td>\n",
              "      <td>124304.846265</td>\n",
              "      <td>124304.846265</td>\n",
              "      <td>124304.846265</td>\n",
              "      <td>124304.846265</td>\n",
              "      <td>0.0</td>\n",
              "      <td>0.0</td>\n",
              "      <td>0.0</td>\n",
              "      <td>1.827158e+06</td>\n",
              "    </tr>\n",
              "    <tr>\n",
              "      <th>45</th>\n",
              "      <td>2021-10-01</td>\n",
              "      <td>1.705090e+06</td>\n",
              "      <td>1.874491e+06</td>\n",
              "      <td>2.061079e+06</td>\n",
              "      <td>1.705051e+06</td>\n",
              "      <td>1.705127e+06</td>\n",
              "      <td>261809.157727</td>\n",
              "      <td>261809.157727</td>\n",
              "      <td>261809.157727</td>\n",
              "      <td>261809.157727</td>\n",
              "      <td>261809.157727</td>\n",
              "      <td>261809.157727</td>\n",
              "      <td>0.0</td>\n",
              "      <td>0.0</td>\n",
              "      <td>0.0</td>\n",
              "      <td>1.966899e+06</td>\n",
              "    </tr>\n",
              "    <tr>\n",
              "      <th>46</th>\n",
              "      <td>2021-11-01</td>\n",
              "      <td>1.707401e+06</td>\n",
              "      <td>1.393742e+06</td>\n",
              "      <td>1.576288e+06</td>\n",
              "      <td>1.707356e+06</td>\n",
              "      <td>1.707444e+06</td>\n",
              "      <td>-225637.613707</td>\n",
              "      <td>-225637.613707</td>\n",
              "      <td>-225637.613707</td>\n",
              "      <td>-225637.613707</td>\n",
              "      <td>-225637.613707</td>\n",
              "      <td>-225637.613707</td>\n",
              "      <td>0.0</td>\n",
              "      <td>0.0</td>\n",
              "      <td>0.0</td>\n",
              "      <td>1.481764e+06</td>\n",
              "    </tr>\n",
              "    <tr>\n",
              "      <th>47</th>\n",
              "      <td>2021-12-01</td>\n",
              "      <td>1.709638e+06</td>\n",
              "      <td>1.636148e+06</td>\n",
              "      <td>1.821241e+06</td>\n",
              "      <td>1.709585e+06</td>\n",
              "      <td>1.709687e+06</td>\n",
              "      <td>21951.195461</td>\n",
              "      <td>21951.195461</td>\n",
              "      <td>21951.195461</td>\n",
              "      <td>21951.195461</td>\n",
              "      <td>21951.195461</td>\n",
              "      <td>21951.195461</td>\n",
              "      <td>0.0</td>\n",
              "      <td>0.0</td>\n",
              "      <td>0.0</td>\n",
              "      <td>1.731589e+06</td>\n",
              "    </tr>\n",
              "  </tbody>\n",
              "</table>\n",
              "</div>\n",
              "      <button class=\"colab-df-convert\" onclick=\"convertToInteractive('df-dd53c1f6-20c1-4782-9971-ea5e841c253f')\"\n",
              "              title=\"Convert this dataframe to an interactive table.\"\n",
              "              style=\"display:none;\">\n",
              "        \n",
              "  <svg xmlns=\"http://www.w3.org/2000/svg\" height=\"24px\"viewBox=\"0 0 24 24\"\n",
              "       width=\"24px\">\n",
              "    <path d=\"M0 0h24v24H0V0z\" fill=\"none\"/>\n",
              "    <path d=\"M18.56 5.44l.94 2.06.94-2.06 2.06-.94-2.06-.94-.94-2.06-.94 2.06-2.06.94zm-11 1L8.5 8.5l.94-2.06 2.06-.94-2.06-.94L8.5 2.5l-.94 2.06-2.06.94zm10 10l.94 2.06.94-2.06 2.06-.94-2.06-.94-.94-2.06-.94 2.06-2.06.94z\"/><path d=\"M17.41 7.96l-1.37-1.37c-.4-.4-.92-.59-1.43-.59-.52 0-1.04.2-1.43.59L10.3 9.45l-7.72 7.72c-.78.78-.78 2.05 0 2.83L4 21.41c.39.39.9.59 1.41.59.51 0 1.02-.2 1.41-.59l7.78-7.78 2.81-2.81c.8-.78.8-2.07 0-2.86zM5.41 20L4 18.59l7.72-7.72 1.47 1.35L5.41 20z\"/>\n",
              "  </svg>\n",
              "      </button>\n",
              "      \n",
              "  <style>\n",
              "    .colab-df-container {\n",
              "      display:flex;\n",
              "      flex-wrap:wrap;\n",
              "      gap: 12px;\n",
              "    }\n",
              "\n",
              "    .colab-df-convert {\n",
              "      background-color: #E8F0FE;\n",
              "      border: none;\n",
              "      border-radius: 50%;\n",
              "      cursor: pointer;\n",
              "      display: none;\n",
              "      fill: #1967D2;\n",
              "      height: 32px;\n",
              "      padding: 0 0 0 0;\n",
              "      width: 32px;\n",
              "    }\n",
              "\n",
              "    .colab-df-convert:hover {\n",
              "      background-color: #E2EBFA;\n",
              "      box-shadow: 0px 1px 2px rgba(60, 64, 67, 0.3), 0px 1px 3px 1px rgba(60, 64, 67, 0.15);\n",
              "      fill: #174EA6;\n",
              "    }\n",
              "\n",
              "    [theme=dark] .colab-df-convert {\n",
              "      background-color: #3B4455;\n",
              "      fill: #D2E3FC;\n",
              "    }\n",
              "\n",
              "    [theme=dark] .colab-df-convert:hover {\n",
              "      background-color: #434B5C;\n",
              "      box-shadow: 0px 1px 3px 1px rgba(0, 0, 0, 0.15);\n",
              "      filter: drop-shadow(0px 1px 2px rgba(0, 0, 0, 0.3));\n",
              "      fill: #FFFFFF;\n",
              "    }\n",
              "  </style>\n",
              "\n",
              "      <script>\n",
              "        const buttonEl =\n",
              "          document.querySelector('#df-dd53c1f6-20c1-4782-9971-ea5e841c253f button.colab-df-convert');\n",
              "        buttonEl.style.display =\n",
              "          google.colab.kernel.accessAllowed ? 'block' : 'none';\n",
              "\n",
              "        async function convertToInteractive(key) {\n",
              "          const element = document.querySelector('#df-dd53c1f6-20c1-4782-9971-ea5e841c253f');\n",
              "          const dataTable =\n",
              "            await google.colab.kernel.invokeFunction('convertToInteractive',\n",
              "                                                     [key], {});\n",
              "          if (!dataTable) return;\n",
              "\n",
              "          const docLinkHtml = 'Like what you see? Visit the ' +\n",
              "            '<a target=\"_blank\" href=https://colab.research.google.com/notebooks/data_table.ipynb>data table notebook</a>'\n",
              "            + ' to learn more about interactive tables.';\n",
              "          element.innerHTML = '';\n",
              "          dataTable['output_type'] = 'display_data';\n",
              "          await google.colab.output.renderOutput(dataTable, element);\n",
              "          const docLink = document.createElement('div');\n",
              "          docLink.innerHTML = docLinkHtml;\n",
              "          element.appendChild(docLink);\n",
              "        }\n",
              "      </script>\n",
              "    </div>\n",
              "  </div>\n",
              "  "
            ]
          },
          "metadata": {},
          "execution_count": 42
        }
      ]
    },
    {
      "cell_type": "code",
      "source": [
        "# m.plot(forecast)\n",
        "ax = forecast.plot(x='Date', y='Sales(USD)', \n",
        "                   legend=True, \n",
        "                   label='Predictions',\n",
        "                   figsize=(12, 8))\n",
        "\n",
        "df_pr.plot(x='ds',y='y',legend=True,label='True Sales Data',ax=ax,\n",
        "           xlim=('2021-01-01', '2021-12-01'), title='True Sales Data VS Predictions - 2021')\n",
        "ax.set_facecolor('#001633')\n",
        "ax.set_xlabel('Month')\n",
        "ax.set_ylabel('Sales(USD)')\n",
        "\n",
        "# fig = px.line(forecast[forecast['Date'] >= '2022-09-01'], x='Date', y='Sales(USD)', markers=True)\n",
        "# fig.update_traces(line_color='#85d5e6')\n",
        "# fig.update_layout(title='Future Sales Forecast Polk County, Iowa',\n",
        "#                   title_x=0.5, \n",
        "#                   xaxis_title='Month', \n",
        "#                   yaxis_title='Sales Forecast (USD)',\n",
        "#                   plot_bgcolor='#001633',\n",
        "#                   paper_bgcolor='#001633',\n",
        "#                   font_color=\"#85d5e6\")\n",
        "# fig.update_xaxes(tickfont=dict(color='#85d5e6'), gridcolor='#798f9d')\n",
        "# fig.update_yaxes(tickfont=dict(color='#85d5e6'), gridcolor='#798f9d')\n",
        "# fig.show()"
      ],
      "metadata": {
        "colab": {
          "base_uri": "https://localhost:8080/",
          "height": 541
        },
        "id": "GFeeIqVM_fVc",
        "outputId": "8d83aac0-5ad0-47f8-a7ba-d692c8788553"
      },
      "id": "GFeeIqVM_fVc",
      "execution_count": null,
      "outputs": [
        {
          "output_type": "execute_result",
          "data": {
            "text/plain": [
              "Text(0, 0.5, 'Sales(USD)')"
            ]
          },
          "metadata": {},
          "execution_count": 85
        },
        {
          "output_type": "display_data",
          "data": {
            "text/plain": [
              "<Figure size 864x576 with 1 Axes>"
            ],
            "image/png": "[encoded data removed]"
          },
          "metadata": {
            "needs_background": "light"
          }
        }
      ]
    },
    {
      "cell_type": "markdown",
      "source": [
        "## Train Model with Prophet Using Entire Dataset"
      ],
      "metadata": {
        "id": "EM2XslClGcRK"
      },
      "id": "EM2XslClGcRK"
    },
    {
      "cell_type": "code",
      "source": [
        "m = Prophet()\n",
        "m.fit(polk_df)"
      ],
      "metadata": {
        "colab": {
          "base_uri": "https://localhost:8080/"
        },
        "id": "QHNgnsrKGZ6v",
        "outputId": "699009db-ac2d-4af3-ef1a-50abc9b63a81"
      },
      "id": "QHNgnsrKGZ6v",
      "execution_count": null,
      "outputs": [
        {
          "output_type": "stream",
          "name": "stderr",
          "text": [
            "INFO:fbprophet:Disabling weekly seasonality. Run prophet with weekly_seasonality=True to override this.\n",
            "INFO:fbprophet:Disabling daily seasonality. Run prophet with daily_seasonality=True to override this.\n"
          ]
        },
        {
          "output_type": "execute_result",
          "data": {
            "text/plain": [
              "<fbprophet.forecaster.Prophet at 0x7fb66c890510>"
            ]
          },
          "metadata": {},
          "execution_count": 44
        }
      ]
    },
    {
      "cell_type": "code",
      "source": [
        "future = m.make_future_dataframe(periods=60, freq='MS')\n",
        "forecast = m.predict(future)\n",
        "forecast.head()"
      ],
      "metadata": {
        "colab": {
          "base_uri": "https://localhost:8080/",
          "height": 353
        },
        "id": "FsNX5M_3Ga78",
        "outputId": "d6b70329-e54d-43ee-a1e0-997b81f3d33d"
      },
      "id": "FsNX5M_3Ga78",
      "execution_count": null,
      "outputs": [
        {
          "output_type": "execute_result",
          "data": {
            "text/plain": [
              "          ds         trend    yhat_lower    yhat_upper   trend_lower  \\\n",
              "0 2018-01-01  1.601828e+06  1.136491e+06  1.346702e+06  1.601828e+06   \n",
              "1 2018-02-01  1.605355e+06  1.177620e+06  1.373728e+06  1.605355e+06   \n",
              "2 2018-03-01  1.608541e+06  1.327250e+06  1.525485e+06  1.608541e+06   \n",
              "3 2018-04-01  1.612068e+06  1.432479e+06  1.638776e+06  1.612068e+06   \n",
              "4 2018-05-01  1.615481e+06  1.663212e+06  1.877804e+06  1.615481e+06   \n",
              "\n",
              "    trend_upper  additive_terms  additive_terms_lower  additive_terms_upper  \\\n",
              "0  1.601828e+06  -364697.728430        -364697.728430        -364697.728430   \n",
              "1  1.605355e+06  -325359.561429        -325359.561429        -325359.561429   \n",
              "2  1.608541e+06  -189590.640618        -189590.640618        -189590.640618   \n",
              "3  1.612068e+06   -74636.229656         -74636.229656         -74636.229656   \n",
              "4  1.615481e+06   154438.046824         154438.046824         154438.046824   \n",
              "\n",
              "          yearly   yearly_lower   yearly_upper  multiplicative_terms  \\\n",
              "0 -364697.728430 -364697.728430 -364697.728430                   0.0   \n",
              "1 -325359.561429 -325359.561429 -325359.561429                   0.0   \n",
              "2 -189590.640618 -189590.640618 -189590.640618                   0.0   \n",
              "3  -74636.229656  -74636.229656  -74636.229656                   0.0   \n",
              "4  154438.046824  154438.046824  154438.046824                   0.0   \n",
              "\n",
              "   multiplicative_terms_lower  multiplicative_terms_upper          yhat  \n",
              "0                         0.0                         0.0  1.237131e+06  \n",
              "1                         0.0                         0.0  1.279996e+06  \n",
              "2                         0.0                         0.0  1.418950e+06  \n",
              "3                         0.0                         0.0  1.537432e+06  \n",
              "4                         0.0                         0.0  1.769919e+06  "
            ],
            "text/html": [
              "\n",
              "  <div id=\"df-a76b8117-6483-4b1f-b94c-72bfb87cd160\">\n",
              "    <div class=\"colab-df-container\">\n",
              "      <div>\n",
              "<style scoped>\n",
              "    .dataframe tbody tr th:only-of-type {\n",
              "        vertical-align: middle;\n",
              "    }\n",
              "\n",
              "    .dataframe tbody tr th {\n",
              "        vertical-align: top;\n",
              "    }\n",
              "\n",
              "    .dataframe thead th {\n",
              "        text-align: right;\n",
              "    }\n",
              "</style>\n",
              "<table border=\"1\" class=\"dataframe\">\n",
              "  <thead>\n",
              "    <tr style=\"text-align: right;\">\n",
              "      <th></th>\n",
              "      <th>ds</th>\n",
              "      <th>trend</th>\n",
              "      <th>yhat_lower</th>\n",
              "      <th>yhat_upper</th>\n",
              "      <th>trend_lower</th>\n",
              "      <th>trend_upper</th>\n",
              "      <th>additive_terms</th>\n",
              "      <th>additive_terms_lower</th>\n",
              "      <th>additive_terms_upper</th>\n",
              "      <th>yearly</th>\n",
              "      <th>yearly_lower</th>\n",
              "      <th>yearly_upper</th>\n",
              "      <th>multiplicative_terms</th>\n",
              "      <th>multiplicative_terms_lower</th>\n",
              "      <th>multiplicative_terms_upper</th>\n",
              "      <th>yhat</th>\n",
              "    </tr>\n",
              "  </thead>\n",
              "  <tbody>\n",
              "    <tr>\n",
              "      <th>0</th>\n",
              "      <td>2018-01-01</td>\n",
              "      <td>1.601828e+06</td>\n",
              "      <td>1.136491e+06</td>\n",
              "      <td>1.346702e+06</td>\n",
              "      <td>1.601828e+06</td>\n",
              "      <td>1.601828e+06</td>\n",
              "      <td>-364697.728430</td>\n",
              "      <td>-364697.728430</td>\n",
              "      <td>-364697.728430</td>\n",
              "      <td>-364697.728430</td>\n",
              "      <td>-364697.728430</td>\n",
              "      <td>-364697.728430</td>\n",
              "      <td>0.0</td>\n",
              "      <td>0.0</td>\n",
              "      <td>0.0</td>\n",
              "      <td>1.237131e+06</td>\n",
              "    </tr>\n",
              "    <tr>\n",
              "      <th>1</th>\n",
              "      <td>2018-02-01</td>\n",
              "      <td>1.605355e+06</td>\n",
              "      <td>1.177620e+06</td>\n",
              "      <td>1.373728e+06</td>\n",
              "      <td>1.605355e+06</td>\n",
              "      <td>1.605355e+06</td>\n",
              "      <td>-325359.561429</td>\n",
              "      <td>-325359.561429</td>\n",
              "      <td>-325359.561429</td>\n",
              "      <td>-325359.561429</td>\n",
              "      <td>-325359.561429</td>\n",
              "      <td>-325359.561429</td>\n",
              "      <td>0.0</td>\n",
              "      <td>0.0</td>\n",
              "      <td>0.0</td>\n",
              "      <td>1.279996e+06</td>\n",
              "    </tr>\n",
              "    <tr>\n",
              "      <th>2</th>\n",
              "      <td>2018-03-01</td>\n",
              "      <td>1.608541e+06</td>\n",
              "      <td>1.327250e+06</td>\n",
              "      <td>1.525485e+06</td>\n",
              "      <td>1.608541e+06</td>\n",
              "      <td>1.608541e+06</td>\n",
              "      <td>-189590.640618</td>\n",
              "      <td>-189590.640618</td>\n",
              "      <td>-189590.640618</td>\n",
              "      <td>-189590.640618</td>\n",
              "      <td>-189590.640618</td>\n",
              "      <td>-189590.640618</td>\n",
              "      <td>0.0</td>\n",
              "      <td>0.0</td>\n",
              "      <td>0.0</td>\n",
              "      <td>1.418950e+06</td>\n",
              "    </tr>\n",
              "    <tr>\n",
              "      <th>3</th>\n",
              "      <td>2018-04-01</td>\n",
              "      <td>1.612068e+06</td>\n",
              "      <td>1.432479e+06</td>\n",
              "      <td>1.638776e+06</td>\n",
              "      <td>1.612068e+06</td>\n",
              "      <td>1.612068e+06</td>\n",
              "      <td>-74636.229656</td>\n",
              "      <td>-74636.229656</td>\n",
              "      <td>-74636.229656</td>\n",
              "      <td>-74636.229656</td>\n",
              "      <td>-74636.229656</td>\n",
              "      <td>-74636.229656</td>\n",
              "      <td>0.0</td>\n",
              "      <td>0.0</td>\n",
              "      <td>0.0</td>\n",
              "      <td>1.537432e+06</td>\n",
              "    </tr>\n",
              "    <tr>\n",
              "      <th>4</th>\n",
              "      <td>2018-05-01</td>\n",
              "      <td>1.615481e+06</td>\n",
              "      <td>1.663212e+06</td>\n",
              "      <td>1.877804e+06</td>\n",
              "      <td>1.615481e+06</td>\n",
              "      <td>1.615481e+06</td>\n",
              "      <td>154438.046824</td>\n",
              "      <td>154438.046824</td>\n",
              "      <td>154438.046824</td>\n",
              "      <td>154438.046824</td>\n",
              "      <td>154438.046824</td>\n",
              "      <td>154438.046824</td>\n",
              "      <td>0.0</td>\n",
              "      <td>0.0</td>\n",
              "      <td>0.0</td>\n",
              "      <td>1.769919e+06</td>\n",
              "    </tr>\n",
              "  </tbody>\n",
              "</table>\n",
              "</div>\n",
              "      <button class=\"colab-df-convert\" onclick=\"convertToInteractive('df-a76b8117-6483-4b1f-b94c-72bfb87cd160')\"\n",
              "              title=\"Convert this dataframe to an interactive table.\"\n",
              "              style=\"display:none;\">\n",
              "        \n",
              "  <svg xmlns=\"http://www.w3.org/2000/svg\" height=\"24px\"viewBox=\"0 0 24 24\"\n",
              "       width=\"24px\">\n",
              "    <path d=\"M0 0h24v24H0V0z\" fill=\"none\"/>\n",
              "    <path d=\"M18.56 5.44l.94 2.06.94-2.06 2.06-.94-2.06-.94-.94-2.06-.94 2.06-2.06.94zm-11 1L8.5 8.5l.94-2.06 2.06-.94-2.06-.94L8.5 2.5l-.94 2.06-2.06.94zm10 10l.94 2.06.94-2.06 2.06-.94-2.06-.94-.94-2.06-.94 2.06-2.06.94z\"/><path d=\"M17.41 7.96l-1.37-1.37c-.4-.4-.92-.59-1.43-.59-.52 0-1.04.2-1.43.59L10.3 9.45l-7.72 7.72c-.78.78-.78 2.05 0 2.83L4 21.41c.39.39.9.59 1.41.59.51 0 1.02-.2 1.41-.59l7.78-7.78 2.81-2.81c.8-.78.8-2.07 0-2.86zM5.41 20L4 18.59l7.72-7.72 1.47 1.35L5.41 20z\"/>\n",
              "  </svg>\n",
              "      </button>\n",
              "      \n",
              "  <style>\n",
              "    .colab-df-container {\n",
              "      display:flex;\n",
              "      flex-wrap:wrap;\n",
              "      gap: 12px;\n",
              "    }\n",
              "\n",
              "    .colab-df-convert {\n",
              "      background-color: #E8F0FE;\n",
              "      border: none;\n",
              "      border-radius: 50%;\n",
              "      cursor: pointer;\n",
              "      display: none;\n",
              "      fill: #1967D2;\n",
              "      height: 32px;\n",
              "      padding: 0 0 0 0;\n",
              "      width: 32px;\n",
              "    }\n",
              "\n",
              "    .colab-df-convert:hover {\n",
              "      background-color: #E2EBFA;\n",
              "      box-shadow: 0px 1px 2px rgba(60, 64, 67, 0.3), 0px 1px 3px 1px rgba(60, 64, 67, 0.15);\n",
              "      fill: #174EA6;\n",
              "    }\n",
              "\n",
              "    [theme=dark] .colab-df-convert {\n",
              "      background-color: #3B4455;\n",
              "      fill: #D2E3FC;\n",
              "    }\n",
              "\n",
              "    [theme=dark] .colab-df-convert:hover {\n",
              "      background-color: #434B5C;\n",
              "      box-shadow: 0px 1px 3px 1px rgba(0, 0, 0, 0.15);\n",
              "      filter: drop-shadow(0px 1px 2px rgba(0, 0, 0, 0.3));\n",
              "      fill: #FFFFFF;\n",
              "    }\n",
              "  </style>\n",
              "\n",
              "      <script>\n",
              "        const buttonEl =\n",
              "          document.querySelector('#df-a76b8117-6483-4b1f-b94c-72bfb87cd160 button.colab-df-convert');\n",
              "        buttonEl.style.display =\n",
              "          google.colab.kernel.accessAllowed ? 'block' : 'none';\n",
              "\n",
              "        async function convertToInteractive(key) {\n",
              "          const element = document.querySelector('#df-a76b8117-6483-4b1f-b94c-72bfb87cd160');\n",
              "          const dataTable =\n",
              "            await google.colab.kernel.invokeFunction('convertToInteractive',\n",
              "                                                     [key], {});\n",
              "          if (!dataTable) return;\n",
              "\n",
              "          const docLinkHtml = 'Like what you see? Visit the ' +\n",
              "            '<a target=\"_blank\" href=https://colab.research.google.com/notebooks/data_table.ipynb>data table notebook</a>'\n",
              "            + ' to learn more about interactive tables.';\n",
              "          element.innerHTML = '';\n",
              "          dataTable['output_type'] = 'display_data';\n",
              "          await google.colab.output.renderOutput(dataTable, element);\n",
              "          const docLink = document.createElement('div');\n",
              "          docLink.innerHTML = docLinkHtml;\n",
              "          element.appendChild(docLink);\n",
              "        }\n",
              "      </script>\n",
              "    </div>\n",
              "  </div>\n",
              "  "
            ]
          },
          "metadata": {},
          "execution_count": 45
        }
      ]
    },
    {
      "cell_type": "code",
      "source": [
        "plot1 = m.plot(forecast)"
      ],
      "metadata": {
        "colab": {
          "base_uri": "https://localhost:8080/",
          "height": 441
        },
        "id": "xUAHn8pJHN8g",
        "outputId": "c5f18db3-2bf9-408e-94c8-ddf706c3ad01"
      },
      "id": "xUAHn8pJHN8g",
      "execution_count": null,
      "outputs": [
        {
          "output_type": "display_data",
          "data": {
            "text/plain": [
              "<Figure size 720x432 with 1 Axes>"
            ],
            "image/png": "[encoded data removed]"
          },
          "metadata": {}
        }
      ]
    },
    {
      "cell_type": "code",
      "source": [
        "plt2 = m.plot_components(forecast)"
      ],
      "metadata": {
        "colab": {
          "base_uri": "https://localhost:8080/",
          "height": 441
        },
        "id": "7QsTr1FMHO8B",
        "outputId": "349f1c78-79fa-4974-e079-059861cd291e"
      },
      "id": "7QsTr1FMHO8B",
      "execution_count": null,
      "outputs": [
        {
          "output_type": "display_data",
          "data": {
            "text/plain": [
              "<Figure size 648x432 with 2 Axes>"
            ],
            "image/png": "[encoded data removed]"
          },
          "metadata": {}
        }
      ]
    },
    {
      "cell_type": "markdown",
      "source": [
        "## Plotly Charts - Future Sales Predictions"
      ],
      "metadata": {
        "id": "nlJmy9OkARD7"
      },
      "id": "nlJmy9OkARD7"
    },
    {
      "cell_type": "code",
      "source": [
        "import plotly.express as px"
      ],
      "metadata": {
        "id": "LMqmF7IEAXQO"
      },
      "id": "LMqmF7IEAXQO",
      "execution_count": null,
      "outputs": []
    },
    {
      "cell_type": "code",
      "source": [
        "forecast.rename(columns={'ds':'Date', 'yhat':'Sales(USD)'}, inplace=True)"
      ],
      "metadata": {
        "id": "qQD01fEsXJ4l"
      },
      "id": "qQD01fEsXJ4l",
      "execution_count": null,
      "outputs": []
    },
    {
      "cell_type": "code",
      "source": [],
      "metadata": {
        "id": "vonIJleGah9M"
      },
      "id": "vonIJleGah9M",
      "execution_count": null,
      "outputs": []
    },
    {
      "cell_type": "code",
      "source": [
        "fig = px.line(forecast[forecast['Date'] >= '2022-09-01'], x='Date', y='Sales(USD)', markers=True)\n",
        "fig.update_traces(line_color='#85d5e6')\n",
        "fig.update_layout(title='Future Sales Forecast Polk County, Iowa',\n",
        "                  title_x=0.5, \n",
        "                  xaxis_title='Month', \n",
        "                  yaxis_title='Sales Forecast (USD)',\n",
        "                  plot_bgcolor='#001633',\n",
        "                  paper_bgcolor='#001633',\n",
        "                  font_color=\"#85d5e6\")\n",
        "fig.update_xaxes(tickfont=dict(color='#85d5e6'), gridcolor='#798f9d')\n",
        "fig.update_yaxes(tickfont=dict(color='#85d5e6'), gridcolor='#798f9d')\n",
        "fig.show()"
      ],
      "metadata": {
        "colab": {
          "base_uri": "https://localhost:8080/",
          "height": 542
        },
        "id": "jcZKJpXwAZGs",
        "outputId": "87781629-57e5-4eb9-8ad4-dc1194a6e13c"
      },
      "id": "jcZKJpXwAZGs",
      "execution_count": null,
      "outputs": [
        {
          "output_type": "display_data",
          "data": {
            "text/html": [
              "<html>\n",
              "<head><meta charset=\"utf-8\" /></head>\n",
              "<body>\n",
              "    <div>            <script src=\"https://cdnjs.cloudflare.com/ajax/libs/mathjax/2.7.5/MathJax.js?config=TeX-AMS-MML_SVG\"></script><script type=\"text/javascript\">if (window.MathJax) {MathJax.Hub.Config({SVG: {font: \"STIX-Web\"}});}</script>                <script type=\"text/javascript\">window.PlotlyConfig = {MathJaxConfig: 'local'};</script>\n",
              "        <script src=\"https://cdn.plot.ly/plotly-2.8.3.min.js\"></script>                <div id=\"289bb9d4-9c94-48de-a2a9-268b2bf234f7\" class=\"plotly-graph-div\" style=\"height:525px; width:100%;\"></div>            <script type=\"text/javascript\">                                    window.PLOTLYENV=window.PLOTLYENV || {};                                    if (document.getElementById(\"289bb9d4-9c94-48de-a2a9-268b2bf234f7\")) {                    Plotly.newPlot(                        \"289bb9d4-9c94-48de-a2a9-268b2bf234f7\",                        [{\"hovertemplate\":\"Date=%{x}<br>Sales(USD)=%{y}<extra></extra>\",\"legendgroup\":\"\",\"line\":{\"color\":\"#85d5e6\",\"dash\":\"solid\"},\"marker\":{\"symbol\":\"circle\"},\"mode\":\"markers+lines\",\"name\":\"\",\"orientation\":\"v\",\"showlegend\":false,\"x\":[\"2022-09-01T00:00:00\",\"2022-10-01T00:00:00\",\"2022-11-01T00:00:00\",\"2022-12-01T00:00:00\",\"2023-01-01T00:00:00\",\"2023-02-01T00:00:00\",\"2023-03-01T00:00:00\",\"2023-04-01T00:00:00\",\"2023-05-01T00:00:00\",\"2023-06-01T00:00:00\",\"2023-07-01T00:00:00\",\"2023-08-01T00:00:00\",\"2023-09-01T00:00:00\",\"2023-10-01T00:00:00\",\"2023-11-01T00:00:00\",\"2023-12-01T00:00:00\",\"2024-01-01T00:00:00\",\"2024-02-01T00:00:00\",\"2024-03-01T00:00:00\",\"2024-04-01T00:00:00\",\"2024-05-01T00:00:00\",\"2024-06-01T00:00:00\",\"2024-07-01T00:00:00\",\"2024-08-01T00:00:00\",\"2024-09-01T00:00:00\",\"2024-10-01T00:00:00\",\"2024-11-01T00:00:00\",\"2024-12-01T00:00:00\",\"2025-01-01T00:00:00\",\"2025-02-01T00:00:00\",\"2025-03-01T00:00:00\",\"2025-04-01T00:00:00\",\"2025-05-01T00:00:00\",\"2025-06-01T00:00:00\",\"2025-07-01T00:00:00\",\"2025-08-01T00:00:00\",\"2025-09-01T00:00:00\",\"2025-10-01T00:00:00\",\"2025-11-01T00:00:00\",\"2025-12-01T00:00:00\",\"2026-01-01T00:00:00\",\"2026-02-01T00:00:00\",\"2026-03-01T00:00:00\",\"2026-04-01T00:00:00\",\"2026-05-01T00:00:00\",\"2026-06-01T00:00:00\",\"2026-07-01T00:00:00\",\"2026-08-01T00:00:00\",\"2026-09-01T00:00:00\",\"2026-10-01T00:00:00\",\"2026-11-01T00:00:00\",\"2026-12-01T00:00:00\",\"2027-01-01T00:00:00\",\"2027-02-01T00:00:00\",\"2027-03-01T00:00:00\",\"2027-04-01T00:00:00\",\"2027-05-01T00:00:00\",\"2027-06-01T00:00:00\",\"2027-07-01T00:00:00\"],\"xaxis\":\"x\",\"y\":[1843490.3726855922,1963349.5352877972,1630305.8908940172,1859078.8886078913,1495865.7710700198,1485357.862227516,1531852.8025641944,1682880.191941661,2129164.7997327703,2023012.364110915,1892835.2510460666,2022573.6436840515,1859487.0971456775,1948942.8575231326,1709663.5803474288,1944482.0845975375,1587036.7562981008,1522077.3568163654,1857949.0237742243,1922222.1514928655,1720163.8575721087,2030382.3454362755,2019764.1224703353,2071566.8377371316,1976279.7154733934,2162254.5768357255,1643838.5766251278,1854867.7189952137,1475792.3824514465,1570871.6298404194,1804731.7482213334,1894271.842044412,1910566.572206905,2085522.552788137,2033904.8052207783,2111228.5221018004,1993253.3554398892,2145290.5109482543,1719166.3229746795,1939995.5658549468,1569575.3096904024,1612440.440080945,1751395.0052439421,1869876.3795962643,2102363.8464527666,2138491.5882588,2046992.8692003794,2150297.180815252,2009712.7440447498,2129571.9066470508,1796528.2622533066,2025301.2599677765,1662088.1424298896,1651580.2335869975,1698075.1739230477,1849102.5633011004,2295387.1710921936,2189234.735469597,2059057.6224054073],\"yaxis\":\"y\",\"type\":\"scatter\"}],                        {\"template\":{\"data\":{\"bar\":[{\"error_x\":{\"color\":\"#2a3f5f\"},\"error_y\":{\"color\":\"#2a3f5f\"},\"marker\":{\"line\":{\"color\":\"#E5ECF6\",\"width\":0.5},\"pattern\":{\"fillmode\":\"overlay\",\"size\":10,\"solidity\":0.2}},\"type\":\"bar\"}],\"barpolar\":[{\"marker\":{\"line\":{\"color\":\"#E5ECF6\",\"width\":0.5},\"pattern\":{\"fillmode\":\"overlay\",\"size\":10,\"solidity\":0.2}},\"type\":\"barpolar\"}],\"carpet\":[{\"aaxis\":{\"endlinecolor\":\"#2a3f5f\",\"gridcolor\":\"white\",\"linecolor\":\"white\",\"minorgridcolor\":\"white\",\"startlinecolor\":\"#2a3f5f\"},\"baxis\":{\"endlinecolor\":\"#2a3f5f\",\"gridcolor\":\"white\",\"linecolor\":\"white\",\"minorgridcolor\":\"white\",\"startlinecolor\":\"#2a3f5f\"},\"type\":\"carpet\"}],\"choropleth\":[{\"colorbar\":{\"outlinewidth\":0,\"ticks\":\"\"},\"type\":\"choropleth\"}],\"contour\":[{\"colorbar\":{\"outlinewidth\":0,\"ticks\":\"\"},\"colorscale\":[[0.0,\"#0d0887\"],[0.1111111111111111,\"#46039f\"],[0.2222222222222222,\"#7201a8\"],[0.3333333333333333,\"#9c179e\"],[0.4444444444444444,\"#bd3786\"],[0.5555555555555556,\"#d8576b\"],[0.6666666666666666,\"#ed7953\"],[0.7777777777777778,\"#fb9f3a\"],[0.8888888888888888,\"#fdca26\"],[1.0,\"#f0f921\"]],\"type\":\"contour\"}],\"contourcarpet\":[{\"colorbar\":{\"outlinewidth\":0,\"ticks\":\"\"},\"type\":\"contourcarpet\"}],\"heatmap\":[{\"colorbar\":{\"outlinewidth\":0,\"ticks\":\"\"},\"colorscale\":[[0.0,\"#0d0887\"],[0.1111111111111111,\"#46039f\"],[0.2222222222222222,\"#7201a8\"],[0.3333333333333333,\"#9c179e\"],[0.4444444444444444,\"#bd3786\"],[0.5555555555555556,\"#d8576b\"],[0.6666666666666666,\"#ed7953\"],[0.7777777777777778,\"#fb9f3a\"],[0.8888888888888888,\"#fdca26\"],[1.0,\"#f0f921\"]],\"type\":\"heatmap\"}],\"heatmapgl\":[{\"colorbar\":{\"outlinewidth\":0,\"ticks\":\"\"},\"colorscale\":[[0.0,\"#0d0887\"],[0.1111111111111111,\"#46039f\"],[0.2222222222222222,\"#7201a8\"],[0.3333333333333333,\"#9c179e\"],[0.4444444444444444,\"#bd3786\"],[0.5555555555555556,\"#d8576b\"],[0.6666666666666666,\"#ed7953\"],[0.7777777777777778,\"#fb9f3a\"],[0.8888888888888888,\"#fdca26\"],[1.0,\"#f0f921\"]],\"type\":\"heatmapgl\"}],\"histogram\":[{\"marker\":{\"pattern\":{\"fillmode\":\"overlay\",\"size\":10,\"solidity\":0.2}},\"type\":\"histogram\"}],\"histogram2d\":[{\"colorbar\":{\"outlinewidth\":0,\"ticks\":\"\"},\"colorscale\":[[0.0,\"#0d0887\"],[0.1111111111111111,\"#46039f\"],[0.2222222222222222,\"#7201a8\"],[0.3333333333333333,\"#9c179e\"],[0.4444444444444444,\"#bd3786\"],[0.5555555555555556,\"#d8576b\"],[0.6666666666666666,\"#ed7953\"],[0.7777777777777778,\"#fb9f3a\"],[0.8888888888888888,\"#fdca26\"],[1.0,\"#f0f921\"]],\"type\":\"histogram2d\"}],\"histogram2dcontour\":[{\"colorbar\":{\"outlinewidth\":0,\"ticks\":\"\"},\"colorscale\":[[0.0,\"#0d0887\"],[0.1111111111111111,\"#46039f\"],[0.2222222222222222,\"#7201a8\"],[0.3333333333333333,\"#9c179e\"],[0.4444444444444444,\"#bd3786\"],[0.5555555555555556,\"#d8576b\"],[0.6666666666666666,\"#ed7953\"],[0.7777777777777778,\"#fb9f3a\"],[0.8888888888888888,\"#fdca26\"],[1.0,\"#f0f921\"]],\"type\":\"histogram2dcontour\"}],\"mesh3d\":[{\"colorbar\":{\"outlinewidth\":0,\"ticks\":\"\"},\"type\":\"mesh3d\"}],\"parcoords\":[{\"line\":{\"colorbar\":{\"outlinewidth\":0,\"ticks\":\"\"}},\"type\":\"parcoords\"}],\"pie\":[{\"automargin\":true,\"type\":\"pie\"}],\"scatter\":[{\"marker\":{\"colorbar\":{\"outlinewidth\":0,\"ticks\":\"\"}},\"type\":\"scatter\"}],\"scatter3d\":[{\"line\":{\"colorbar\":{\"outlinewidth\":0,\"ticks\":\"\"}},\"marker\":{\"colorbar\":{\"outlinewidth\":0,\"ticks\":\"\"}},\"type\":\"scatter3d\"}],\"scattercarpet\":[{\"marker\":{\"colorbar\":{\"outlinewidth\":0,\"ticks\":\"\"}},\"type\":\"scattercarpet\"}],\"scattergeo\":[{\"marker\":{\"colorbar\":{\"outlinewidth\":0,\"ticks\":\"\"}},\"type\":\"scattergeo\"}],\"scattergl\":[{\"marker\":{\"colorbar\":{\"outlinewidth\":0,\"ticks\":\"\"}},\"type\":\"scattergl\"}],\"scattermapbox\":[{\"marker\":{\"colorbar\":{\"outlinewidth\":0,\"ticks\":\"\"}},\"type\":\"scattermapbox\"}],\"scatterpolar\":[{\"marker\":{\"colorbar\":{\"outlinewidth\":0,\"ticks\":\"\"}},\"type\":\"scatterpolar\"}],\"scatterpolargl\":[{\"marker\":{\"colorbar\":{\"outlinewidth\":0,\"ticks\":\"\"}},\"type\":\"scatterpolargl\"}],\"scatterternary\":[{\"marker\":{\"colorbar\":{\"outlinewidth\":0,\"ticks\":\"\"}},\"type\":\"scatterternary\"}],\"surface\":[{\"colorbar\":{\"outlinewidth\":0,\"ticks\":\"\"},\"colorscale\":[[0.0,\"#0d0887\"],[0.1111111111111111,\"#46039f\"],[0.2222222222222222,\"#7201a8\"],[0.3333333333333333,\"#9c179e\"],[0.4444444444444444,\"#bd3786\"],[0.5555555555555556,\"#d8576b\"],[0.6666666666666666,\"#ed7953\"],[0.7777777777777778,\"#fb9f3a\"],[0.8888888888888888,\"#fdca26\"],[1.0,\"#f0f921\"]],\"type\":\"surface\"}],\"table\":[{\"cells\":{\"fill\":{\"color\":\"#EBF0F8\"},\"line\":{\"color\":\"white\"}},\"header\":{\"fill\":{\"color\":\"#C8D4E3\"},\"line\":{\"color\":\"white\"}},\"type\":\"table\"}]},\"layout\":{\"annotationdefaults\":{\"arrowcolor\":\"#2a3f5f\",\"arrowhead\":0,\"arrowwidth\":1},\"autotypenumbers\":\"strict\",\"coloraxis\":{\"colorbar\":{\"outlinewidth\":0,\"ticks\":\"\"}},\"colorscale\":{\"diverging\":[[0,\"#8e0152\"],[0.1,\"#c51b7d\"],[0.2,\"#de77ae\"],[0.3,\"#f1b6da\"],[0.4,\"#fde0ef\"],[0.5,\"#f7f7f7\"],[0.6,\"#e6f5d0\"],[0.7,\"#b8e186\"],[0.8,\"#7fbc41\"],[0.9,\"#4d9221\"],[1,\"#276419\"]],\"sequential\":[[0.0,\"#0d0887\"],[0.1111111111111111,\"#46039f\"],[0.2222222222222222,\"#7201a8\"],[0.3333333333333333,\"#9c179e\"],[0.4444444444444444,\"#bd3786\"],[0.5555555555555556,\"#d8576b\"],[0.6666666666666666,\"#ed7953\"],[0.7777777777777778,\"#fb9f3a\"],[0.8888888888888888,\"#fdca26\"],[1.0,\"#f0f921\"]],\"sequentialminus\":[[0.0,\"#0d0887\"],[0.1111111111111111,\"#46039f\"],[0.2222222222222222,\"#7201a8\"],[0.3333333333333333,\"#9c179e\"],[0.4444444444444444,\"#bd3786\"],[0.5555555555555556,\"#d8576b\"],[0.6666666666666666,\"#ed7953\"],[0.7777777777777778,\"#fb9f3a\"],[0.8888888888888888,\"#fdca26\"],[1.0,\"#f0f921\"]]},\"colorway\":[\"#636efa\",\"#EF553B\",\"#00cc96\",\"#ab63fa\",\"#FFA15A\",\"#19d3f3\",\"#FF6692\",\"#B6E880\",\"#FF97FF\",\"#FECB52\"],\"font\":{\"color\":\"#2a3f5f\"},\"geo\":{\"bgcolor\":\"white\",\"lakecolor\":\"white\",\"landcolor\":\"#E5ECF6\",\"showlakes\":true,\"showland\":true,\"subunitcolor\":\"white\"},\"hoverlabel\":{\"align\":\"left\"},\"hovermode\":\"closest\",\"mapbox\":{\"style\":\"light\"},\"paper_bgcolor\":\"white\",\"plot_bgcolor\":\"#E5ECF6\",\"polar\":{\"angularaxis\":{\"gridcolor\":\"white\",\"linecolor\":\"white\",\"ticks\":\"\"},\"bgcolor\":\"#E5ECF6\",\"radialaxis\":{\"gridcolor\":\"white\",\"linecolor\":\"white\",\"ticks\":\"\"}},\"scene\":{\"xaxis\":{\"backgroundcolor\":\"#E5ECF6\",\"gridcolor\":\"white\",\"gridwidth\":2,\"linecolor\":\"white\",\"showbackground\":true,\"ticks\":\"\",\"zerolinecolor\":\"white\"},\"yaxis\":{\"backgroundcolor\":\"#E5ECF6\",\"gridcolor\":\"white\",\"gridwidth\":2,\"linecolor\":\"white\",\"showbackground\":true,\"ticks\":\"\",\"zerolinecolor\":\"white\"},\"zaxis\":{\"backgroundcolor\":\"#E5ECF6\",\"gridcolor\":\"white\",\"gridwidth\":2,\"linecolor\":\"white\",\"showbackground\":true,\"ticks\":\"\",\"zerolinecolor\":\"white\"}},\"shapedefaults\":{\"line\":{\"color\":\"#2a3f5f\"}},\"ternary\":{\"aaxis\":{\"gridcolor\":\"white\",\"linecolor\":\"white\",\"ticks\":\"\"},\"baxis\":{\"gridcolor\":\"white\",\"linecolor\":\"white\",\"ticks\":\"\"},\"bgcolor\":\"#E5ECF6\",\"caxis\":{\"gridcolor\":\"white\",\"linecolor\":\"white\",\"ticks\":\"\"}},\"title\":{\"x\":0.05},\"xaxis\":{\"automargin\":true,\"gridcolor\":\"white\",\"linecolor\":\"white\",\"ticks\":\"\",\"title\":{\"standoff\":15},\"zerolinecolor\":\"white\",\"zerolinewidth\":2},\"yaxis\":{\"automargin\":true,\"gridcolor\":\"white\",\"linecolor\":\"white\",\"ticks\":\"\",\"title\":{\"standoff\":15},\"zerolinecolor\":\"white\",\"zerolinewidth\":2}}},\"xaxis\":{\"anchor\":\"y\",\"domain\":[0.0,1.0],\"title\":{\"text\":\"Month\"},\"tickfont\":{\"color\":\"#85d5e6\"},\"gridcolor\":\"#798f9d\"},\"yaxis\":{\"anchor\":\"x\",\"domain\":[0.0,1.0],\"title\":{\"text\":\"Sales Forecast (USD)\"},\"tickfont\":{\"color\":\"#85d5e6\"},\"gridcolor\":\"#798f9d\"},\"legend\":{\"tracegroupgap\":0},\"margin\":{\"t\":60},\"title\":{\"text\":\"Future Sales Forecast Polk County, Iowa\",\"x\":0.5},\"font\":{\"color\":\"#85d5e6\"},\"plot_bgcolor\":\"#001633\",\"paper_bgcolor\":\"#001633\"},                        {\"responsive\": true}                    ).then(function(){\n",
              "                            \n",
              "var gd = document.getElementById('289bb9d4-9c94-48de-a2a9-268b2bf234f7');\n",
              "var x = new MutationObserver(function (mutations, observer) {{\n",
              "        var display = window.getComputedStyle(gd).display;\n",
              "        if (!display || display === 'none') {{\n",
              "            console.log([gd, 'removed!']);\n",
              "            Plotly.purge(gd);\n",
              "            observer.disconnect();\n",
              "        }}\n",
              "}});\n",
              "\n",
              "// Listen for the removal of the full notebook cells\n",
              "var notebookContainer = gd.closest('#notebook-container');\n",
              "if (notebookContainer) {{\n",
              "    x.observe(notebookContainer, {childList: true});\n",
              "}}\n",
              "\n",
              "// Listen for the clearing of the current output cell\n",
              "var outputEl = gd.closest('.output');\n",
              "if (outputEl) {{\n",
              "    x.observe(outputEl, {childList: true});\n",
              "}}\n",
              "\n",
              "                        })                };                            </script>        </div>\n",
              "</body>\n",
              "</html>"
            ]
          },
          "metadata": {}
        }
      ]
    },
    {
      "cell_type": "code",
      "source": [],
      "metadata": {
        "id": "rAKwwWpzNtMR"
      },
      "id": "rAKwwWpzNtMR",
      "execution_count": null,
      "outputs": []
    }
  ],
  "metadata": {
    "kernelspec": {
      "display_name": "Python 3 (engineering)",
      "language": "python",
      "name": "engineering"
    },
    "language_info": {
      "codemirror_mode": {
        "name": "ipython",
        "version": 3
      },
      "file_extension": ".py",
      "mimetype": "text/x-python",
      "name": "python",
      "nbconvert_exporter": "python",
      "pygments_lexer": "ipython3",
      "version": "3.9.12"
    },
    "colab": {
      "provenance": [],
      "collapsed_sections": [],
      "machine_shape": "hm",
      "include_colab_link": true
    },
    "gpuClass": "standard"
  },
  "nbformat": 4,
  "nbformat_minor": 5
}