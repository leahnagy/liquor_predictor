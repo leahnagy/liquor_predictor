{
 "cells": [
  {
   "cell_type": "markdown",
   "id": "3895c995",
   "metadata": {},
   "source": [
    "# Vodka Sales EDA"
   ]
  },
  {
   "cell_type": "code",
   "execution_count": 259,
   "id": "7632af2a",
   "metadata": {},
   "outputs": [],
   "source": [
    "# import dependencies\n",
    "import pandas as pd\n",
    "from sqlalchemy import create_engine\n",
    "import sqlite3\n",
    "from sqlite3 import Erro\n",
    "import addfips\n",
    "from numerize import numerize"
   ]
  },
  {
   "cell_type": "code",
   "execution_count": 3,
   "id": "1f74d799",
   "metadata": {},
   "outputs": [],
   "source": [
    "# Load in CSV\n",
    "liquor_df = pd.read_csv('Iowa_Liquor_Sales.csv', \n",
    "                        dtype={\"Zip Code\":str, \"Item Number\":str})"
   ]
  },
  {
   "cell_type": "code",
   "execution_count": 4,
   "id": "af2f0fae",
   "metadata": {},
   "outputs": [
    {
     "data": {
      "text/plain": [
       "(24396811, 24)"
      ]
     },
     "execution_count": 4,
     "metadata": {},
     "output_type": "execute_result"
    }
   ],
   "source": [
    "# Check shape\n",
    "liquor_df.shape"
   ]
  },
  {
   "cell_type": "code",
   "execution_count": 38,
   "id": "1bf582c4",
   "metadata": {},
   "outputs": [],
   "source": [
    "# Change date to datetime to filter dates\n",
    "liquor_df['Date'] = pd.to_datetime(liquor_df['Date'])"
   ]
  },
  {
   "cell_type": "code",
   "execution_count": 58,
   "id": "6a37ea18",
   "metadata": {},
   "outputs": [],
   "source": [
    "# Get year and month columns\n",
    "liquor_df['year'] = liquor_df['Date'].dt.strftime('%Y')\n",
    "liquor_df['month'] = liquor_df['Date'].dt.strftime('%m')"
   ]
  },
  {
   "cell_type": "code",
   "execution_count": 59,
   "id": "85d1e298",
   "metadata": {},
   "outputs": [],
   "source": [
    "# rename columns\n",
    "cols = {\n",
    "    'Invoice/Item Number': 'invoice_num',\n",
    "    'Date': 'date', \n",
    "    'Store Number': 'store_num', \n",
    "    'Store Name': 'store_name', \n",
    "    'Address': 'address', \n",
    "    'City': 'city', \n",
    "    'Zip Code': 'zip_code',\n",
    "    'County': 'county', \n",
    "    'Category': 'category', \n",
    "    'Category Name': 'category_name', \n",
    "    'Vendor Number': 'vendor_number', \n",
    "    'Vendor Name': 'vendor_name',\n",
    "    'Item Number': 'item_num', \n",
    "    'Item Description': 'item_description', \n",
    "    'Pack': 'pack', \n",
    "    'Bottle Volume (ml)': 'bottle_volume',\n",
    "    'State Bottle Cost': 'bottle_cost', \n",
    "    'State Bottle Retail': 'bottle_retail', \n",
    "    'Bottles Sold': 'bottles_sold',\n",
    "    'Sale (Dollars)': 'sales_usd', \n",
    "    'Volume Sold (Liters)': 'sales_liters', \n",
    "    'Volume Sold (Gallons)': 'sales_gallons'\n",
    "}\n",
    "\n",
    "liquor_df = liquor_df.rename(columns = cols)"
   ]
  },
  {
   "cell_type": "code",
   "execution_count": 319,
   "id": "af25213e",
   "metadata": {},
   "outputs": [
    {
     "data": {
      "text/html": [
       "<div>\n",
       "<style scoped>\n",
       "    .dataframe tbody tr th:only-of-type {\n",
       "        vertical-align: middle;\n",
       "    }\n",
       "\n",
       "    .dataframe tbody tr th {\n",
       "        vertical-align: top;\n",
       "    }\n",
       "\n",
       "    .dataframe thead th {\n",
       "        text-align: right;\n",
       "    }\n",
       "</style>\n",
       "<table border=\"1\" class=\"dataframe\">\n",
       "  <thead>\n",
       "    <tr style=\"text-align: right;\">\n",
       "      <th></th>\n",
       "      <th>invoice_num</th>\n",
       "      <th>date</th>\n",
       "      <th>store_num</th>\n",
       "      <th>store_name</th>\n",
       "      <th>address</th>\n",
       "      <th>city</th>\n",
       "      <th>zip_code</th>\n",
       "      <th>county</th>\n",
       "      <th>category</th>\n",
       "      <th>category_name</th>\n",
       "      <th>...</th>\n",
       "      <th>pack</th>\n",
       "      <th>bottle_volume</th>\n",
       "      <th>bottle_cost</th>\n",
       "      <th>bottle_retail</th>\n",
       "      <th>bottles_sold</th>\n",
       "      <th>sales_usd</th>\n",
       "      <th>sales_liters</th>\n",
       "      <th>sales_gallons</th>\n",
       "      <th>year</th>\n",
       "      <th>month</th>\n",
       "    </tr>\n",
       "  </thead>\n",
       "  <tbody>\n",
       "    <tr>\n",
       "      <th>0</th>\n",
       "      <td>S04043600015</td>\n",
       "      <td>2012-02-13</td>\n",
       "      <td>3932</td>\n",
       "      <td>Main Street Spirits / Mapleton</td>\n",
       "      <td>311 MAIN ST</td>\n",
       "      <td>MAPLETON</td>\n",
       "      <td>51034</td>\n",
       "      <td>Monona</td>\n",
       "      <td>1012100.0</td>\n",
       "      <td>CANADIAN WHISKIES</td>\n",
       "      <td>...</td>\n",
       "      <td>6</td>\n",
       "      <td>1750</td>\n",
       "      <td>8.92</td>\n",
       "      <td>13.38</td>\n",
       "      <td>6</td>\n",
       "      <td>80.28</td>\n",
       "      <td>10.50</td>\n",
       "      <td>2.77</td>\n",
       "      <td>2012</td>\n",
       "      <td>02</td>\n",
       "    </tr>\n",
       "    <tr>\n",
       "      <th>1</th>\n",
       "      <td>S12800300005</td>\n",
       "      <td>2013-06-14</td>\n",
       "      <td>4276</td>\n",
       "      <td>Wj's Liquor</td>\n",
       "      <td>107 N MILL ST</td>\n",
       "      <td>LAKE MILLS</td>\n",
       "      <td>50450</td>\n",
       "      <td>Winnebago</td>\n",
       "      <td>1062300.0</td>\n",
       "      <td>FLAVORED RUM</td>\n",
       "      <td>...</td>\n",
       "      <td>12</td>\n",
       "      <td>1000</td>\n",
       "      <td>10.00</td>\n",
       "      <td>14.99</td>\n",
       "      <td>12</td>\n",
       "      <td>179.88</td>\n",
       "      <td>12.00</td>\n",
       "      <td>3.17</td>\n",
       "      <td>2013</td>\n",
       "      <td>06</td>\n",
       "    </tr>\n",
       "    <tr>\n",
       "      <th>2</th>\n",
       "      <td>S17184100003</td>\n",
       "      <td>2014-02-03</td>\n",
       "      <td>3700</td>\n",
       "      <td>Avoca Liquor</td>\n",
       "      <td>158 SOUTH ELM</td>\n",
       "      <td>AVOCA</td>\n",
       "      <td>51521</td>\n",
       "      <td>Pottawattamie</td>\n",
       "      <td>1011300.0</td>\n",
       "      <td>TENNESSEE WHISKIES</td>\n",
       "      <td>...</td>\n",
       "      <td>12</td>\n",
       "      <td>1000</td>\n",
       "      <td>17.41</td>\n",
       "      <td>26.12</td>\n",
       "      <td>12</td>\n",
       "      <td>313.44</td>\n",
       "      <td>12.00</td>\n",
       "      <td>3.17</td>\n",
       "      <td>2014</td>\n",
       "      <td>02</td>\n",
       "    </tr>\n",
       "    <tr>\n",
       "      <th>3</th>\n",
       "      <td>S29002600016</td>\n",
       "      <td>2015-11-11</td>\n",
       "      <td>3894</td>\n",
       "      <td>Smokin' Joe's #6 Tobacco and Liquor</td>\n",
       "      <td>1404  1ST AVE NE</td>\n",
       "      <td>CEDAR RAPIDS</td>\n",
       "      <td>52402</td>\n",
       "      <td>Linn</td>\n",
       "      <td>1081600.0</td>\n",
       "      <td>WHISKEY LIQUEUR</td>\n",
       "      <td>...</td>\n",
       "      <td>24</td>\n",
       "      <td>375</td>\n",
       "      <td>4.78</td>\n",
       "      <td>7.17</td>\n",
       "      <td>4</td>\n",
       "      <td>28.68</td>\n",
       "      <td>1.50</td>\n",
       "      <td>0.40</td>\n",
       "      <td>2015</td>\n",
       "      <td>11</td>\n",
       "    </tr>\n",
       "    <tr>\n",
       "      <th>4</th>\n",
       "      <td>S25312900004</td>\n",
       "      <td>2015-04-28</td>\n",
       "      <td>3742</td>\n",
       "      <td>Wal-Mart 1625 / Lemars</td>\n",
       "      <td>1111 HOLTON DR</td>\n",
       "      <td>LEMARS</td>\n",
       "      <td>51031</td>\n",
       "      <td>Plymouth</td>\n",
       "      <td>1081600.0</td>\n",
       "      <td>WHISKEY LIQUEUR</td>\n",
       "      <td>...</td>\n",
       "      <td>12</td>\n",
       "      <td>750</td>\n",
       "      <td>9.85</td>\n",
       "      <td>14.78</td>\n",
       "      <td>12</td>\n",
       "      <td>177.36</td>\n",
       "      <td>9.00</td>\n",
       "      <td>2.38</td>\n",
       "      <td>2015</td>\n",
       "      <td>04</td>\n",
       "    </tr>\n",
       "    <tr>\n",
       "      <th>5</th>\n",
       "      <td>S10040300190</td>\n",
       "      <td>2013-01-15</td>\n",
       "      <td>2616</td>\n",
       "      <td>Hy-Vee Food and Drug / Clinton</td>\n",
       "      <td>901 SOUTH 4TH ST</td>\n",
       "      <td>CLINTON</td>\n",
       "      <td>52732</td>\n",
       "      <td>Clinton</td>\n",
       "      <td>1081340.0</td>\n",
       "      <td>ROOT BEER SCHNAPPS</td>\n",
       "      <td>...</td>\n",
       "      <td>12</td>\n",
       "      <td>750</td>\n",
       "      <td>6.30</td>\n",
       "      <td>9.45</td>\n",
       "      <td>3</td>\n",
       "      <td>28.35</td>\n",
       "      <td>2.25</td>\n",
       "      <td>0.59</td>\n",
       "      <td>2013</td>\n",
       "      <td>01</td>\n",
       "    </tr>\n",
       "    <tr>\n",
       "      <th>6</th>\n",
       "      <td>S26086200016</td>\n",
       "      <td>2015-06-09</td>\n",
       "      <td>4559</td>\n",
       "      <td>Osage Payless Foods</td>\n",
       "      <td>633, CHASE ST</td>\n",
       "      <td>OSAGE</td>\n",
       "      <td>50461</td>\n",
       "      <td>Mitchell</td>\n",
       "      <td>1081330.0</td>\n",
       "      <td>PEACH SCHNAPPS</td>\n",
       "      <td>...</td>\n",
       "      <td>12</td>\n",
       "      <td>750</td>\n",
       "      <td>6.30</td>\n",
       "      <td>9.45</td>\n",
       "      <td>3</td>\n",
       "      <td>28.35</td>\n",
       "      <td>2.25</td>\n",
       "      <td>0.59</td>\n",
       "      <td>2015</td>\n",
       "      <td>06</td>\n",
       "    </tr>\n",
       "    <tr>\n",
       "      <th>7</th>\n",
       "      <td>S06200700032</td>\n",
       "      <td>2012-06-21</td>\n",
       "      <td>2568</td>\n",
       "      <td>Hy-Vee Food Store #4 / Cedar Rapids</td>\n",
       "      <td>1556 FIRST AVENUE NE</td>\n",
       "      <td>CEDAR RAPIDS</td>\n",
       "      <td>52402</td>\n",
       "      <td>Linn</td>\n",
       "      <td>1011100.0</td>\n",
       "      <td>BLENDED WHISKIES</td>\n",
       "      <td>...</td>\n",
       "      <td>12</td>\n",
       "      <td>750</td>\n",
       "      <td>3.35</td>\n",
       "      <td>5.02</td>\n",
       "      <td>24</td>\n",
       "      <td>120.48</td>\n",
       "      <td>18.00</td>\n",
       "      <td>4.76</td>\n",
       "      <td>2012</td>\n",
       "      <td>06</td>\n",
       "    </tr>\n",
       "    <tr>\n",
       "      <th>8</th>\n",
       "      <td>S28164600008</td>\n",
       "      <td>2015-09-29</td>\n",
       "      <td>4732</td>\n",
       "      <td>Walgreens #07967 / Clive</td>\n",
       "      <td>15601 HICKMAN RD</td>\n",
       "      <td>CLIVE</td>\n",
       "      <td>50325</td>\n",
       "      <td>Polk</td>\n",
       "      <td>1032200.0</td>\n",
       "      <td>IMPORTED VODKA - MISC</td>\n",
       "      <td>...</td>\n",
       "      <td>12</td>\n",
       "      <td>750</td>\n",
       "      <td>11.49</td>\n",
       "      <td>17.24</td>\n",
       "      <td>12</td>\n",
       "      <td>206.88</td>\n",
       "      <td>9.00</td>\n",
       "      <td>2.38</td>\n",
       "      <td>2015</td>\n",
       "      <td>09</td>\n",
       "    </tr>\n",
       "    <tr>\n",
       "      <th>9</th>\n",
       "      <td>S10306000026</td>\n",
       "      <td>2013-01-29</td>\n",
       "      <td>3962</td>\n",
       "      <td>Durant Street Country Stop</td>\n",
       "      <td>618 DURANT ST</td>\n",
       "      <td>HARLAN</td>\n",
       "      <td>51537</td>\n",
       "      <td>Shelby</td>\n",
       "      <td>1081390.0</td>\n",
       "      <td>IMPORTED SCHNAPPS</td>\n",
       "      <td>...</td>\n",
       "      <td>12</td>\n",
       "      <td>500</td>\n",
       "      <td>13.50</td>\n",
       "      <td>20.25</td>\n",
       "      <td>1</td>\n",
       "      <td>20.25</td>\n",
       "      <td>0.50</td>\n",
       "      <td>0.13</td>\n",
       "      <td>2013</td>\n",
       "      <td>01</td>\n",
       "    </tr>\n",
       "    <tr>\n",
       "      <th>10</th>\n",
       "      <td>S26589700062</td>\n",
       "      <td>2015-07-06</td>\n",
       "      <td>2549</td>\n",
       "      <td>Hy-Vee Food Store / Indianola</td>\n",
       "      <td>910 N JEFFERSON</td>\n",
       "      <td>INDIANOLA</td>\n",
       "      <td>50125</td>\n",
       "      <td>Warren</td>\n",
       "      <td>1031080.0</td>\n",
       "      <td>VODKA 80 PROOF</td>\n",
       "      <td>...</td>\n",
       "      <td>6</td>\n",
       "      <td>1750</td>\n",
       "      <td>7.17</td>\n",
       "      <td>10.76</td>\n",
       "      <td>6</td>\n",
       "      <td>64.56</td>\n",
       "      <td>10.50</td>\n",
       "      <td>2.77</td>\n",
       "      <td>2015</td>\n",
       "      <td>07</td>\n",
       "    </tr>\n",
       "    <tr>\n",
       "      <th>11</th>\n",
       "      <td>S12106600050</td>\n",
       "      <td>2013-05-08</td>\n",
       "      <td>2661</td>\n",
       "      <td>Hy-Vee Food Store / Sheldon</td>\n",
       "      <td>1989 PARK ST</td>\n",
       "      <td>SHELDON</td>\n",
       "      <td>51201</td>\n",
       "      <td>O'Brien</td>\n",
       "      <td>1081390.0</td>\n",
       "      <td>IMPORTED SCHNAPPS</td>\n",
       "      <td>...</td>\n",
       "      <td>12</td>\n",
       "      <td>750</td>\n",
       "      <td>8.66</td>\n",
       "      <td>12.99</td>\n",
       "      <td>6</td>\n",
       "      <td>77.94</td>\n",
       "      <td>4.50</td>\n",
       "      <td>1.19</td>\n",
       "      <td>2013</td>\n",
       "      <td>05</td>\n",
       "    </tr>\n",
       "    <tr>\n",
       "      <th>12</th>\n",
       "      <td>S24711500011</td>\n",
       "      <td>2015-03-25</td>\n",
       "      <td>2285</td>\n",
       "      <td>John's Grocery</td>\n",
       "      <td>401 EAST MARKET ST</td>\n",
       "      <td>IOWA CITY</td>\n",
       "      <td>52240</td>\n",
       "      <td>Johnson</td>\n",
       "      <td>1031200.0</td>\n",
       "      <td>VODKA FLAVORED</td>\n",
       "      <td>...</td>\n",
       "      <td>12</td>\n",
       "      <td>750</td>\n",
       "      <td>8.25</td>\n",
       "      <td>12.38</td>\n",
       "      <td>12</td>\n",
       "      <td>148.56</td>\n",
       "      <td>9.00</td>\n",
       "      <td>2.38</td>\n",
       "      <td>2015</td>\n",
       "      <td>03</td>\n",
       "    </tr>\n",
       "    <tr>\n",
       "      <th>13</th>\n",
       "      <td>S08806200018</td>\n",
       "      <td>2012-11-07</td>\n",
       "      <td>3779</td>\n",
       "      <td>Station Wine and Spirits, T</td>\n",
       "      <td>2324 N 15TH ST</td>\n",
       "      <td>FORT DODGE</td>\n",
       "      <td>50501</td>\n",
       "      <td>Webster</td>\n",
       "      <td>1081200.0</td>\n",
       "      <td>CREAM LIQUEURS</td>\n",
       "      <td>...</td>\n",
       "      <td>12</td>\n",
       "      <td>750</td>\n",
       "      <td>5.55</td>\n",
       "      <td>10.57</td>\n",
       "      <td>2</td>\n",
       "      <td>21.14</td>\n",
       "      <td>1.50</td>\n",
       "      <td>0.40</td>\n",
       "      <td>2012</td>\n",
       "      <td>11</td>\n",
       "    </tr>\n",
       "    <tr>\n",
       "      <th>14</th>\n",
       "      <td>S26834500023</td>\n",
       "      <td>2015-07-20</td>\n",
       "      <td>2460</td>\n",
       "      <td>Liquor Barn, Inc.</td>\n",
       "      <td>721 CENTRAL AVENUE WEST</td>\n",
       "      <td>HAMPTON</td>\n",
       "      <td>50441</td>\n",
       "      <td>Franklin</td>\n",
       "      <td>1062200.0</td>\n",
       "      <td>PUERTO RICO &amp; VIRGIN ISLANDS RUM</td>\n",
       "      <td>...</td>\n",
       "      <td>12</td>\n",
       "      <td>1000</td>\n",
       "      <td>4.34</td>\n",
       "      <td>6.51</td>\n",
       "      <td>12</td>\n",
       "      <td>78.12</td>\n",
       "      <td>12.00</td>\n",
       "      <td>3.17</td>\n",
       "      <td>2015</td>\n",
       "      <td>07</td>\n",
       "    </tr>\n",
       "    <tr>\n",
       "      <th>15</th>\n",
       "      <td>S25401400027</td>\n",
       "      <td>2015-04-30</td>\n",
       "      <td>2528</td>\n",
       "      <td>Hy-Vee Food Store #3 / Des Moines</td>\n",
       "      <td>3221 SE 14TH ST</td>\n",
       "      <td>DES MOINES</td>\n",
       "      <td>50315</td>\n",
       "      <td>Polk</td>\n",
       "      <td>1031080.0</td>\n",
       "      <td>VODKA 80 PROOF</td>\n",
       "      <td>...</td>\n",
       "      <td>24</td>\n",
       "      <td>375</td>\n",
       "      <td>3.50</td>\n",
       "      <td>5.25</td>\n",
       "      <td>24</td>\n",
       "      <td>126.00</td>\n",
       "      <td>9.00</td>\n",
       "      <td>2.38</td>\n",
       "      <td>2015</td>\n",
       "      <td>04</td>\n",
       "    </tr>\n",
       "    <tr>\n",
       "      <th>16</th>\n",
       "      <td>S19143000017</td>\n",
       "      <td>2014-05-23</td>\n",
       "      <td>4184</td>\n",
       "      <td>Fareway Stores #998 / Muscatine</td>\n",
       "      <td>2100 CEDAR PLAZA DR</td>\n",
       "      <td>MUSCATINE</td>\n",
       "      <td>52761</td>\n",
       "      <td>Muscatine</td>\n",
       "      <td>1011200.0</td>\n",
       "      <td>STRAIGHT BOURBON WHISKIES</td>\n",
       "      <td>...</td>\n",
       "      <td>12</td>\n",
       "      <td>750</td>\n",
       "      <td>12.99</td>\n",
       "      <td>19.49</td>\n",
       "      <td>3</td>\n",
       "      <td>58.47</td>\n",
       "      <td>2.25</td>\n",
       "      <td>0.59</td>\n",
       "      <td>2014</td>\n",
       "      <td>05</td>\n",
       "    </tr>\n",
       "    <tr>\n",
       "      <th>17</th>\n",
       "      <td>S21734000026</td>\n",
       "      <td>2014-10-13</td>\n",
       "      <td>2628</td>\n",
       "      <td>Hy-Vee Food Store / Eldora</td>\n",
       "      <td>1616 EDGINGTON</td>\n",
       "      <td>ELDORA</td>\n",
       "      <td>50627</td>\n",
       "      <td>Hardin</td>\n",
       "      <td>1051120.0</td>\n",
       "      <td>CHERRY BRANDIES</td>\n",
       "      <td>...</td>\n",
       "      <td>12</td>\n",
       "      <td>750</td>\n",
       "      <td>5.38</td>\n",
       "      <td>8.07</td>\n",
       "      <td>4</td>\n",
       "      <td>32.28</td>\n",
       "      <td>3.00</td>\n",
       "      <td>0.79</td>\n",
       "      <td>2014</td>\n",
       "      <td>10</td>\n",
       "    </tr>\n",
       "    <tr>\n",
       "      <th>18</th>\n",
       "      <td>S03714600040</td>\n",
       "      <td>2012-01-24</td>\n",
       "      <td>2465</td>\n",
       "      <td>Sid's Beverage Shop</td>\n",
       "      <td>2727 DODGE ST</td>\n",
       "      <td>DUBUQUE</td>\n",
       "      <td>52003</td>\n",
       "      <td>Dubuque</td>\n",
       "      <td>1031200.0</td>\n",
       "      <td>VODKA FLAVORED</td>\n",
       "      <td>...</td>\n",
       "      <td>12</td>\n",
       "      <td>1000</td>\n",
       "      <td>7.25</td>\n",
       "      <td>10.87</td>\n",
       "      <td>24</td>\n",
       "      <td>260.88</td>\n",
       "      <td>24.00</td>\n",
       "      <td>6.34</td>\n",
       "      <td>2012</td>\n",
       "      <td>01</td>\n",
       "    </tr>\n",
       "    <tr>\n",
       "      <th>19</th>\n",
       "      <td>S09099800008</td>\n",
       "      <td>2012-11-20</td>\n",
       "      <td>4102</td>\n",
       "      <td>Fareway Stores #386 / Ames</td>\n",
       "      <td>619 BURNETT AVE</td>\n",
       "      <td>AMES</td>\n",
       "      <td>50010</td>\n",
       "      <td>Story</td>\n",
       "      <td>1011200.0</td>\n",
       "      <td>STRAIGHT BOURBON WHISKIES</td>\n",
       "      <td>...</td>\n",
       "      <td>12</td>\n",
       "      <td>750</td>\n",
       "      <td>4.10</td>\n",
       "      <td>6.15</td>\n",
       "      <td>12</td>\n",
       "      <td>73.80</td>\n",
       "      <td>9.00</td>\n",
       "      <td>2.38</td>\n",
       "      <td>2012</td>\n",
       "      <td>11</td>\n",
       "    </tr>\n",
       "  </tbody>\n",
       "</table>\n",
       "<p>20 rows × 24 columns</p>\n",
       "</div>"
      ],
      "text/plain": [
       "     invoice_num       date  store_num                           store_name  \\\n",
       "0   S04043600015 2012-02-13       3932       Main Street Spirits / Mapleton   \n",
       "1   S12800300005 2013-06-14       4276                          Wj's Liquor   \n",
       "2   S17184100003 2014-02-03       3700                         Avoca Liquor   \n",
       "3   S29002600016 2015-11-11       3894  Smokin' Joe's #6 Tobacco and Liquor   \n",
       "4   S25312900004 2015-04-28       3742               Wal-Mart 1625 / Lemars   \n",
       "5   S10040300190 2013-01-15       2616       Hy-Vee Food and Drug / Clinton   \n",
       "6   S26086200016 2015-06-09       4559                  Osage Payless Foods   \n",
       "7   S06200700032 2012-06-21       2568  Hy-Vee Food Store #4 / Cedar Rapids   \n",
       "8   S28164600008 2015-09-29       4732             Walgreens #07967 / Clive   \n",
       "9   S10306000026 2013-01-29       3962           Durant Street Country Stop   \n",
       "10  S26589700062 2015-07-06       2549        Hy-Vee Food Store / Indianola   \n",
       "11  S12106600050 2013-05-08       2661          Hy-Vee Food Store / Sheldon   \n",
       "12  S24711500011 2015-03-25       2285                       John's Grocery   \n",
       "13  S08806200018 2012-11-07       3779          Station Wine and Spirits, T   \n",
       "14  S26834500023 2015-07-20       2460                    Liquor Barn, Inc.   \n",
       "15  S25401400027 2015-04-30       2528    Hy-Vee Food Store #3 / Des Moines   \n",
       "16  S19143000017 2014-05-23       4184      Fareway Stores #998 / Muscatine   \n",
       "17  S21734000026 2014-10-13       2628           Hy-Vee Food Store / Eldora   \n",
       "18  S03714600040 2012-01-24       2465                  Sid's Beverage Shop   \n",
       "19  S09099800008 2012-11-20       4102           Fareway Stores #386 / Ames   \n",
       "\n",
       "                    address          city zip_code         county   category  \\\n",
       "0               311 MAIN ST      MAPLETON    51034         Monona  1012100.0   \n",
       "1             107 N MILL ST    LAKE MILLS    50450      Winnebago  1062300.0   \n",
       "2             158 SOUTH ELM         AVOCA    51521  Pottawattamie  1011300.0   \n",
       "3          1404  1ST AVE NE  CEDAR RAPIDS    52402           Linn  1081600.0   \n",
       "4            1111 HOLTON DR        LEMARS    51031       Plymouth  1081600.0   \n",
       "5          901 SOUTH 4TH ST       CLINTON    52732        Clinton  1081340.0   \n",
       "6             633, CHASE ST         OSAGE    50461       Mitchell  1081330.0   \n",
       "7      1556 FIRST AVENUE NE  CEDAR RAPIDS    52402           Linn  1011100.0   \n",
       "8          15601 HICKMAN RD         CLIVE    50325           Polk  1032200.0   \n",
       "9             618 DURANT ST        HARLAN    51537         Shelby  1081390.0   \n",
       "10          910 N JEFFERSON     INDIANOLA    50125         Warren  1031080.0   \n",
       "11             1989 PARK ST       SHELDON    51201        O'Brien  1081390.0   \n",
       "12       401 EAST MARKET ST     IOWA CITY    52240        Johnson  1031200.0   \n",
       "13           2324 N 15TH ST    FORT DODGE    50501        Webster  1081200.0   \n",
       "14  721 CENTRAL AVENUE WEST       HAMPTON    50441       Franklin  1062200.0   \n",
       "15          3221 SE 14TH ST    DES MOINES    50315           Polk  1031080.0   \n",
       "16      2100 CEDAR PLAZA DR     MUSCATINE    52761      Muscatine  1011200.0   \n",
       "17           1616 EDGINGTON        ELDORA    50627         Hardin  1051120.0   \n",
       "18            2727 DODGE ST       DUBUQUE    52003        Dubuque  1031200.0   \n",
       "19          619 BURNETT AVE          AMES    50010          Story  1011200.0   \n",
       "\n",
       "                       category_name  ...  pack bottle_volume bottle_cost  \\\n",
       "0                  CANADIAN WHISKIES  ...     6          1750        8.92   \n",
       "1                       FLAVORED RUM  ...    12          1000       10.00   \n",
       "2                 TENNESSEE WHISKIES  ...    12          1000       17.41   \n",
       "3                    WHISKEY LIQUEUR  ...    24           375        4.78   \n",
       "4                    WHISKEY LIQUEUR  ...    12           750        9.85   \n",
       "5                 ROOT BEER SCHNAPPS  ...    12           750        6.30   \n",
       "6                     PEACH SCHNAPPS  ...    12           750        6.30   \n",
       "7                   BLENDED WHISKIES  ...    12           750        3.35   \n",
       "8              IMPORTED VODKA - MISC  ...    12           750       11.49   \n",
       "9                  IMPORTED SCHNAPPS  ...    12           500       13.50   \n",
       "10                    VODKA 80 PROOF  ...     6          1750        7.17   \n",
       "11                 IMPORTED SCHNAPPS  ...    12           750        8.66   \n",
       "12                    VODKA FLAVORED  ...    12           750        8.25   \n",
       "13                    CREAM LIQUEURS  ...    12           750        5.55   \n",
       "14  PUERTO RICO & VIRGIN ISLANDS RUM  ...    12          1000        4.34   \n",
       "15                    VODKA 80 PROOF  ...    24           375        3.50   \n",
       "16         STRAIGHT BOURBON WHISKIES  ...    12           750       12.99   \n",
       "17                   CHERRY BRANDIES  ...    12           750        5.38   \n",
       "18                    VODKA FLAVORED  ...    12          1000        7.25   \n",
       "19         STRAIGHT BOURBON WHISKIES  ...    12           750        4.10   \n",
       "\n",
       "   bottle_retail  bottles_sold  sales_usd  sales_liters  sales_gallons  year  \\\n",
       "0          13.38             6      80.28         10.50           2.77  2012   \n",
       "1          14.99            12     179.88         12.00           3.17  2013   \n",
       "2          26.12            12     313.44         12.00           3.17  2014   \n",
       "3           7.17             4      28.68          1.50           0.40  2015   \n",
       "4          14.78            12     177.36          9.00           2.38  2015   \n",
       "5           9.45             3      28.35          2.25           0.59  2013   \n",
       "6           9.45             3      28.35          2.25           0.59  2015   \n",
       "7           5.02            24     120.48         18.00           4.76  2012   \n",
       "8          17.24            12     206.88          9.00           2.38  2015   \n",
       "9          20.25             1      20.25          0.50           0.13  2013   \n",
       "10         10.76             6      64.56         10.50           2.77  2015   \n",
       "11         12.99             6      77.94          4.50           1.19  2013   \n",
       "12         12.38            12     148.56          9.00           2.38  2015   \n",
       "13         10.57             2      21.14          1.50           0.40  2012   \n",
       "14          6.51            12      78.12         12.00           3.17  2015   \n",
       "15          5.25            24     126.00          9.00           2.38  2015   \n",
       "16         19.49             3      58.47          2.25           0.59  2014   \n",
       "17          8.07             4      32.28          3.00           0.79  2014   \n",
       "18         10.87            24     260.88         24.00           6.34  2012   \n",
       "19          6.15            12      73.80          9.00           2.38  2012   \n",
       "\n",
       "    month  \n",
       "0      02  \n",
       "1      06  \n",
       "2      02  \n",
       "3      11  \n",
       "4      04  \n",
       "5      01  \n",
       "6      06  \n",
       "7      06  \n",
       "8      09  \n",
       "9      01  \n",
       "10     07  \n",
       "11     05  \n",
       "12     03  \n",
       "13     11  \n",
       "14     07  \n",
       "15     04  \n",
       "16     05  \n",
       "17     10  \n",
       "18     01  \n",
       "19     11  \n",
       "\n",
       "[20 rows x 24 columns]"
      ]
     },
     "execution_count": 319,
     "metadata": {},
     "output_type": "execute_result"
    }
   ],
   "source": [
    "liquor_df.head(20)"
   ]
  },
  {
   "cell_type": "code",
   "execution_count": null,
   "id": "21318e45",
   "metadata": {},
   "outputs": [],
   "source": [
    "# Drop columns 'Store Location' & 'County Number'\n",
    "# Contains many nulls, inaccurate county numbers\n",
    "liquor_df.drop(['Store Location', 'County Number'], axis=1, inplace=True)"
   ]
  },
  {
   "cell_type": "code",
   "execution_count": 63,
   "id": "1dc1b3be",
   "metadata": {},
   "outputs": [],
   "source": [
    "# save csv of entire liquor df\n",
    "liquor_df.to_csv('cleaned_liquor.csv')"
   ]
  },
  {
   "cell_type": "code",
   "execution_count": 65,
   "id": "68ce53e1",
   "metadata": {},
   "outputs": [],
   "source": [
    "# Filter for 2021 entries only\n",
    "liquor_2021 = liquor_df[\n",
    "    (liquor_df['date'] > '2020-12-31') &\n",
    "    (liquor_df['date'] < '2022-01-01')]"
   ]
  },
  {
   "cell_type": "code",
   "execution_count": 66,
   "id": "eedefcbc",
   "metadata": {},
   "outputs": [
    {
     "data": {
      "text/plain": [
       "(2622712, 24)"
      ]
     },
     "execution_count": 66,
     "metadata": {},
     "output_type": "execute_result"
    }
   ],
   "source": [
    "# Check shape\n",
    "liquor_2021.shape"
   ]
  },
  {
   "cell_type": "code",
   "execution_count": 67,
   "id": "d4a8e403",
   "metadata": {},
   "outputs": [
    {
     "name": "stdout",
     "output_type": "stream",
     "text": [
      "<class 'pandas.core.frame.DataFrame'>\n",
      "Int64Index: 2622712 entries, 7896340 to 14415478\n",
      "Data columns (total 24 columns):\n",
      " #   Column            Dtype         \n",
      "---  ------            -----         \n",
      " 0   invoice_num       object        \n",
      " 1   date              datetime64[ns]\n",
      " 2   store_num         int64         \n",
      " 3   store_name        object        \n",
      " 4   address           object        \n",
      " 5   city              object        \n",
      " 6   zip_code          object        \n",
      " 7   county            object        \n",
      " 8   category          float64       \n",
      " 9   category_name     object        \n",
      " 10  vendor_number     float64       \n",
      " 11  vendor_name       object        \n",
      " 12  item_num          object        \n",
      " 13  item_description  object        \n",
      " 14  pack              int64         \n",
      " 15  bottle_volume     int64         \n",
      " 16  bottle_cost       float64       \n",
      " 17  bottle_retail     float64       \n",
      " 18  bottles_sold      int64         \n",
      " 19  sales_usd         float64       \n",
      " 20  sales_liters      float64       \n",
      " 21  sales_gallons     float64       \n",
      " 22  year              object        \n",
      " 23  month             object        \n",
      "dtypes: datetime64[ns](1), float64(7), int64(4), object(12)\n",
      "memory usage: 500.2+ MB\n"
     ]
    }
   ],
   "source": [
    "liquor_2021.info()"
   ]
  },
  {
   "cell_type": "code",
   "execution_count": 68,
   "id": "21d901fa",
   "metadata": {},
   "outputs": [
    {
     "data": {
      "text/plain": [
       "invoice_num           0\n",
       "date                  0\n",
       "store_num             0\n",
       "store_name            0\n",
       "address             142\n",
       "city                142\n",
       "zip_code            142\n",
       "county              142\n",
       "category              0\n",
       "category_name         0\n",
       "vendor_number         4\n",
       "vendor_name           4\n",
       "item_num              0\n",
       "item_description      0\n",
       "pack                  0\n",
       "bottle_volume         0\n",
       "bottle_cost           0\n",
       "bottle_retail         0\n",
       "bottles_sold          0\n",
       "sales_usd             0\n",
       "sales_liters          0\n",
       "sales_gallons         0\n",
       "year                  0\n",
       "month                 0\n",
       "dtype: int64"
      ]
     },
     "execution_count": 68,
     "metadata": {},
     "output_type": "execute_result"
    }
   ],
   "source": [
    "# Check for null values\n",
    "liquor_2021.isnull().sum(axis=0)"
   ]
  },
  {
   "cell_type": "code",
   "execution_count": 69,
   "id": "ed6e5b6c",
   "metadata": {},
   "outputs": [],
   "source": [
    "# drop null values \n",
    "liquor_2021 = liquor_2021.dropna()"
   ]
  },
  {
   "cell_type": "code",
   "execution_count": 71,
   "id": "094dd1d5",
   "metadata": {},
   "outputs": [],
   "source": [
    "# save liquor_2021 to csv\n",
    "liquor_2021.to_csv('liquor21.csv')"
   ]
  },
  {
   "cell_type": "code",
   "execution_count": 72,
   "id": "b2229b85",
   "metadata": {},
   "outputs": [],
   "source": [
    "# filter on vodka only\n",
    "vodka_2021 = liquor_2021[liquor_2021['category_name'].str.contains(\"Vodka\")]"
   ]
  },
  {
   "cell_type": "code",
   "execution_count": 73,
   "id": "85cd49f0",
   "metadata": {},
   "outputs": [
    {
     "data": {
      "text/plain": [
       "(625923, 24)"
      ]
     },
     "execution_count": 73,
     "metadata": {},
     "output_type": "execute_result"
    }
   ],
   "source": [
    "vodka_2021.shape"
   ]
  },
  {
   "cell_type": "markdown",
   "id": "500f38f2",
   "metadata": {},
   "source": [
    "### Add County FIPS numbers to DF"
   ]
  },
  {
   "cell_type": "code",
   "execution_count": 76,
   "id": "9af9dfc7",
   "metadata": {},
   "outputs": [
    {
     "name": "stderr",
     "output_type": "stream",
     "text": [
      "/var/folders/d4/4s9thvnx41xgd5z9q39vv23h0000gn/T/ipykernel_4624/140086370.py:2: SettingWithCopyWarning: \n",
      "A value is trying to be set on a copy of a slice from a DataFrame.\n",
      "Try using .loc[row_indexer,col_indexer] = value instead\n",
      "\n",
      "See the caveats in the documentation: https://pandas.pydata.org/pandas-docs/stable/user_guide/indexing.html#returning-a-view-versus-a-copy\n",
      "  vodka_2021['state'] = 'Iowa'\n"
     ]
    }
   ],
   "source": [
    "# Add state column for getting FIPS\n",
    "vodka_2021['state'] = 'Iowa'"
   ]
  },
  {
   "cell_type": "code",
   "execution_count": 77,
   "id": "f7e67da6",
   "metadata": {},
   "outputs": [],
   "source": [
    "fips = pd.DataFrame(vodka_2021.groupby(['state', 'county'])\n",
    "                    .size().reset_index().iloc[:,[0,1]])"
   ]
  },
  {
   "cell_type": "code",
   "execution_count": 79,
   "id": "fc950c48",
   "metadata": {},
   "outputs": [],
   "source": [
    "af = addfips.AddFIPS()\n",
    "for index, row in fips.iterrows():\n",
    "    fips.at[index, 'FIPS']=af.get_county_fips(fips.at[index,'county'],fips.at[index,'state'])"
   ]
  },
  {
   "cell_type": "code",
   "execution_count": 80,
   "id": "c22a2530",
   "metadata": {},
   "outputs": [],
   "source": [
    "vodka_2021 = fips.merge(vodka_2021, how='inner', on=['county', 'state'])"
   ]
  },
  {
   "cell_type": "code",
   "execution_count": 81,
   "id": "cc8d5532",
   "metadata": {},
   "outputs": [
    {
     "data": {
      "text/plain": [
       "(625923, 26)"
      ]
     },
     "execution_count": 81,
     "metadata": {},
     "output_type": "execute_result"
    }
   ],
   "source": [
    "vodka_2021.shape"
   ]
  },
  {
   "cell_type": "code",
   "execution_count": 83,
   "id": "de66593d",
   "metadata": {},
   "outputs": [
    {
     "data": {
      "text/html": [
       "<div>\n",
       "<style scoped>\n",
       "    .dataframe tbody tr th:only-of-type {\n",
       "        vertical-align: middle;\n",
       "    }\n",
       "\n",
       "    .dataframe tbody tr th {\n",
       "        vertical-align: top;\n",
       "    }\n",
       "\n",
       "    .dataframe thead th {\n",
       "        text-align: right;\n",
       "    }\n",
       "</style>\n",
       "<table border=\"1\" class=\"dataframe\">\n",
       "  <thead>\n",
       "    <tr style=\"text-align: right;\">\n",
       "      <th></th>\n",
       "      <th>state</th>\n",
       "      <th>county</th>\n",
       "      <th>FIPS</th>\n",
       "      <th>invoice_num</th>\n",
       "      <th>date</th>\n",
       "      <th>store_num</th>\n",
       "      <th>store_name</th>\n",
       "      <th>address</th>\n",
       "      <th>city</th>\n",
       "      <th>zip_code</th>\n",
       "      <th>...</th>\n",
       "      <th>pack</th>\n",
       "      <th>bottle_volume</th>\n",
       "      <th>bottle_cost</th>\n",
       "      <th>bottle_retail</th>\n",
       "      <th>bottles_sold</th>\n",
       "      <th>sales_usd</th>\n",
       "      <th>sales_liters</th>\n",
       "      <th>sales_gallons</th>\n",
       "      <th>year</th>\n",
       "      <th>month</th>\n",
       "    </tr>\n",
       "  </thead>\n",
       "  <tbody>\n",
       "    <tr>\n",
       "      <th>150007</th>\n",
       "      <td>Iowa</td>\n",
       "      <td>DUBUQUE</td>\n",
       "      <td>19061</td>\n",
       "      <td>INV-40387700066</td>\n",
       "      <td>2021-09-24</td>\n",
       "      <td>2524</td>\n",
       "      <td>Hy-Vee Food Store / Dubuque</td>\n",
       "      <td>3500 Dodge St</td>\n",
       "      <td>Dubuque</td>\n",
       "      <td>52001</td>\n",
       "      <td>...</td>\n",
       "      <td>24</td>\n",
       "      <td>375</td>\n",
       "      <td>4.75</td>\n",
       "      <td>7.13</td>\n",
       "      <td>6</td>\n",
       "      <td>42.78</td>\n",
       "      <td>2.25</td>\n",
       "      <td>0.59</td>\n",
       "      <td>2021</td>\n",
       "      <td>09</td>\n",
       "    </tr>\n",
       "    <tr>\n",
       "      <th>547510</th>\n",
       "      <td>Iowa</td>\n",
       "      <td>SIOUX</td>\n",
       "      <td>19167</td>\n",
       "      <td>INV-37125600028</td>\n",
       "      <td>2021-06-02</td>\n",
       "      <td>4256</td>\n",
       "      <td>Fareway Stores #912 / Sioux Center</td>\n",
       "      <td>115  1st Ave NW</td>\n",
       "      <td>Sioux Center</td>\n",
       "      <td>51250</td>\n",
       "      <td>...</td>\n",
       "      <td>6</td>\n",
       "      <td>1750</td>\n",
       "      <td>11.50</td>\n",
       "      <td>17.25</td>\n",
       "      <td>2</td>\n",
       "      <td>34.50</td>\n",
       "      <td>3.50</td>\n",
       "      <td>0.92</td>\n",
       "      <td>2021</td>\n",
       "      <td>06</td>\n",
       "    </tr>\n",
       "    <tr>\n",
       "      <th>432342</th>\n",
       "      <td>Iowa</td>\n",
       "      <td>POLK</td>\n",
       "      <td>19153</td>\n",
       "      <td>INV-38000800159</td>\n",
       "      <td>2021-07-02</td>\n",
       "      <td>2532</td>\n",
       "      <td>Hy-Vee Food Store #2 / Des Moines</td>\n",
       "      <td>2540 E Euclid</td>\n",
       "      <td>Des Moines</td>\n",
       "      <td>50317</td>\n",
       "      <td>...</td>\n",
       "      <td>12</td>\n",
       "      <td>750</td>\n",
       "      <td>16.49</td>\n",
       "      <td>24.74</td>\n",
       "      <td>1</td>\n",
       "      <td>24.74</td>\n",
       "      <td>0.75</td>\n",
       "      <td>0.19</td>\n",
       "      <td>2021</td>\n",
       "      <td>07</td>\n",
       "    </tr>\n",
       "    <tr>\n",
       "      <th>326387</th>\n",
       "      <td>Iowa</td>\n",
       "      <td>MONTGOMERY</td>\n",
       "      <td>19137</td>\n",
       "      <td>INV-33695400023</td>\n",
       "      <td>2021-01-22</td>\n",
       "      <td>2518</td>\n",
       "      <td>Hy-Vee Wine and Spirits / Red Oak</td>\n",
       "      <td>1607 North Broadway</td>\n",
       "      <td>Red Oak</td>\n",
       "      <td>51566</td>\n",
       "      <td>...</td>\n",
       "      <td>12</td>\n",
       "      <td>375</td>\n",
       "      <td>2.80</td>\n",
       "      <td>4.20</td>\n",
       "      <td>12</td>\n",
       "      <td>50.40</td>\n",
       "      <td>4.50</td>\n",
       "      <td>1.18</td>\n",
       "      <td>2021</td>\n",
       "      <td>01</td>\n",
       "    </tr>\n",
       "    <tr>\n",
       "      <th>35448</th>\n",
       "      <td>Iowa</td>\n",
       "      <td>BLACK HAWK</td>\n",
       "      <td>19013</td>\n",
       "      <td>INV-38921900004</td>\n",
       "      <td>2021-08-04</td>\n",
       "      <td>5504</td>\n",
       "      <td>Neighborhood Mart</td>\n",
       "      <td>2102 Lafayette St</td>\n",
       "      <td>Waterloo</td>\n",
       "      <td>50703</td>\n",
       "      <td>...</td>\n",
       "      <td>24</td>\n",
       "      <td>375</td>\n",
       "      <td>1.80</td>\n",
       "      <td>2.70</td>\n",
       "      <td>48</td>\n",
       "      <td>129.60</td>\n",
       "      <td>18.00</td>\n",
       "      <td>4.75</td>\n",
       "      <td>2021</td>\n",
       "      <td>08</td>\n",
       "    </tr>\n",
       "    <tr>\n",
       "      <th>271190</th>\n",
       "      <td>Iowa</td>\n",
       "      <td>LINN</td>\n",
       "      <td>19113</td>\n",
       "      <td>INV-36647300456</td>\n",
       "      <td>2021-05-14</td>\n",
       "      <td>6158</td>\n",
       "      <td>Hawks Smoke Shop / Marion</td>\n",
       "      <td>1396 7th Ave</td>\n",
       "      <td>Marion</td>\n",
       "      <td>52302</td>\n",
       "      <td>...</td>\n",
       "      <td>24</td>\n",
       "      <td>200</td>\n",
       "      <td>2.99</td>\n",
       "      <td>4.49</td>\n",
       "      <td>10</td>\n",
       "      <td>44.90</td>\n",
       "      <td>2.00</td>\n",
       "      <td>0.52</td>\n",
       "      <td>2021</td>\n",
       "      <td>05</td>\n",
       "    </tr>\n",
       "    <tr>\n",
       "      <th>358537</th>\n",
       "      <td>Iowa</td>\n",
       "      <td>POLK</td>\n",
       "      <td>19153</td>\n",
       "      <td>INV-33175100069</td>\n",
       "      <td>2021-01-04</td>\n",
       "      <td>2619</td>\n",
       "      <td>Hy-Vee Wine and Spirits / WDM</td>\n",
       "      <td>1725  74th St</td>\n",
       "      <td>West Des Moines</td>\n",
       "      <td>50266</td>\n",
       "      <td>...</td>\n",
       "      <td>6</td>\n",
       "      <td>1000</td>\n",
       "      <td>22.75</td>\n",
       "      <td>34.13</td>\n",
       "      <td>6</td>\n",
       "      <td>204.78</td>\n",
       "      <td>6.00</td>\n",
       "      <td>1.58</td>\n",
       "      <td>2021</td>\n",
       "      <td>01</td>\n",
       "    </tr>\n",
       "    <tr>\n",
       "      <th>542570</th>\n",
       "      <td>Iowa</td>\n",
       "      <td>SCOTT</td>\n",
       "      <td>19163</td>\n",
       "      <td>INV-41117800001</td>\n",
       "      <td>2021-10-19</td>\n",
       "      <td>3731</td>\n",
       "      <td>Wal-Mart 1241 / Davenport</td>\n",
       "      <td>5811 Elmore Ave</td>\n",
       "      <td>Davenport</td>\n",
       "      <td>52807</td>\n",
       "      <td>...</td>\n",
       "      <td>12</td>\n",
       "      <td>50</td>\n",
       "      <td>7.47</td>\n",
       "      <td>11.21</td>\n",
       "      <td>12</td>\n",
       "      <td>134.52</td>\n",
       "      <td>0.60</td>\n",
       "      <td>0.15</td>\n",
       "      <td>2021</td>\n",
       "      <td>10</td>\n",
       "    </tr>\n",
       "    <tr>\n",
       "      <th>437696</th>\n",
       "      <td>Iowa</td>\n",
       "      <td>POLK</td>\n",
       "      <td>19153</td>\n",
       "      <td>INV-38394200025</td>\n",
       "      <td>2021-07-16</td>\n",
       "      <td>5145</td>\n",
       "      <td>South Side Food Mart</td>\n",
       "      <td>1101 Army Post Rd</td>\n",
       "      <td>Des Moines</td>\n",
       "      <td>50315</td>\n",
       "      <td>...</td>\n",
       "      <td>12</td>\n",
       "      <td>750</td>\n",
       "      <td>3.27</td>\n",
       "      <td>4.91</td>\n",
       "      <td>12</td>\n",
       "      <td>58.92</td>\n",
       "      <td>9.00</td>\n",
       "      <td>2.37</td>\n",
       "      <td>2021</td>\n",
       "      <td>07</td>\n",
       "    </tr>\n",
       "    <tr>\n",
       "      <th>281611</th>\n",
       "      <td>Iowa</td>\n",
       "      <td>LINN</td>\n",
       "      <td>19113</td>\n",
       "      <td>INV-38451500002</td>\n",
       "      <td>2021-07-19</td>\n",
       "      <td>3773</td>\n",
       "      <td>Benz Distributing</td>\n",
       "      <td>501 7th Ave SE</td>\n",
       "      <td>Cedar Rapids</td>\n",
       "      <td>52401</td>\n",
       "      <td>...</td>\n",
       "      <td>6</td>\n",
       "      <td>750</td>\n",
       "      <td>15.00</td>\n",
       "      <td>22.50</td>\n",
       "      <td>3</td>\n",
       "      <td>67.50</td>\n",
       "      <td>2.25</td>\n",
       "      <td>0.59</td>\n",
       "      <td>2021</td>\n",
       "      <td>07</td>\n",
       "    </tr>\n",
       "  </tbody>\n",
       "</table>\n",
       "<p>10 rows × 26 columns</p>\n",
       "</div>"
      ],
      "text/plain": [
       "       state      county   FIPS      invoice_num       date  store_num  \\\n",
       "150007  Iowa     DUBUQUE  19061  INV-40387700066 2021-09-24       2524   \n",
       "547510  Iowa       SIOUX  19167  INV-37125600028 2021-06-02       4256   \n",
       "432342  Iowa        POLK  19153  INV-38000800159 2021-07-02       2532   \n",
       "326387  Iowa  MONTGOMERY  19137  INV-33695400023 2021-01-22       2518   \n",
       "35448   Iowa  BLACK HAWK  19013  INV-38921900004 2021-08-04       5504   \n",
       "271190  Iowa        LINN  19113  INV-36647300456 2021-05-14       6158   \n",
       "358537  Iowa        POLK  19153  INV-33175100069 2021-01-04       2619   \n",
       "542570  Iowa       SCOTT  19163  INV-41117800001 2021-10-19       3731   \n",
       "437696  Iowa        POLK  19153  INV-38394200025 2021-07-16       5145   \n",
       "281611  Iowa        LINN  19113  INV-38451500002 2021-07-19       3773   \n",
       "\n",
       "                                store_name              address  \\\n",
       "150007         Hy-Vee Food Store / Dubuque        3500 Dodge St   \n",
       "547510  Fareway Stores #912 / Sioux Center      115  1st Ave NW   \n",
       "432342   Hy-Vee Food Store #2 / Des Moines        2540 E Euclid   \n",
       "326387   Hy-Vee Wine and Spirits / Red Oak  1607 North Broadway   \n",
       "35448                    Neighborhood Mart    2102 Lafayette St   \n",
       "271190           Hawks Smoke Shop / Marion         1396 7th Ave   \n",
       "358537       Hy-Vee Wine and Spirits / WDM        1725  74th St   \n",
       "542570           Wal-Mart 1241 / Davenport      5811 Elmore Ave   \n",
       "437696                South Side Food Mart    1101 Army Post Rd   \n",
       "281611                   Benz Distributing       501 7th Ave SE   \n",
       "\n",
       "                   city zip_code  ...  pack bottle_volume  bottle_cost  \\\n",
       "150007          Dubuque    52001  ...    24           375         4.75   \n",
       "547510     Sioux Center    51250  ...     6          1750        11.50   \n",
       "432342       Des Moines    50317  ...    12           750        16.49   \n",
       "326387          Red Oak    51566  ...    12           375         2.80   \n",
       "35448          Waterloo    50703  ...    24           375         1.80   \n",
       "271190           Marion    52302  ...    24           200         2.99   \n",
       "358537  West Des Moines    50266  ...     6          1000        22.75   \n",
       "542570        Davenport    52807  ...    12            50         7.47   \n",
       "437696       Des Moines    50315  ...    12           750         3.27   \n",
       "281611     Cedar Rapids    52401  ...     6           750        15.00   \n",
       "\n",
       "       bottle_retail bottles_sold sales_usd  sales_liters  sales_gallons  \\\n",
       "150007          7.13            6     42.78          2.25           0.59   \n",
       "547510         17.25            2     34.50          3.50           0.92   \n",
       "432342         24.74            1     24.74          0.75           0.19   \n",
       "326387          4.20           12     50.40          4.50           1.18   \n",
       "35448           2.70           48    129.60         18.00           4.75   \n",
       "271190          4.49           10     44.90          2.00           0.52   \n",
       "358537         34.13            6    204.78          6.00           1.58   \n",
       "542570         11.21           12    134.52          0.60           0.15   \n",
       "437696          4.91           12     58.92          9.00           2.37   \n",
       "281611         22.50            3     67.50          2.25           0.59   \n",
       "\n",
       "        year  month  \n",
       "150007  2021     09  \n",
       "547510  2021     06  \n",
       "432342  2021     07  \n",
       "326387  2021     01  \n",
       "35448   2021     08  \n",
       "271190  2021     05  \n",
       "358537  2021     01  \n",
       "542570  2021     10  \n",
       "437696  2021     07  \n",
       "281611  2021     07  \n",
       "\n",
       "[10 rows x 26 columns]"
      ]
     },
     "execution_count": 83,
     "metadata": {},
     "output_type": "execute_result"
    }
   ],
   "source": [
    "vodka_2021.sample(10)"
   ]
  },
  {
   "cell_type": "code",
   "execution_count": 87,
   "id": "65f74c13",
   "metadata": {},
   "outputs": [],
   "source": [
    "def get_profit(row):\n",
    "    profit = (row['bottle_retail'] - row['bottle_cost']) * row['bottles_sold']\n",
    "    return profit"
   ]
  },
  {
   "cell_type": "code",
   "execution_count": 88,
   "id": "4873f77f",
   "metadata": {},
   "outputs": [],
   "source": [
    "vodka_2021['profit'] = vodka_2021.apply(lambda row: get_profit(row), axis=1)"
   ]
  },
  {
   "cell_type": "code",
   "execution_count": 89,
   "id": "df3a0425",
   "metadata": {},
   "outputs": [
    {
     "data": {
      "text/html": [
       "<div>\n",
       "<style scoped>\n",
       "    .dataframe tbody tr th:only-of-type {\n",
       "        vertical-align: middle;\n",
       "    }\n",
       "\n",
       "    .dataframe tbody tr th {\n",
       "        vertical-align: top;\n",
       "    }\n",
       "\n",
       "    .dataframe thead th {\n",
       "        text-align: right;\n",
       "    }\n",
       "</style>\n",
       "<table border=\"1\" class=\"dataframe\">\n",
       "  <thead>\n",
       "    <tr style=\"text-align: right;\">\n",
       "      <th></th>\n",
       "      <th>state</th>\n",
       "      <th>county</th>\n",
       "      <th>FIPS</th>\n",
       "      <th>invoice_num</th>\n",
       "      <th>date</th>\n",
       "      <th>store_num</th>\n",
       "      <th>store_name</th>\n",
       "      <th>address</th>\n",
       "      <th>city</th>\n",
       "      <th>zip_code</th>\n",
       "      <th>...</th>\n",
       "      <th>bottle_volume</th>\n",
       "      <th>bottle_cost</th>\n",
       "      <th>bottle_retail</th>\n",
       "      <th>bottles_sold</th>\n",
       "      <th>sales_usd</th>\n",
       "      <th>sales_liters</th>\n",
       "      <th>sales_gallons</th>\n",
       "      <th>year</th>\n",
       "      <th>month</th>\n",
       "      <th>profit</th>\n",
       "    </tr>\n",
       "  </thead>\n",
       "  <tbody>\n",
       "    <tr>\n",
       "      <th>0</th>\n",
       "      <td>Iowa</td>\n",
       "      <td>ADAIR</td>\n",
       "      <td>19001</td>\n",
       "      <td>INV-41696100021</td>\n",
       "      <td>2021-11-05</td>\n",
       "      <td>4317</td>\n",
       "      <td>Fareway Stores #941 / Greenfield</td>\n",
       "      <td>212 SW Kent</td>\n",
       "      <td>Greenfield</td>\n",
       "      <td>50849</td>\n",
       "      <td>...</td>\n",
       "      <td>750</td>\n",
       "      <td>8.25</td>\n",
       "      <td>12.38</td>\n",
       "      <td>2</td>\n",
       "      <td>24.76</td>\n",
       "      <td>1.50</td>\n",
       "      <td>0.39</td>\n",
       "      <td>2021</td>\n",
       "      <td>11</td>\n",
       "      <td>8.26</td>\n",
       "    </tr>\n",
       "    <tr>\n",
       "      <th>1</th>\n",
       "      <td>Iowa</td>\n",
       "      <td>ADAIR</td>\n",
       "      <td>19001</td>\n",
       "      <td>INV-41696500002</td>\n",
       "      <td>2021-11-05</td>\n",
       "      <td>4654</td>\n",
       "      <td>KUM &amp; GO #510 / STUART</td>\n",
       "      <td>629 S Division St</td>\n",
       "      <td>Stuart</td>\n",
       "      <td>50250</td>\n",
       "      <td>...</td>\n",
       "      <td>750</td>\n",
       "      <td>8.25</td>\n",
       "      <td>12.38</td>\n",
       "      <td>12</td>\n",
       "      <td>148.56</td>\n",
       "      <td>9.00</td>\n",
       "      <td>2.37</td>\n",
       "      <td>2021</td>\n",
       "      <td>11</td>\n",
       "      <td>49.56</td>\n",
       "    </tr>\n",
       "    <tr>\n",
       "      <th>2</th>\n",
       "      <td>Iowa</td>\n",
       "      <td>ADAIR</td>\n",
       "      <td>19001</td>\n",
       "      <td>INV-41696700005</td>\n",
       "      <td>2021-11-05</td>\n",
       "      <td>4753</td>\n",
       "      <td>Casey's General Store #2521 / Adair</td>\n",
       "      <td>110 S 5th St</td>\n",
       "      <td>Adair</td>\n",
       "      <td>50002</td>\n",
       "      <td>...</td>\n",
       "      <td>750</td>\n",
       "      <td>10.00</td>\n",
       "      <td>15.00</td>\n",
       "      <td>6</td>\n",
       "      <td>90.00</td>\n",
       "      <td>4.50</td>\n",
       "      <td>1.18</td>\n",
       "      <td>2021</td>\n",
       "      <td>11</td>\n",
       "      <td>30.00</td>\n",
       "    </tr>\n",
       "    <tr>\n",
       "      <th>3</th>\n",
       "      <td>Iowa</td>\n",
       "      <td>ADAIR</td>\n",
       "      <td>19001</td>\n",
       "      <td>INV-41696700010</td>\n",
       "      <td>2021-11-05</td>\n",
       "      <td>4753</td>\n",
       "      <td>Casey's General Store #2521 / Adair</td>\n",
       "      <td>110 S 5th St</td>\n",
       "      <td>Adair</td>\n",
       "      <td>50002</td>\n",
       "      <td>...</td>\n",
       "      <td>1750</td>\n",
       "      <td>7.20</td>\n",
       "      <td>10.80</td>\n",
       "      <td>3</td>\n",
       "      <td>32.40</td>\n",
       "      <td>5.25</td>\n",
       "      <td>1.38</td>\n",
       "      <td>2021</td>\n",
       "      <td>11</td>\n",
       "      <td>10.80</td>\n",
       "    </tr>\n",
       "    <tr>\n",
       "      <th>4</th>\n",
       "      <td>Iowa</td>\n",
       "      <td>ADAIR</td>\n",
       "      <td>19001</td>\n",
       "      <td>INV-41696500017</td>\n",
       "      <td>2021-11-05</td>\n",
       "      <td>4654</td>\n",
       "      <td>KUM &amp; GO #510 / STUART</td>\n",
       "      <td>629 S Division St</td>\n",
       "      <td>Stuart</td>\n",
       "      <td>50250</td>\n",
       "      <td>...</td>\n",
       "      <td>375</td>\n",
       "      <td>4.75</td>\n",
       "      <td>7.13</td>\n",
       "      <td>12</td>\n",
       "      <td>85.56</td>\n",
       "      <td>4.50</td>\n",
       "      <td>1.18</td>\n",
       "      <td>2021</td>\n",
       "      <td>11</td>\n",
       "      <td>28.56</td>\n",
       "    </tr>\n",
       "  </tbody>\n",
       "</table>\n",
       "<p>5 rows × 27 columns</p>\n",
       "</div>"
      ],
      "text/plain": [
       "  state county   FIPS      invoice_num       date  store_num  \\\n",
       "0  Iowa  ADAIR  19001  INV-41696100021 2021-11-05       4317   \n",
       "1  Iowa  ADAIR  19001  INV-41696500002 2021-11-05       4654   \n",
       "2  Iowa  ADAIR  19001  INV-41696700005 2021-11-05       4753   \n",
       "3  Iowa  ADAIR  19001  INV-41696700010 2021-11-05       4753   \n",
       "4  Iowa  ADAIR  19001  INV-41696500017 2021-11-05       4654   \n",
       "\n",
       "                            store_name            address        city  \\\n",
       "0     Fareway Stores #941 / Greenfield        212 SW Kent  Greenfield   \n",
       "1               KUM & GO #510 / STUART  629 S Division St      Stuart   \n",
       "2  Casey's General Store #2521 / Adair       110 S 5th St       Adair   \n",
       "3  Casey's General Store #2521 / Adair       110 S 5th St       Adair   \n",
       "4               KUM & GO #510 / STUART  629 S Division St      Stuart   \n",
       "\n",
       "  zip_code  ...  bottle_volume bottle_cost  bottle_retail bottles_sold  \\\n",
       "0    50849  ...            750        8.25          12.38            2   \n",
       "1    50250  ...            750        8.25          12.38           12   \n",
       "2    50002  ...            750       10.00          15.00            6   \n",
       "3    50002  ...           1750        7.20          10.80            3   \n",
       "4    50250  ...            375        4.75           7.13           12   \n",
       "\n",
       "  sales_usd sales_liters  sales_gallons  year  month  profit  \n",
       "0     24.76         1.50           0.39  2021     11    8.26  \n",
       "1    148.56         9.00           2.37  2021     11   49.56  \n",
       "2     90.00         4.50           1.18  2021     11   30.00  \n",
       "3     32.40         5.25           1.38  2021     11   10.80  \n",
       "4     85.56         4.50           1.18  2021     11   28.56  \n",
       "\n",
       "[5 rows x 27 columns]"
      ]
     },
     "execution_count": 89,
     "metadata": {},
     "output_type": "execute_result"
    }
   ],
   "source": [
    "vodka_2021.head()"
   ]
  },
  {
   "cell_type": "code",
   "execution_count": 108,
   "id": "0c157158",
   "metadata": {},
   "outputs": [],
   "source": [
    "# Open population csv of Iowa counties\n",
    "pop_df = pd.read_csv('County_Population_in_Iowa_by_Year.csv')"
   ]
  },
  {
   "cell_type": "code",
   "execution_count": 109,
   "id": "c955adf7",
   "metadata": {
    "scrolled": true
   },
   "outputs": [
    {
     "name": "stdout",
     "output_type": "stream",
     "text": [
      "<class 'pandas.core.frame.DataFrame'>\n",
      "RangeIndex: 3069 entries, 0 to 3068\n",
      "Data columns (total 5 columns):\n",
      " #   Column         Non-Null Count  Dtype \n",
      "---  ------         --------------  ----- \n",
      " 0   FIPS           3069 non-null   int64 \n",
      " 1   County         3069 non-null   object\n",
      " 2   Year           3069 non-null   object\n",
      " 3   Population     3069 non-null   int64 \n",
      " 4   Primary Point  3069 non-null   object\n",
      "dtypes: int64(2), object(3)\n",
      "memory usage: 120.0+ KB\n"
     ]
    }
   ],
   "source": [
    "pop_df.info()"
   ]
  },
  {
   "cell_type": "code",
   "execution_count": 112,
   "id": "dc9aa74e",
   "metadata": {},
   "outputs": [
    {
     "data": {
      "text/html": [
       "<div>\n",
       "<style scoped>\n",
       "    .dataframe tbody tr th:only-of-type {\n",
       "        vertical-align: middle;\n",
       "    }\n",
       "\n",
       "    .dataframe tbody tr th {\n",
       "        vertical-align: top;\n",
       "    }\n",
       "\n",
       "    .dataframe thead th {\n",
       "        text-align: right;\n",
       "    }\n",
       "</style>\n",
       "<table border=\"1\" class=\"dataframe\">\n",
       "  <thead>\n",
       "    <tr style=\"text-align: right;\">\n",
       "      <th></th>\n",
       "      <th>FIPS</th>\n",
       "      <th>County</th>\n",
       "      <th>Year</th>\n",
       "      <th>Population</th>\n",
       "      <th>Primary Point</th>\n",
       "    </tr>\n",
       "  </thead>\n",
       "  <tbody>\n",
       "    <tr>\n",
       "      <th>0</th>\n",
       "      <td>19169</td>\n",
       "      <td>Story County</td>\n",
       "      <td>2011</td>\n",
       "      <td>91136</td>\n",
       "      <td>POINT (-93.4650448 42.0362415)</td>\n",
       "    </tr>\n",
       "    <tr>\n",
       "      <th>1</th>\n",
       "      <td>19065</td>\n",
       "      <td>Fayette County</td>\n",
       "      <td>1995</td>\n",
       "      <td>22129</td>\n",
       "      <td>POINT (-91.8443207 42.8625919)</td>\n",
       "    </tr>\n",
       "    <tr>\n",
       "      <th>2</th>\n",
       "      <td>19089</td>\n",
       "      <td>Howard County</td>\n",
       "      <td>2002</td>\n",
       "      <td>9794</td>\n",
       "      <td>POINT (-92.3171989 43.3567673)</td>\n",
       "    </tr>\n",
       "    <tr>\n",
       "      <th>3</th>\n",
       "      <td>19007</td>\n",
       "      <td>Appanoose County</td>\n",
       "      <td>1999</td>\n",
       "      <td>13761</td>\n",
       "      <td>POINT (-92.8686104 40.7431635)</td>\n",
       "    </tr>\n",
       "    <tr>\n",
       "      <th>4</th>\n",
       "      <td>19043</td>\n",
       "      <td>Clayton County</td>\n",
       "      <td>2012</td>\n",
       "      <td>17946</td>\n",
       "      <td>POINT (-91.34143280000002 42.8447493)</td>\n",
       "    </tr>\n",
       "  </tbody>\n",
       "</table>\n",
       "</div>"
      ],
      "text/plain": [
       "    FIPS            County  Year  Population  \\\n",
       "0  19169      Story County  2011       91136   \n",
       "1  19065    Fayette County  1995       22129   \n",
       "2  19089     Howard County  2002        9794   \n",
       "3  19007  Appanoose County  1999       13761   \n",
       "4  19043    Clayton County  2012       17946   \n",
       "\n",
       "                           Primary Point  \n",
       "0         POINT (-93.4650448 42.0362415)  \n",
       "1         POINT (-91.8443207 42.8625919)  \n",
       "2         POINT (-92.3171989 43.3567673)  \n",
       "3         POINT (-92.8686104 40.7431635)  \n",
       "4  POINT (-91.34143280000002 42.8447493)  "
      ]
     },
     "execution_count": 112,
     "metadata": {},
     "output_type": "execute_result"
    }
   ],
   "source": [
    "pop_df.head()"
   ]
  },
  {
   "cell_type": "code",
   "execution_count": 111,
   "id": "6795477a",
   "metadata": {},
   "outputs": [],
   "source": [
    "# change year to datetime, include only year\n",
    "pop_df['Year'] = pd.to_datetime(pop_df['Year']).dt.strftime('%Y')"
   ]
  },
  {
   "cell_type": "code",
   "execution_count": 113,
   "id": "5eccf1ee",
   "metadata": {},
   "outputs": [],
   "source": [
    "# filter for 2020 only\n",
    "pop20_df = pop_df[pop_df['Year'] == '2020']"
   ]
  },
  {
   "cell_type": "code",
   "execution_count": 115,
   "id": "a1ec2c51",
   "metadata": {},
   "outputs": [
    {
     "data": {
      "text/plain": [
       "(99, 5)"
      ]
     },
     "execution_count": 115,
     "metadata": {},
     "output_type": "execute_result"
    }
   ],
   "source": [
    "pop20_df.shape"
   ]
  },
  {
   "cell_type": "code",
   "execution_count": 116,
   "id": "3546b4bc",
   "metadata": {},
   "outputs": [],
   "source": [
    "pop20_df = pop20_df.drop(['County', 'Year', 'Primary Point'], axis=1)"
   ]
  },
  {
   "cell_type": "code",
   "execution_count": 117,
   "id": "62a2e866",
   "metadata": {},
   "outputs": [
    {
     "data": {
      "text/html": [
       "<div>\n",
       "<style scoped>\n",
       "    .dataframe tbody tr th:only-of-type {\n",
       "        vertical-align: middle;\n",
       "    }\n",
       "\n",
       "    .dataframe tbody tr th {\n",
       "        vertical-align: top;\n",
       "    }\n",
       "\n",
       "    .dataframe thead th {\n",
       "        text-align: right;\n",
       "    }\n",
       "</style>\n",
       "<table border=\"1\" class=\"dataframe\">\n",
       "  <thead>\n",
       "    <tr style=\"text-align: right;\">\n",
       "      <th></th>\n",
       "      <th>FIPS</th>\n",
       "      <th>Population</th>\n",
       "    </tr>\n",
       "  </thead>\n",
       "  <tbody>\n",
       "    <tr>\n",
       "      <th>5</th>\n",
       "      <td>19103</td>\n",
       "      <td>152854</td>\n",
       "    </tr>\n",
       "    <tr>\n",
       "      <th>34</th>\n",
       "      <td>19167</td>\n",
       "      <td>35872</td>\n",
       "    </tr>\n",
       "    <tr>\n",
       "      <th>39</th>\n",
       "      <td>19077</td>\n",
       "      <td>10623</td>\n",
       "    </tr>\n",
       "    <tr>\n",
       "      <th>118</th>\n",
       "      <td>19013</td>\n",
       "      <td>131144</td>\n",
       "    </tr>\n",
       "    <tr>\n",
       "      <th>153</th>\n",
       "      <td>19141</td>\n",
       "      <td>14182</td>\n",
       "    </tr>\n",
       "  </tbody>\n",
       "</table>\n",
       "</div>"
      ],
      "text/plain": [
       "      FIPS  Population\n",
       "5    19103      152854\n",
       "34   19167       35872\n",
       "39   19077       10623\n",
       "118  19013      131144\n",
       "153  19141       14182"
      ]
     },
     "execution_count": 117,
     "metadata": {},
     "output_type": "execute_result"
    }
   ],
   "source": [
    "pop20_df.head()"
   ]
  },
  {
   "cell_type": "code",
   "execution_count": null,
   "id": "6f337835",
   "metadata": {},
   "outputs": [],
   "source": [
    "vodka_2021 = fips.merge(vodka_2021, how='inner', on=['county', 'state'])"
   ]
  },
  {
   "cell_type": "code",
   "execution_count": 119,
   "id": "08470c96",
   "metadata": {},
   "outputs": [
    {
     "name": "stdout",
     "output_type": "stream",
     "text": [
      "<class 'pandas.core.frame.DataFrame'>\n",
      "Int64Index: 625923 entries, 0 to 625922\n",
      "Data columns (total 27 columns):\n",
      " #   Column            Non-Null Count   Dtype         \n",
      "---  ------            --------------   -----         \n",
      " 0   state             625923 non-null  object        \n",
      " 1   county            625923 non-null  object        \n",
      " 2   FIPS              592078 non-null  object        \n",
      " 3   invoice_num       625923 non-null  object        \n",
      " 4   date              625923 non-null  datetime64[ns]\n",
      " 5   store_num         625923 non-null  int64         \n",
      " 6   store_name        625923 non-null  object        \n",
      " 7   address           625923 non-null  object        \n",
      " 8   city              625923 non-null  object        \n",
      " 9   zip_code          625923 non-null  object        \n",
      " 10  category          625923 non-null  float64       \n",
      " 11  category_name     625923 non-null  object        \n",
      " 12  vendor_number     625923 non-null  float64       \n",
      " 13  vendor_name       625923 non-null  object        \n",
      " 14  item_num          625923 non-null  object        \n",
      " 15  item_description  625923 non-null  object        \n",
      " 16  pack              625923 non-null  int64         \n",
      " 17  bottle_volume     625923 non-null  int64         \n",
      " 18  bottle_cost       625923 non-null  float64       \n",
      " 19  bottle_retail     625923 non-null  float64       \n",
      " 20  bottles_sold      625923 non-null  int64         \n",
      " 21  sales_usd         625923 non-null  float64       \n",
      " 22  sales_liters      625923 non-null  float64       \n",
      " 23  sales_gallons     625923 non-null  float64       \n",
      " 24  year              625923 non-null  object        \n",
      " 25  month             625923 non-null  object        \n",
      " 26  profit            625923 non-null  float64       \n",
      "dtypes: datetime64[ns](1), float64(8), int64(4), object(14)\n",
      "memory usage: 133.7+ MB\n"
     ]
    }
   ],
   "source": [
    "vodka_2021.info()"
   ]
  },
  {
   "cell_type": "code",
   "execution_count": 155,
   "id": "7ea77c21",
   "metadata": {},
   "outputs": [
    {
     "name": "stderr",
     "output_type": "stream",
     "text": [
      "/var/folders/d4/4s9thvnx41xgd5z9q39vv23h0000gn/T/ipykernel_4624/3657758426.py:1: SettingWithCopyWarning: \n",
      "A value is trying to be set on a copy of a slice from a DataFrame.\n",
      "Try using .loc[row_indexer,col_indexer] = value instead\n",
      "\n",
      "See the caveats in the documentation: https://pandas.pydata.org/pandas-docs/stable/user_guide/indexing.html#returning-a-view-versus-a-copy\n",
      "  vodka_2021['county'] = vodka_2021['county'].str.upper()\n"
     ]
    }
   ],
   "source": [
    "vodka_2021['county'] = vodka_2021['county'].str.upper()"
   ]
  },
  {
   "cell_type": "code",
   "execution_count": 124,
   "id": "54d1f639",
   "metadata": {},
   "outputs": [],
   "source": [
    "# drop nulls\n",
    "vodka_2021 = vodka_2021.dropna()"
   ]
  },
  {
   "cell_type": "code",
   "execution_count": 126,
   "id": "a4d2b5a6",
   "metadata": {},
   "outputs": [
    {
     "name": "stderr",
     "output_type": "stream",
     "text": [
      "/var/folders/d4/4s9thvnx41xgd5z9q39vv23h0000gn/T/ipykernel_4624/3068699101.py:1: SettingWithCopyWarning: \n",
      "A value is trying to be set on a copy of a slice from a DataFrame.\n",
      "Try using .loc[row_indexer,col_indexer] = value instead\n",
      "\n",
      "See the caveats in the documentation: https://pandas.pydata.org/pandas-docs/stable/user_guide/indexing.html#returning-a-view-versus-a-copy\n",
      "  vodka_2021['FIPS'] = vodka_2021['FIPS'].astype('int')\n"
     ]
    }
   ],
   "source": [
    "# change data type\n",
    "vodka_2021['FIPS'] = vodka_2021['FIPS'].astype('int')"
   ]
  },
  {
   "cell_type": "code",
   "execution_count": 160,
   "id": "1a3ef001",
   "metadata": {},
   "outputs": [],
   "source": [
    "# merge population and vodka_2021 dfs\n",
    "vodka21 = vodka_2021.merge(pop20_df, how='inner', on=['FIPS'])"
   ]
  },
  {
   "cell_type": "code",
   "execution_count": 161,
   "id": "194679c1",
   "metadata": {},
   "outputs": [],
   "source": [
    "# rename columns\n",
    "vodka21 = vodka21.rename(columns={'FIPS':'fips', 'Population':'population'})"
   ]
  },
  {
   "cell_type": "code",
   "execution_count": 308,
   "id": "4bbe0e06",
   "metadata": {},
   "outputs": [],
   "source": []
  },
  {
   "cell_type": "code",
   "execution_count": 306,
   "id": "c352bb7d",
   "metadata": {},
   "outputs": [],
   "source": [
    "vodka21.rename(columns={'sales_usd':\"Sales(USD)\", 'sales_liters':\"Sales(Liters)\"}, inplace=True)"
   ]
  },
  {
   "cell_type": "code",
   "execution_count": null,
   "id": "f938fab6",
   "metadata": {},
   "outputs": [],
   "source": [
    "vodka21.to_csv('vodka21.csv')"
   ]
  },
  {
   "cell_type": "markdown",
   "id": "5c665e6d",
   "metadata": {},
   "source": [
    "### SQLite & SQL Alchemy"
   ]
  },
  {
   "cell_type": "code",
   "execution_count": 163,
   "id": "73184b33",
   "metadata": {},
   "outputs": [],
   "source": [
    "# Connect to database\n",
    "engine = create_engine(\"sqlite://\", echo=False)\n",
    "conn = engine.connect()"
   ]
  },
  {
   "cell_type": "code",
   "execution_count": 164,
   "id": "2018199b",
   "metadata": {},
   "outputs": [
    {
     "data": {
      "text/plain": [
       "592078"
      ]
     },
     "execution_count": 164,
     "metadata": {},
     "output_type": "execute_result"
    }
   ],
   "source": [
    "# convert df to sql table\n",
    "vodka21.to_sql('vodka21', con=engine, if_exists='replace')"
   ]
  },
  {
   "cell_type": "code",
   "execution_count": 186,
   "id": "742803ba",
   "metadata": {},
   "outputs": [
    {
     "data": {
      "text/plain": [
       "0.0008142391874831957"
      ]
     },
     "execution_count": 186,
     "metadata": {},
     "output_type": "execute_result"
    }
   ],
   "source": [
    "(vodka21.sales_usd.sum()) / (vodka21.population.sum())"
   ]
  },
  {
   "cell_type": "markdown",
   "id": "0e54a879",
   "metadata": {},
   "source": [
    "## Questions to Answer\n",
    "1. Total sales in USD (State & County)\n",
    "2. Sales-(USD)/Capita (State & County)\n",
    "3. Total Profit (State & County)\n",
    "4. Monthly Sales (State & County)\n",
    "5. Top Selling Products (State & County)"
   ]
  },
  {
   "cell_type": "markdown",
   "id": "58de805d",
   "metadata": {},
   "source": [
    "### Total Sales in USD (State & County)"
   ]
  },
  {
   "cell_type": "code",
   "execution_count": 260,
   "id": "f689f911",
   "metadata": {},
   "outputs": [],
   "source": [
    "# Total sales state level\n",
    "sql = '''\n",
    "\n",
    "SELECT ROUND(SUM(sales_usd), 2)\n",
    "FROM vodka21;\n",
    "\n",
    "\n",
    "'''"
   ]
  },
  {
   "cell_type": "code",
   "execution_count": 278,
   "id": "68191271",
   "metadata": {},
   "outputs": [],
   "source": [
    "conn = engine.connect()\n",
    "result = conn.execute(sql)"
   ]
  },
  {
   "cell_type": "code",
   "execution_count": 279,
   "id": "8fd2e0a6",
   "metadata": {},
   "outputs": [],
   "source": [
    "conn.close()"
   ]
  },
  {
   "cell_type": "code",
   "execution_count": 280,
   "id": "f01829e7",
   "metadata": {},
   "outputs": [],
   "source": [
    "sales_state_21 = result.fetchone()"
   ]
  },
  {
   "cell_type": "code",
   "execution_count": 281,
   "id": "09099573",
   "metadata": {},
   "outputs": [
    {
     "data": {
      "text/plain": [
       "86983158.87"
      ]
     },
     "execution_count": 281,
     "metadata": {},
     "output_type": "execute_result"
    }
   ],
   "source": [
    "sales_state_21[0]"
   ]
  },
  {
   "cell_type": "code",
   "execution_count": 282,
   "id": "9d87f259",
   "metadata": {},
   "outputs": [],
   "source": [
    "sales_state_21 = numerize.numerize(sales_state_21[0])"
   ]
  },
  {
   "cell_type": "code",
   "execution_count": 283,
   "id": "83988aa9",
   "metadata": {},
   "outputs": [
    {
     "data": {
      "text/plain": [
       "'86.98M'"
      ]
     },
     "execution_count": 283,
     "metadata": {},
     "output_type": "execute_result"
    }
   ],
   "source": [
    "sales_state_21"
   ]
  },
  {
   "cell_type": "code",
   "execution_count": 286,
   "id": "196a6960",
   "metadata": {},
   "outputs": [
    {
     "data": {
      "text/plain": [
       "'86.98M'"
      ]
     },
     "execution_count": 286,
     "metadata": {},
     "output_type": "execute_result"
    }
   ],
   "source": [
    "total_sales_21 = numerize.numerize(vodka21['sales_usd'].sum(), 2)\n",
    "total_sales_21"
   ]
  },
  {
   "cell_type": "code",
   "execution_count": 165,
   "id": "f3026934",
   "metadata": {},
   "outputs": [
    {
     "data": {
      "text/html": [
       "<div>\n",
       "<style scoped>\n",
       "    .dataframe tbody tr th:only-of-type {\n",
       "        vertical-align: middle;\n",
       "    }\n",
       "\n",
       "    .dataframe tbody tr th {\n",
       "        vertical-align: top;\n",
       "    }\n",
       "\n",
       "    .dataframe thead th {\n",
       "        text-align: right;\n",
       "    }\n",
       "</style>\n",
       "<table border=\"1\" class=\"dataframe\">\n",
       "  <thead>\n",
       "    <tr style=\"text-align: right;\">\n",
       "      <th></th>\n",
       "      <th>county</th>\n",
       "      <th>sales</th>\n",
       "    </tr>\n",
       "  </thead>\n",
       "  <tbody>\n",
       "    <tr>\n",
       "      <th>0</th>\n",
       "      <td>POLK</td>\n",
       "      <td>22733515.76</td>\n",
       "    </tr>\n",
       "    <tr>\n",
       "      <th>1</th>\n",
       "      <td>LINN</td>\n",
       "      <td>8254919.17</td>\n",
       "    </tr>\n",
       "    <tr>\n",
       "      <th>2</th>\n",
       "      <td>SCOTT</td>\n",
       "      <td>6495739.71</td>\n",
       "    </tr>\n",
       "    <tr>\n",
       "      <th>3</th>\n",
       "      <td>JOHNSON</td>\n",
       "      <td>5817968.99</td>\n",
       "    </tr>\n",
       "    <tr>\n",
       "      <th>4</th>\n",
       "      <td>BLACK HAWK</td>\n",
       "      <td>4583848.45</td>\n",
       "    </tr>\n",
       "    <tr>\n",
       "      <th>5</th>\n",
       "      <td>STORY</td>\n",
       "      <td>2997763.82</td>\n",
       "    </tr>\n",
       "    <tr>\n",
       "      <th>6</th>\n",
       "      <td>DALLAS</td>\n",
       "      <td>2832064.79</td>\n",
       "    </tr>\n",
       "    <tr>\n",
       "      <th>7</th>\n",
       "      <td>DUBUQUE</td>\n",
       "      <td>2823098.65</td>\n",
       "    </tr>\n",
       "    <tr>\n",
       "      <th>8</th>\n",
       "      <td>WOODBURY</td>\n",
       "      <td>2634062.95</td>\n",
       "    </tr>\n",
       "    <tr>\n",
       "      <th>9</th>\n",
       "      <td>CLINTON</td>\n",
       "      <td>1554654.29</td>\n",
       "    </tr>\n",
       "  </tbody>\n",
       "</table>\n",
       "</div>"
      ],
      "text/plain": [
       "       county        sales\n",
       "0        POLK  22733515.76\n",
       "1        LINN   8254919.17\n",
       "2       SCOTT   6495739.71\n",
       "3     JOHNSON   5817968.99\n",
       "4  BLACK HAWK   4583848.45\n",
       "5       STORY   2997763.82\n",
       "6      DALLAS   2832064.79\n",
       "7     DUBUQUE   2823098.65\n",
       "8    WOODBURY   2634062.95\n",
       "9     CLINTON   1554654.29"
      ]
     },
     "execution_count": 165,
     "metadata": {},
     "output_type": "execute_result"
    }
   ],
   "source": [
    "# Total sales county level\n",
    "sql = '''\n",
    "\n",
    "SELECT county, ROUND(SUM(sales_usd), 2) AS sales\n",
    "FROM vodka21\n",
    "GROUP BY county\n",
    "ORDER BY sales DESC\n",
    "LIMIT 10\n",
    ";\n",
    "\n",
    "\n",
    "'''\n",
    "\n",
    "county_sales_usd = pd.read_sql_query(sql, con=engine)\n",
    "county_sales_usd"
   ]
  },
  {
   "cell_type": "markdown",
   "id": "9be44678",
   "metadata": {},
   "source": [
    "### Sales Per Capita (USD)"
   ]
  },
  {
   "cell_type": "code",
   "execution_count": 179,
   "id": "91cbe089",
   "metadata": {},
   "outputs": [
    {
     "name": "stdout",
     "output_type": "stream",
     "text": [
      "(0.00081424,)\n"
     ]
    }
   ],
   "source": [
    "# Sales per capita - state level\n",
    "sql = '''\n",
    "\n",
    "SELECT \n",
    "ROUND((SUM(sales_usd)) / (SUM(population)), 8) AS per_capita_sales\n",
    "FROM vodka21;\n",
    "\n",
    "\n",
    "'''\n",
    "\n",
    "with engine.connect() as conn:\n",
    "    result = conn.execute(sql)\n",
    "    for row in result:\n",
    "        print(row)"
   ]
  },
  {
   "cell_type": "code",
   "execution_count": 295,
   "id": "1e42ba7c",
   "metadata": {},
   "outputs": [],
   "source": [
    "# using pandas\n",
    "st_pop = vodka21['population'].unique().sum()\n"
   ]
  },
  {
   "cell_type": "code",
   "execution_count": 296,
   "id": "a5f926ff",
   "metadata": {},
   "outputs": [
    {
     "data": {
      "text/plain": [
       "3032752"
      ]
     },
     "execution_count": 296,
     "metadata": {},
     "output_type": "execute_result"
    }
   ],
   "source": []
  },
  {
   "cell_type": "code",
   "execution_count": 184,
   "id": "89ae157d",
   "metadata": {},
   "outputs": [
    {
     "data": {
      "text/html": [
       "<div>\n",
       "<style scoped>\n",
       "    .dataframe tbody tr th:only-of-type {\n",
       "        vertical-align: middle;\n",
       "    }\n",
       "\n",
       "    .dataframe tbody tr th {\n",
       "        vertical-align: top;\n",
       "    }\n",
       "\n",
       "    .dataframe thead th {\n",
       "        text-align: right;\n",
       "    }\n",
       "</style>\n",
       "<table border=\"1\" class=\"dataframe\">\n",
       "  <thead>\n",
       "    <tr style=\"text-align: right;\">\n",
       "      <th></th>\n",
       "      <th>county</th>\n",
       "      <th>sales_usd</th>\n",
       "      <th>population</th>\n",
       "      <th>per_capita_sales</th>\n",
       "    </tr>\n",
       "  </thead>\n",
       "  <tbody>\n",
       "    <tr>\n",
       "      <th>0</th>\n",
       "      <td>RINGGOLD</td>\n",
       "      <td>113.40</td>\n",
       "      <td>4663</td>\n",
       "      <td>0.033721</td>\n",
       "    </tr>\n",
       "    <tr>\n",
       "      <th>1</th>\n",
       "      <td>ADAMS</td>\n",
       "      <td>69.60</td>\n",
       "      <td>3704</td>\n",
       "      <td>0.021199</td>\n",
       "    </tr>\n",
       "    <tr>\n",
       "      <th>2</th>\n",
       "      <td>MONROE</td>\n",
       "      <td>132.78</td>\n",
       "      <td>7577</td>\n",
       "      <td>0.017599</td>\n",
       "    </tr>\n",
       "    <tr>\n",
       "      <th>3</th>\n",
       "      <td>HUMBOLDT</td>\n",
       "      <td>77.28</td>\n",
       "      <td>9597</td>\n",
       "      <td>0.016611</td>\n",
       "    </tr>\n",
       "    <tr>\n",
       "      <th>4</th>\n",
       "      <td>MONTGOMERY</td>\n",
       "      <td>7.05</td>\n",
       "      <td>10330</td>\n",
       "      <td>0.016238</td>\n",
       "    </tr>\n",
       "    <tr>\n",
       "      <th>5</th>\n",
       "      <td>GREENE</td>\n",
       "      <td>67.26</td>\n",
       "      <td>8771</td>\n",
       "      <td>0.015463</td>\n",
       "    </tr>\n",
       "    <tr>\n",
       "      <th>6</th>\n",
       "      <td>WORTH</td>\n",
       "      <td>124.56</td>\n",
       "      <td>7443</td>\n",
       "      <td>0.014590</td>\n",
       "    </tr>\n",
       "    <tr>\n",
       "      <th>7</th>\n",
       "      <td>SHELBY</td>\n",
       "      <td>148.56</td>\n",
       "      <td>11746</td>\n",
       "      <td>0.013791</td>\n",
       "    </tr>\n",
       "    <tr>\n",
       "      <th>8</th>\n",
       "      <td>HOWARD</td>\n",
       "      <td>10.76</td>\n",
       "      <td>9469</td>\n",
       "      <td>0.013429</td>\n",
       "    </tr>\n",
       "    <tr>\n",
       "      <th>9</th>\n",
       "      <td>POCAHONTAS</td>\n",
       "      <td>60.72</td>\n",
       "      <td>7078</td>\n",
       "      <td>0.013022</td>\n",
       "    </tr>\n",
       "  </tbody>\n",
       "</table>\n",
       "</div>"
      ],
      "text/plain": [
       "       county  sales_usd  population  per_capita_sales\n",
       "0    RINGGOLD     113.40        4663          0.033721\n",
       "1       ADAMS      69.60        3704          0.021199\n",
       "2      MONROE     132.78        7577          0.017599\n",
       "3    HUMBOLDT      77.28        9597          0.016611\n",
       "4  MONTGOMERY       7.05       10330          0.016238\n",
       "5      GREENE      67.26        8771          0.015463\n",
       "6       WORTH     124.56        7443          0.014590\n",
       "7      SHELBY     148.56       11746          0.013791\n",
       "8      HOWARD      10.76        9469          0.013429\n",
       "9  POCAHONTAS      60.72        7078          0.013022"
      ]
     },
     "execution_count": 184,
     "metadata": {},
     "output_type": "execute_result"
    }
   ],
   "source": [
    "# Sales per capita - county level\n",
    "sql = '''\n",
    "\n",
    "SELECT \n",
    "    county,\n",
    "    sales_usd,\n",
    "    population,\n",
    "    ROUND((SUM(sales_usd)) / (SUM(population)), 8) AS per_capita_sales\n",
    "FROM vodka21\n",
    "GROUP BY county\n",
    "ORDER BY per_capita_sales DESC\n",
    "LIMIT 10\n",
    ";\n",
    "\n",
    "\n",
    "'''\n",
    "\n",
    "county_per_capita = pd.read_sql_query(sql, con=engine)\n",
    "county_per_capita"
   ]
  },
  {
   "cell_type": "markdown",
   "id": "8ced9a46",
   "metadata": {},
   "source": [
    "### Total Profit"
   ]
  },
  {
   "cell_type": "code",
   "execution_count": 190,
   "id": "2369856f",
   "metadata": {},
   "outputs": [
    {
     "name": "stdout",
     "output_type": "stream",
     "text": [
      "(28995001.47,)\n"
     ]
    }
   ],
   "source": [
    "# Total Profit - state level\n",
    "sql = '''\n",
    "\n",
    "SELECT \n",
    "ROUND(SUM(profit), 2)\n",
    "FROM vodka21;\n",
    "\n",
    "\n",
    "'''\n",
    "\n",
    "with engine.connect() as conn:\n",
    "    result = conn.execute(sql)\n",
    "    for row in result:\n",
    "        print(row)"
   ]
  },
  {
   "cell_type": "code",
   "execution_count": 189,
   "id": "5087bfaa",
   "metadata": {},
   "outputs": [
    {
     "data": {
      "text/html": [
       "<div>\n",
       "<style scoped>\n",
       "    .dataframe tbody tr th:only-of-type {\n",
       "        vertical-align: middle;\n",
       "    }\n",
       "\n",
       "    .dataframe tbody tr th {\n",
       "        vertical-align: top;\n",
       "    }\n",
       "\n",
       "    .dataframe thead th {\n",
       "        text-align: right;\n",
       "    }\n",
       "</style>\n",
       "<table border=\"1\" class=\"dataframe\">\n",
       "  <thead>\n",
       "    <tr style=\"text-align: right;\">\n",
       "      <th></th>\n",
       "      <th>county</th>\n",
       "      <th>profit</th>\n",
       "    </tr>\n",
       "  </thead>\n",
       "  <tbody>\n",
       "    <tr>\n",
       "      <th>0</th>\n",
       "      <td>POLK</td>\n",
       "      <td>7577185.01</td>\n",
       "    </tr>\n",
       "    <tr>\n",
       "      <th>1</th>\n",
       "      <td>LINN</td>\n",
       "      <td>2751992.25</td>\n",
       "    </tr>\n",
       "    <tr>\n",
       "      <th>2</th>\n",
       "      <td>SCOTT</td>\n",
       "      <td>2166203.29</td>\n",
       "    </tr>\n",
       "    <tr>\n",
       "      <th>3</th>\n",
       "      <td>JOHNSON</td>\n",
       "      <td>1938244.52</td>\n",
       "    </tr>\n",
       "    <tr>\n",
       "      <th>4</th>\n",
       "      <td>BLACK HAWK</td>\n",
       "      <td>1528001.97</td>\n",
       "    </tr>\n",
       "    <tr>\n",
       "      <th>5</th>\n",
       "      <td>STORY</td>\n",
       "      <td>999205.11</td>\n",
       "    </tr>\n",
       "    <tr>\n",
       "      <th>6</th>\n",
       "      <td>DALLAS</td>\n",
       "      <td>943010.60</td>\n",
       "    </tr>\n",
       "    <tr>\n",
       "      <th>7</th>\n",
       "      <td>DUBUQUE</td>\n",
       "      <td>941237.52</td>\n",
       "    </tr>\n",
       "    <tr>\n",
       "      <th>8</th>\n",
       "      <td>WOODBURY</td>\n",
       "      <td>877937.45</td>\n",
       "    </tr>\n",
       "    <tr>\n",
       "      <th>9</th>\n",
       "      <td>CLINTON</td>\n",
       "      <td>518101.12</td>\n",
       "    </tr>\n",
       "  </tbody>\n",
       "</table>\n",
       "</div>"
      ],
      "text/plain": [
       "       county      profit\n",
       "0        POLK  7577185.01\n",
       "1        LINN  2751992.25\n",
       "2       SCOTT  2166203.29\n",
       "3     JOHNSON  1938244.52\n",
       "4  BLACK HAWK  1528001.97\n",
       "5       STORY   999205.11\n",
       "6      DALLAS   943010.60\n",
       "7     DUBUQUE   941237.52\n",
       "8    WOODBURY   877937.45\n",
       "9     CLINTON   518101.12"
      ]
     },
     "execution_count": 189,
     "metadata": {},
     "output_type": "execute_result"
    }
   ],
   "source": [
    "# Total profit - county level\n",
    "sql = '''\n",
    "\n",
    "SELECT \n",
    "    county,\n",
    "    ROUND(SUM(profit), 2) AS profit\n",
    "FROM vodka21\n",
    "GROUP BY county\n",
    "ORDER BY profit DESC\n",
    "LIMIT 10\n",
    ";\n",
    "\n",
    "\n",
    "'''\n",
    "\n",
    "county_profit = pd.read_sql_query(sql, con=engine)\n",
    "county_profit"
   ]
  },
  {
   "cell_type": "markdown",
   "id": "40d22c0e",
   "metadata": {},
   "source": [
    "### Monthly Sales 2021 - State & County Levels"
   ]
  },
  {
   "cell_type": "code",
   "execution_count": 191,
   "id": "f2fb9c9b",
   "metadata": {},
   "outputs": [
    {
     "data": {
      "text/html": [
       "<div>\n",
       "<style scoped>\n",
       "    .dataframe tbody tr th:only-of-type {\n",
       "        vertical-align: middle;\n",
       "    }\n",
       "\n",
       "    .dataframe tbody tr th {\n",
       "        vertical-align: top;\n",
       "    }\n",
       "\n",
       "    .dataframe thead th {\n",
       "        text-align: right;\n",
       "    }\n",
       "</style>\n",
       "<table border=\"1\" class=\"dataframe\">\n",
       "  <thead>\n",
       "    <tr style=\"text-align: right;\">\n",
       "      <th></th>\n",
       "      <th>month</th>\n",
       "      <th>sales_usd</th>\n",
       "      <th>sales_volume</th>\n",
       "    </tr>\n",
       "  </thead>\n",
       "  <tbody>\n",
       "    <tr>\n",
       "      <th>0</th>\n",
       "      <td>01</td>\n",
       "      <td>5693369.84</td>\n",
       "      <td>487234.48</td>\n",
       "    </tr>\n",
       "    <tr>\n",
       "      <th>1</th>\n",
       "      <td>02</td>\n",
       "      <td>5854849.61</td>\n",
       "      <td>500096.43</td>\n",
       "    </tr>\n",
       "    <tr>\n",
       "      <th>2</th>\n",
       "      <td>03</td>\n",
       "      <td>7085477.26</td>\n",
       "      <td>585848.94</td>\n",
       "    </tr>\n",
       "    <tr>\n",
       "      <th>3</th>\n",
       "      <td>04</td>\n",
       "      <td>7033660.62</td>\n",
       "      <td>560584.89</td>\n",
       "    </tr>\n",
       "    <tr>\n",
       "      <th>4</th>\n",
       "      <td>05</td>\n",
       "      <td>6973453.95</td>\n",
       "      <td>560950.72</td>\n",
       "    </tr>\n",
       "    <tr>\n",
       "      <th>5</th>\n",
       "      <td>06</td>\n",
       "      <td>8618971.82</td>\n",
       "      <td>679958.56</td>\n",
       "    </tr>\n",
       "    <tr>\n",
       "      <th>6</th>\n",
       "      <td>07</td>\n",
       "      <td>7578144.25</td>\n",
       "      <td>609090.08</td>\n",
       "    </tr>\n",
       "    <tr>\n",
       "      <th>7</th>\n",
       "      <td>08</td>\n",
       "      <td>8653153.55</td>\n",
       "      <td>691645.15</td>\n",
       "    </tr>\n",
       "    <tr>\n",
       "      <th>8</th>\n",
       "      <td>09</td>\n",
       "      <td>7150694.45</td>\n",
       "      <td>587762.51</td>\n",
       "    </tr>\n",
       "    <tr>\n",
       "      <th>9</th>\n",
       "      <td>10</td>\n",
       "      <td>7041954.81</td>\n",
       "      <td>563232.87</td>\n",
       "    </tr>\n",
       "    <tr>\n",
       "      <th>10</th>\n",
       "      <td>11</td>\n",
       "      <td>8043348.64</td>\n",
       "      <td>637755.16</td>\n",
       "    </tr>\n",
       "    <tr>\n",
       "      <th>11</th>\n",
       "      <td>12</td>\n",
       "      <td>7256080.07</td>\n",
       "      <td>585962.95</td>\n",
       "    </tr>\n",
       "  </tbody>\n",
       "</table>\n",
       "</div>"
      ],
      "text/plain": [
       "   month   sales_usd  sales_volume\n",
       "0     01  5693369.84     487234.48\n",
       "1     02  5854849.61     500096.43\n",
       "2     03  7085477.26     585848.94\n",
       "3     04  7033660.62     560584.89\n",
       "4     05  6973453.95     560950.72\n",
       "5     06  8618971.82     679958.56\n",
       "6     07  7578144.25     609090.08\n",
       "7     08  8653153.55     691645.15\n",
       "8     09  7150694.45     587762.51\n",
       "9     10  7041954.81     563232.87\n",
       "10    11  8043348.64     637755.16\n",
       "11    12  7256080.07     585962.95"
      ]
     },
     "execution_count": 191,
     "metadata": {},
     "output_type": "execute_result"
    }
   ],
   "source": [
    "# State level\n",
    "sql = '''\n",
    "\n",
    "SELECT \n",
    "    month,\n",
    "    ROUND(SUM(sales_usd), 2) AS sales_usd,\n",
    "    ROUND(SUM(sales_liters), 2) AS sales_volume\n",
    "FROM vodka21\n",
    "GROUP BY month\n",
    "ORDER BY month;\n",
    "\n",
    "\n",
    "'''\n",
    "monthly_state_sales = pd.read_sql_query(sql, con=engine)\n",
    "monthly_state_sales"
   ]
  },
  {
   "cell_type": "code",
   "execution_count": 196,
   "id": "0f328f15",
   "metadata": {},
   "outputs": [],
   "source": [
    "# State level\n",
    "sql = '''\n",
    "\n",
    "SELECT \n",
    "    county,\n",
    "    month,\n",
    "    ROUND(SUM(sales_usd), 2) AS sales_usd,\n",
    "    ROUND(SUM(sales_liters), 2) AS sales_volume\n",
    "FROM vodka21\n",
    "GROUP BY month, county\n",
    "ORDER BY county;\n",
    "\n",
    "\n",
    "'''\n",
    "monthly_county_sales = pd.read_sql_query(sql, con=engine)"
   ]
  },
  {
   "cell_type": "code",
   "execution_count": 197,
   "id": "af66d1a0",
   "metadata": {},
   "outputs": [
    {
     "data": {
      "text/html": [
       "<div>\n",
       "<style scoped>\n",
       "    .dataframe tbody tr th:only-of-type {\n",
       "        vertical-align: middle;\n",
       "    }\n",
       "\n",
       "    .dataframe tbody tr th {\n",
       "        vertical-align: top;\n",
       "    }\n",
       "\n",
       "    .dataframe thead th {\n",
       "        text-align: right;\n",
       "    }\n",
       "</style>\n",
       "<table border=\"1\" class=\"dataframe\">\n",
       "  <thead>\n",
       "    <tr style=\"text-align: right;\">\n",
       "      <th></th>\n",
       "      <th>county</th>\n",
       "      <th>month</th>\n",
       "      <th>sales_usd</th>\n",
       "      <th>sales_volume</th>\n",
       "    </tr>\n",
       "  </thead>\n",
       "  <tbody>\n",
       "    <tr>\n",
       "      <th>0</th>\n",
       "      <td>ADAIR</td>\n",
       "      <td>01</td>\n",
       "      <td>10076.14</td>\n",
       "      <td>834.00</td>\n",
       "    </tr>\n",
       "    <tr>\n",
       "      <th>1</th>\n",
       "      <td>ADAIR</td>\n",
       "      <td>02</td>\n",
       "      <td>8378.51</td>\n",
       "      <td>751.50</td>\n",
       "    </tr>\n",
       "    <tr>\n",
       "      <th>2</th>\n",
       "      <td>ADAIR</td>\n",
       "      <td>03</td>\n",
       "      <td>7651.43</td>\n",
       "      <td>687.22</td>\n",
       "    </tr>\n",
       "    <tr>\n",
       "      <th>3</th>\n",
       "      <td>ADAIR</td>\n",
       "      <td>04</td>\n",
       "      <td>8429.04</td>\n",
       "      <td>765.52</td>\n",
       "    </tr>\n",
       "    <tr>\n",
       "      <th>4</th>\n",
       "      <td>ADAIR</td>\n",
       "      <td>05</td>\n",
       "      <td>8047.58</td>\n",
       "      <td>664.37</td>\n",
       "    </tr>\n",
       "    <tr>\n",
       "      <th>5</th>\n",
       "      <td>ADAIR</td>\n",
       "      <td>06</td>\n",
       "      <td>9398.73</td>\n",
       "      <td>788.75</td>\n",
       "    </tr>\n",
       "    <tr>\n",
       "      <th>6</th>\n",
       "      <td>ADAIR</td>\n",
       "      <td>07</td>\n",
       "      <td>10135.87</td>\n",
       "      <td>805.44</td>\n",
       "    </tr>\n",
       "    <tr>\n",
       "      <th>7</th>\n",
       "      <td>ADAIR</td>\n",
       "      <td>08</td>\n",
       "      <td>7702.94</td>\n",
       "      <td>710.85</td>\n",
       "    </tr>\n",
       "    <tr>\n",
       "      <th>8</th>\n",
       "      <td>ADAIR</td>\n",
       "      <td>09</td>\n",
       "      <td>9330.01</td>\n",
       "      <td>769.20</td>\n",
       "    </tr>\n",
       "    <tr>\n",
       "      <th>9</th>\n",
       "      <td>ADAIR</td>\n",
       "      <td>10</td>\n",
       "      <td>9716.07</td>\n",
       "      <td>847.85</td>\n",
       "    </tr>\n",
       "    <tr>\n",
       "      <th>10</th>\n",
       "      <td>ADAIR</td>\n",
       "      <td>11</td>\n",
       "      <td>8627.88</td>\n",
       "      <td>720.80</td>\n",
       "    </tr>\n",
       "    <tr>\n",
       "      <th>11</th>\n",
       "      <td>ADAIR</td>\n",
       "      <td>12</td>\n",
       "      <td>12368.71</td>\n",
       "      <td>1019.34</td>\n",
       "    </tr>\n",
       "    <tr>\n",
       "      <th>12</th>\n",
       "      <td>ADAMS</td>\n",
       "      <td>01</td>\n",
       "      <td>2621.35</td>\n",
       "      <td>248.60</td>\n",
       "    </tr>\n",
       "    <tr>\n",
       "      <th>13</th>\n",
       "      <td>ADAMS</td>\n",
       "      <td>02</td>\n",
       "      <td>2080.64</td>\n",
       "      <td>185.50</td>\n",
       "    </tr>\n",
       "    <tr>\n",
       "      <th>14</th>\n",
       "      <td>ADAMS</td>\n",
       "      <td>03</td>\n",
       "      <td>2048.01</td>\n",
       "      <td>188.10</td>\n",
       "    </tr>\n",
       "    <tr>\n",
       "      <th>15</th>\n",
       "      <td>ADAMS</td>\n",
       "      <td>04</td>\n",
       "      <td>3788.23</td>\n",
       "      <td>315.80</td>\n",
       "    </tr>\n",
       "    <tr>\n",
       "      <th>16</th>\n",
       "      <td>ADAMS</td>\n",
       "      <td>05</td>\n",
       "      <td>3995.51</td>\n",
       "      <td>336.10</td>\n",
       "    </tr>\n",
       "    <tr>\n",
       "      <th>17</th>\n",
       "      <td>ADAMS</td>\n",
       "      <td>06</td>\n",
       "      <td>3173.37</td>\n",
       "      <td>244.00</td>\n",
       "    </tr>\n",
       "    <tr>\n",
       "      <th>18</th>\n",
       "      <td>ADAMS</td>\n",
       "      <td>07</td>\n",
       "      <td>3690.86</td>\n",
       "      <td>313.35</td>\n",
       "    </tr>\n",
       "    <tr>\n",
       "      <th>19</th>\n",
       "      <td>ADAMS</td>\n",
       "      <td>08</td>\n",
       "      <td>3253.11</td>\n",
       "      <td>263.80</td>\n",
       "    </tr>\n",
       "  </tbody>\n",
       "</table>\n",
       "</div>"
      ],
      "text/plain": [
       "   county month  sales_usd  sales_volume\n",
       "0   ADAIR    01   10076.14        834.00\n",
       "1   ADAIR    02    8378.51        751.50\n",
       "2   ADAIR    03    7651.43        687.22\n",
       "3   ADAIR    04    8429.04        765.52\n",
       "4   ADAIR    05    8047.58        664.37\n",
       "5   ADAIR    06    9398.73        788.75\n",
       "6   ADAIR    07   10135.87        805.44\n",
       "7   ADAIR    08    7702.94        710.85\n",
       "8   ADAIR    09    9330.01        769.20\n",
       "9   ADAIR    10    9716.07        847.85\n",
       "10  ADAIR    11    8627.88        720.80\n",
       "11  ADAIR    12   12368.71       1019.34\n",
       "12  ADAMS    01    2621.35        248.60\n",
       "13  ADAMS    02    2080.64        185.50\n",
       "14  ADAMS    03    2048.01        188.10\n",
       "15  ADAMS    04    3788.23        315.80\n",
       "16  ADAMS    05    3995.51        336.10\n",
       "17  ADAMS    06    3173.37        244.00\n",
       "18  ADAMS    07    3690.86        313.35\n",
       "19  ADAMS    08    3253.11        263.80"
      ]
     },
     "execution_count": 197,
     "metadata": {},
     "output_type": "execute_result"
    }
   ],
   "source": [
    "monthly_county_sales.head(20)"
   ]
  },
  {
   "cell_type": "markdown",
   "id": "4796b183",
   "metadata": {},
   "source": [
    "### Top Selling Products - State & County Level"
   ]
  },
  {
   "cell_type": "code",
   "execution_count": 206,
   "id": "3740ea7e",
   "metadata": {},
   "outputs": [
    {
     "data": {
      "text/html": [
       "<div>\n",
       "<style scoped>\n",
       "    .dataframe tbody tr th:only-of-type {\n",
       "        vertical-align: middle;\n",
       "    }\n",
       "\n",
       "    .dataframe tbody tr th {\n",
       "        vertical-align: top;\n",
       "    }\n",
       "\n",
       "    .dataframe thead th {\n",
       "        text-align: right;\n",
       "    }\n",
       "</style>\n",
       "<table border=\"1\" class=\"dataframe\">\n",
       "  <thead>\n",
       "    <tr style=\"text-align: right;\">\n",
       "      <th></th>\n",
       "      <th>item_num</th>\n",
       "      <th>item</th>\n",
       "      <th>sales_usd</th>\n",
       "    </tr>\n",
       "  </thead>\n",
       "  <tbody>\n",
       "    <tr>\n",
       "      <th>0</th>\n",
       "      <td>38178</td>\n",
       "      <td>Titos Handmade Vodka</td>\n",
       "      <td>10091964.00</td>\n",
       "    </tr>\n",
       "    <tr>\n",
       "      <th>1</th>\n",
       "      <td>38177</td>\n",
       "      <td>Titos Handmade Vodka</td>\n",
       "      <td>7382457.46</td>\n",
       "    </tr>\n",
       "    <tr>\n",
       "      <th>2</th>\n",
       "      <td>38176</td>\n",
       "      <td>Titos Handmade Vodka</td>\n",
       "      <td>5535465.00</td>\n",
       "    </tr>\n",
       "    <tr>\n",
       "      <th>3</th>\n",
       "      <td>36308</td>\n",
       "      <td>Hawkeye Vodka</td>\n",
       "      <td>2444338.44</td>\n",
       "    </tr>\n",
       "    <tr>\n",
       "      <th>4</th>\n",
       "      <td>38008</td>\n",
       "      <td>Smirnoff 80prf PET</td>\n",
       "      <td>1725940.83</td>\n",
       "    </tr>\n",
       "    <tr>\n",
       "      <th>5</th>\n",
       "      <td>34821</td>\n",
       "      <td>Svedka 80prf</td>\n",
       "      <td>1699348.20</td>\n",
       "    </tr>\n",
       "    <tr>\n",
       "      <th>6</th>\n",
       "      <td>34006</td>\n",
       "      <td>Absolut Swedish Vodka 80prf</td>\n",
       "      <td>1570322.42</td>\n",
       "    </tr>\n",
       "    <tr>\n",
       "      <th>7</th>\n",
       "      <td>38088</td>\n",
       "      <td>Platinum 7x Vodka</td>\n",
       "      <td>1315379.04</td>\n",
       "    </tr>\n",
       "    <tr>\n",
       "      <th>8</th>\n",
       "      <td>936600</td>\n",
       "      <td>Kirkland Signature American Vodka</td>\n",
       "      <td>1222577.28</td>\n",
       "    </tr>\n",
       "    <tr>\n",
       "      <th>9</th>\n",
       "      <td>34433</td>\n",
       "      <td>Grey Goose</td>\n",
       "      <td>1162470.96</td>\n",
       "    </tr>\n",
       "  </tbody>\n",
       "</table>\n",
       "</div>"
      ],
      "text/plain": [
       "  item_num                               item    sales_usd\n",
       "0    38178               Titos Handmade Vodka  10091964.00\n",
       "1    38177               Titos Handmade Vodka   7382457.46\n",
       "2    38176               Titos Handmade Vodka   5535465.00\n",
       "3    36308                      Hawkeye Vodka   2444338.44\n",
       "4    38008                 Smirnoff 80prf PET   1725940.83\n",
       "5    34821                       Svedka 80prf   1699348.20\n",
       "6    34006        Absolut Swedish Vodka 80prf   1570322.42\n",
       "7    38088                  Platinum 7x Vodka   1315379.04\n",
       "8   936600  Kirkland Signature American Vodka   1222577.28\n",
       "9    34433                         Grey Goose   1162470.96"
      ]
     },
     "execution_count": 206,
     "metadata": {},
     "output_type": "execute_result"
    }
   ],
   "source": [
    "# Top selling products state level\n",
    "sql = '''\n",
    "\n",
    "SELECT \n",
    "    item_num,\n",
    "    item_description AS item,\n",
    "    ROUND(SUM(sales_usd), 2) AS sales_usd\n",
    "FROM vodka21\n",
    "GROUP BY item_num\n",
    "ORDER BY sales_usd DESC\n",
    "LIMIT 10;\n",
    "\n",
    "'''\n",
    "\n",
    "top_products_st = pd.read_sql_query(sql, con=engine)\n",
    "top_products_st"
   ]
  },
  {
   "cell_type": "code",
   "execution_count": 207,
   "id": "87b1b437",
   "metadata": {},
   "outputs": [
    {
     "data": {
      "text/html": [
       "<div>\n",
       "<style scoped>\n",
       "    .dataframe tbody tr th:only-of-type {\n",
       "        vertical-align: middle;\n",
       "    }\n",
       "\n",
       "    .dataframe tbody tr th {\n",
       "        vertical-align: top;\n",
       "    }\n",
       "\n",
       "    .dataframe thead th {\n",
       "        text-align: right;\n",
       "    }\n",
       "</style>\n",
       "<table border=\"1\" class=\"dataframe\">\n",
       "  <thead>\n",
       "    <tr style=\"text-align: right;\">\n",
       "      <th></th>\n",
       "      <th>county</th>\n",
       "      <th>item_num</th>\n",
       "      <th>item</th>\n",
       "      <th>sales_usd</th>\n",
       "    </tr>\n",
       "  </thead>\n",
       "  <tbody>\n",
       "    <tr>\n",
       "      <th>0</th>\n",
       "      <td>POLK</td>\n",
       "      <td>38177</td>\n",
       "      <td>Titos Handmade Vodka</td>\n",
       "      <td>2278367.51</td>\n",
       "    </tr>\n",
       "    <tr>\n",
       "      <th>1</th>\n",
       "      <td>POLK</td>\n",
       "      <td>38178</td>\n",
       "      <td>Titos Handmade Vodka</td>\n",
       "      <td>2255433.00</td>\n",
       "    </tr>\n",
       "    <tr>\n",
       "      <th>2</th>\n",
       "      <td>POLK</td>\n",
       "      <td>38176</td>\n",
       "      <td>Titos Handmade Vodka</td>\n",
       "      <td>1406550.00</td>\n",
       "    </tr>\n",
       "    <tr>\n",
       "      <th>3</th>\n",
       "      <td>LINN</td>\n",
       "      <td>38178</td>\n",
       "      <td>Titos Handmade Vodka</td>\n",
       "      <td>877030.50</td>\n",
       "    </tr>\n",
       "    <tr>\n",
       "      <th>4</th>\n",
       "      <td>LINN</td>\n",
       "      <td>38177</td>\n",
       "      <td>Titos Handmade Vodka</td>\n",
       "      <td>827182.13</td>\n",
       "    </tr>\n",
       "    <tr>\n",
       "      <th>5</th>\n",
       "      <td>SCOTT</td>\n",
       "      <td>38178</td>\n",
       "      <td>Titos Handmade Vodka</td>\n",
       "      <td>742225.50</td>\n",
       "    </tr>\n",
       "    <tr>\n",
       "      <th>6</th>\n",
       "      <td>DALLAS</td>\n",
       "      <td>936600</td>\n",
       "      <td>Kirkland Signature American Vodka</td>\n",
       "      <td>624724.38</td>\n",
       "    </tr>\n",
       "    <tr>\n",
       "      <th>7</th>\n",
       "      <td>JOHNSON</td>\n",
       "      <td>38178</td>\n",
       "      <td>Titos Handmade Vodka</td>\n",
       "      <td>596590.50</td>\n",
       "    </tr>\n",
       "    <tr>\n",
       "      <th>8</th>\n",
       "      <td>DALLAS</td>\n",
       "      <td>38178</td>\n",
       "      <td>Titos Handmade Vodka</td>\n",
       "      <td>581001.00</td>\n",
       "    </tr>\n",
       "    <tr>\n",
       "      <th>9</th>\n",
       "      <td>POLK</td>\n",
       "      <td>34821</td>\n",
       "      <td>Svedka 80prf</td>\n",
       "      <td>545683.20</td>\n",
       "    </tr>\n",
       "  </tbody>\n",
       "</table>\n",
       "</div>"
      ],
      "text/plain": [
       "    county item_num                               item   sales_usd\n",
       "0     POLK    38177               Titos Handmade Vodka  2278367.51\n",
       "1     POLK    38178               Titos Handmade Vodka  2255433.00\n",
       "2     POLK    38176               Titos Handmade Vodka  1406550.00\n",
       "3     LINN    38178               Titos Handmade Vodka   877030.50\n",
       "4     LINN    38177               Titos Handmade Vodka   827182.13\n",
       "5    SCOTT    38178               Titos Handmade Vodka   742225.50\n",
       "6   DALLAS   936600  Kirkland Signature American Vodka   624724.38\n",
       "7  JOHNSON    38178               Titos Handmade Vodka   596590.50\n",
       "8   DALLAS    38178               Titos Handmade Vodka   581001.00\n",
       "9     POLK    34821                       Svedka 80prf   545683.20"
      ]
     },
     "execution_count": 207,
     "metadata": {},
     "output_type": "execute_result"
    }
   ],
   "source": [
    "# Need to do a CTE or Rank \n",
    "# Top selling products county level\n",
    "sql = '''\n",
    "\n",
    "\n",
    "    FROM vodka21\n",
    "    GROUP BY county, item_num;\n",
    "\n",
    "SELECT\n",
    "    county,\n",
    "    item_num,\n",
    "    item_description AS item,\n",
    "    ROUND(SUM(sales_usd), 2) AS sales_usd\n",
    "FROM (\n",
    "    SELECT \n",
    ")\n",
    "\n",
    "\n",
    "\n",
    "SELECT \n",
    "    county,\n",
    "    item_num,\n",
    "    item_description AS item,\n",
    "    ROUND(SUM(sales_usd), 2) AS sales_usd\n",
    "FROM vodka21\n",
    "GROUP BY county, item_num\n",
    "ORDER BY sales_usd DESC\n",
    "LIMIT 10;\n",
    "\n",
    "'''\n",
    "\n",
    "top_products_co = pd.read_sql_query(sql, con=engine)\n",
    "top_products_co"
   ]
  },
  {
   "cell_type": "code",
   "execution_count": 257,
   "id": "9dc6ae9e",
   "metadata": {},
   "outputs": [
    {
     "data": {
      "text/html": [
       "<div>\n",
       "<style scoped>\n",
       "    .dataframe tbody tr th:only-of-type {\n",
       "        vertical-align: middle;\n",
       "    }\n",
       "\n",
       "    .dataframe tbody tr th {\n",
       "        vertical-align: top;\n",
       "    }\n",
       "\n",
       "    .dataframe thead th {\n",
       "        text-align: right;\n",
       "    }\n",
       "</style>\n",
       "<table border=\"1\" class=\"dataframe\">\n",
       "  <thead>\n",
       "    <tr style=\"text-align: right;\">\n",
       "      <th></th>\n",
       "      <th>county</th>\n",
       "      <th>population</th>\n",
       "    </tr>\n",
       "  </thead>\n",
       "  <tbody>\n",
       "    <tr>\n",
       "      <th>0</th>\n",
       "      <td>POLK</td>\n",
       "      <td>492401</td>\n",
       "    </tr>\n",
       "    <tr>\n",
       "      <th>1</th>\n",
       "      <td>LINN</td>\n",
       "      <td>230299</td>\n",
       "    </tr>\n",
       "    <tr>\n",
       "      <th>2</th>\n",
       "      <td>SCOTT</td>\n",
       "      <td>174669</td>\n",
       "    </tr>\n",
       "    <tr>\n",
       "      <th>3</th>\n",
       "      <td>JOHNSON</td>\n",
       "      <td>152854</td>\n",
       "    </tr>\n",
       "    <tr>\n",
       "      <th>4</th>\n",
       "      <td>BLACK HAWK</td>\n",
       "      <td>131144</td>\n",
       "    </tr>\n",
       "    <tr>\n",
       "      <th>5</th>\n",
       "      <td>WOODBURY</td>\n",
       "      <td>105941</td>\n",
       "    </tr>\n",
       "    <tr>\n",
       "      <th>6</th>\n",
       "      <td>DALLAS</td>\n",
       "      <td>99678</td>\n",
       "    </tr>\n",
       "    <tr>\n",
       "      <th>7</th>\n",
       "      <td>DUBUQUE</td>\n",
       "      <td>99266</td>\n",
       "    </tr>\n",
       "    <tr>\n",
       "      <th>8</th>\n",
       "      <td>STORY</td>\n",
       "      <td>98537</td>\n",
       "    </tr>\n",
       "    <tr>\n",
       "      <th>9</th>\n",
       "      <td>WARREN</td>\n",
       "      <td>52403</td>\n",
       "    </tr>\n",
       "  </tbody>\n",
       "</table>\n",
       "</div>"
      ],
      "text/plain": [
       "       county  population\n",
       "0        POLK      492401\n",
       "1        LINN      230299\n",
       "2       SCOTT      174669\n",
       "3     JOHNSON      152854\n",
       "4  BLACK HAWK      131144\n",
       "5    WOODBURY      105941\n",
       "6      DALLAS       99678\n",
       "7     DUBUQUE       99266\n",
       "8       STORY       98537\n",
       "9      WARREN       52403"
      ]
     },
     "execution_count": 257,
     "metadata": {},
     "output_type": "execute_result"
    }
   ],
   "source": [
    "# most populated counties\n",
    "sql = '''\n",
    "\n",
    "SELECT \n",
    "    county,\n",
    "    population\n",
    "FROM vodka21\n",
    "GROUP BY county\n",
    "ORDER BY population DESC\n",
    "LIMIT 10;\n",
    "\n",
    "'''\n",
    "\n",
    "population_df = pd.read_sql_query(sql, con=engine)\n",
    "population_df"
   ]
  },
  {
   "cell_type": "code",
   "execution_count": 309,
   "id": "6a500441",
   "metadata": {},
   "outputs": [],
   "source": [
    "linn_df = vodka21[vodka21['county']=='LINN']"
   ]
  },
  {
   "cell_type": "code",
   "execution_count": 315,
   "id": "272d25ef",
   "metadata": {},
   "outputs": [
    {
     "data": {
      "text/plain": [
       "Index(['state', 'county', 'fips', 'invoice_num', 'date', 'store_num',\n",
       "       'store_name', 'address', 'city', 'zip_code', 'category',\n",
       "       'category_name', 'vendor_number', 'vendor_name', 'item_num',\n",
       "       'item_description', 'pack', 'bottle_volume', 'bottle_cost',\n",
       "       'bottle_retail', 'bottles_sold', 'Sales(USD)', 'Sales(Liters)',\n",
       "       'sales_gallons', 'year', 'month', 'profit', 'population'],\n",
       "      dtype='object')"
      ]
     },
     "execution_count": 315,
     "metadata": {},
     "output_type": "execute_result"
    }
   ],
   "source": [
    "linn_df.columns"
   ]
  },
  {
   "cell_type": "code",
   "execution_count": 318,
   "id": "6aafea8b",
   "metadata": {},
   "outputs": [
    {
     "data": {
      "text/html": [
       "<div>\n",
       "<style scoped>\n",
       "    .dataframe tbody tr th:only-of-type {\n",
       "        vertical-align: middle;\n",
       "    }\n",
       "\n",
       "    .dataframe tbody tr th {\n",
       "        vertical-align: top;\n",
       "    }\n",
       "\n",
       "    .dataframe thead th {\n",
       "        text-align: right;\n",
       "    }\n",
       "</style>\n",
       "<table border=\"1\" class=\"dataframe\">\n",
       "  <thead>\n",
       "    <tr style=\"text-align: right;\">\n",
       "      <th></th>\n",
       "      <th>item_description</th>\n",
       "      <th>Sales(USD)</th>\n",
       "    </tr>\n",
       "  </thead>\n",
       "  <tbody>\n",
       "    <tr>\n",
       "      <th>0</th>\n",
       "      <td>Titos Handmade Vodka</td>\n",
       "      <td>2385642.85</td>\n",
       "    </tr>\n",
       "    <tr>\n",
       "      <th>1</th>\n",
       "      <td>Hawkeye Vodka</td>\n",
       "      <td>363789.74</td>\n",
       "    </tr>\n",
       "    <tr>\n",
       "      <th>2</th>\n",
       "      <td>Absolut Swedish Vodka 80prf</td>\n",
       "      <td>348138.75</td>\n",
       "    </tr>\n",
       "    <tr>\n",
       "      <th>3</th>\n",
       "      <td>Platinum 7x Vodka</td>\n",
       "      <td>310448.24</td>\n",
       "    </tr>\n",
       "    <tr>\n",
       "      <th>4</th>\n",
       "      <td>Smirnoff 80prf</td>\n",
       "      <td>288130.59</td>\n",
       "    </tr>\n",
       "  </tbody>\n",
       "</table>\n",
       "</div>"
      ],
      "text/plain": [
       "              item_description  Sales(USD)\n",
       "0         Titos Handmade Vodka  2385642.85\n",
       "1                Hawkeye Vodka   363789.74\n",
       "2  Absolut Swedish Vodka 80prf   348138.75\n",
       "3            Platinum 7x Vodka   310448.24\n",
       "4               Smirnoff 80prf   288130.59"
      ]
     },
     "execution_count": 318,
     "metadata": {},
     "output_type": "execute_result"
    }
   ],
   "source": [
    "linn_df.groupby('item_description')['Sales(USD)'].sum().sort_values(ascending=False).reset_index()[:5]"
   ]
  },
  {
   "cell_type": "code",
   "execution_count": null,
   "id": "02f797f2",
   "metadata": {},
   "outputs": [],
   "source": []
  },
  {
   "cell_type": "code",
   "execution_count": null,
   "id": "fc96e71a",
   "metadata": {},
   "outputs": [],
   "source": []
  },
  {
   "cell_type": "markdown",
   "id": "6d5ae320",
   "metadata": {},
   "source": [
    "## Charts"
   ]
  },
  {
   "cell_type": "code",
   "execution_count": 208,
   "id": "7bc594ef",
   "metadata": {},
   "outputs": [],
   "source": [
    "import plotly.express as px\n",
    "import numpy as np"
   ]
  },
  {
   "cell_type": "code",
   "execution_count": 217,
   "id": "48ea02e9",
   "metadata": {},
   "outputs": [
    {
     "data": {
      "text/html": [
       "<div>\n",
       "<style scoped>\n",
       "    .dataframe tbody tr th:only-of-type {\n",
       "        vertical-align: middle;\n",
       "    }\n",
       "\n",
       "    .dataframe tbody tr th {\n",
       "        vertical-align: top;\n",
       "    }\n",
       "\n",
       "    .dataframe thead th {\n",
       "        text-align: right;\n",
       "    }\n",
       "</style>\n",
       "<table border=\"1\" class=\"dataframe\">\n",
       "  <thead>\n",
       "    <tr style=\"text-align: right;\">\n",
       "      <th></th>\n",
       "      <th>county</th>\n",
       "      <th>month</th>\n",
       "      <th>sales_usd</th>\n",
       "      <th>sales_volume</th>\n",
       "    </tr>\n",
       "  </thead>\n",
       "  <tbody>\n",
       "    <tr>\n",
       "      <th>888</th>\n",
       "      <td>POLK</td>\n",
       "      <td>01</td>\n",
       "      <td>1365378.82</td>\n",
       "      <td>106508.12</td>\n",
       "    </tr>\n",
       "    <tr>\n",
       "      <th>889</th>\n",
       "      <td>POLK</td>\n",
       "      <td>02</td>\n",
       "      <td>1507303.60</td>\n",
       "      <td>118071.36</td>\n",
       "    </tr>\n",
       "    <tr>\n",
       "      <th>890</th>\n",
       "      <td>POLK</td>\n",
       "      <td>03</td>\n",
       "      <td>1838418.68</td>\n",
       "      <td>137314.40</td>\n",
       "    </tr>\n",
       "    <tr>\n",
       "      <th>891</th>\n",
       "      <td>POLK</td>\n",
       "      <td>04</td>\n",
       "      <td>2078776.40</td>\n",
       "      <td>148364.06</td>\n",
       "    </tr>\n",
       "    <tr>\n",
       "      <th>892</th>\n",
       "      <td>POLK</td>\n",
       "      <td>05</td>\n",
       "      <td>1795947.92</td>\n",
       "      <td>132374.91</td>\n",
       "    </tr>\n",
       "    <tr>\n",
       "      <th>893</th>\n",
       "      <td>POLK</td>\n",
       "      <td>06</td>\n",
       "      <td>2086464.42</td>\n",
       "      <td>149937.84</td>\n",
       "    </tr>\n",
       "    <tr>\n",
       "      <th>894</th>\n",
       "      <td>POLK</td>\n",
       "      <td>07</td>\n",
       "      <td>2138724.78</td>\n",
       "      <td>157022.68</td>\n",
       "    </tr>\n",
       "    <tr>\n",
       "      <th>895</th>\n",
       "      <td>POLK</td>\n",
       "      <td>08</td>\n",
       "      <td>2215790.58</td>\n",
       "      <td>161464.09</td>\n",
       "    </tr>\n",
       "    <tr>\n",
       "      <th>896</th>\n",
       "      <td>POLK</td>\n",
       "      <td>09</td>\n",
       "      <td>1904737.74</td>\n",
       "      <td>146289.00</td>\n",
       "    </tr>\n",
       "    <tr>\n",
       "      <th>897</th>\n",
       "      <td>POLK</td>\n",
       "      <td>10</td>\n",
       "      <td>2047083.97</td>\n",
       "      <td>144597.22</td>\n",
       "    </tr>\n",
       "    <tr>\n",
       "      <th>898</th>\n",
       "      <td>POLK</td>\n",
       "      <td>11</td>\n",
       "      <td>1813662.54</td>\n",
       "      <td>133637.04</td>\n",
       "    </tr>\n",
       "    <tr>\n",
       "      <th>899</th>\n",
       "      <td>POLK</td>\n",
       "      <td>12</td>\n",
       "      <td>1941226.31</td>\n",
       "      <td>144433.08</td>\n",
       "    </tr>\n",
       "  </tbody>\n",
       "</table>\n",
       "</div>"
      ],
      "text/plain": [
       "    county month   sales_usd  sales_volume\n",
       "888   POLK    01  1365378.82     106508.12\n",
       "889   POLK    02  1507303.60     118071.36\n",
       "890   POLK    03  1838418.68     137314.40\n",
       "891   POLK    04  2078776.40     148364.06\n",
       "892   POLK    05  1795947.92     132374.91\n",
       "893   POLK    06  2086464.42     149937.84\n",
       "894   POLK    07  2138724.78     157022.68\n",
       "895   POLK    08  2215790.58     161464.09\n",
       "896   POLK    09  1904737.74     146289.00\n",
       "897   POLK    10  2047083.97     144597.22\n",
       "898   POLK    11  1813662.54     133637.04\n",
       "899   POLK    12  1941226.31     144433.08"
      ]
     },
     "execution_count": 217,
     "metadata": {},
     "output_type": "execute_result"
    }
   ],
   "source": [
    "# Bar chart of Polk County Monthly Sales\n",
    "polk_sales_mo = monthly_county_sales[monthly_county_sales['county']=='POLK']\n",
    "polk_sales_mo\n"
   ]
  },
  {
   "cell_type": "code",
   "execution_count": 246,
   "id": "cefb9a81",
   "metadata": {},
   "outputs": [
    {
     "data": {
      "application/vnd.plotly.v1+json": {
       "config": {
        "plotlyServerURL": "https://plot.ly"
       },
       "data": [
        {
         "alignmentgroup": "True",
         "hovertemplate": "month=%{x}<br>sales_usd=%{y}<extra></extra>",
         "legendgroup": "",
         "marker": {
          "color": "rgb(158,202,225)",
          "line": {
           "color": "rgb(8,48,107)",
           "width": 1.5
          },
          "pattern": {
           "shape": ""
          }
         },
         "name": "",
         "offsetgroup": "",
         "opacity": 0.6,
         "orientation": "v",
         "showlegend": false,
         "textposition": "auto",
         "type": "bar",
         "x": [
          "01",
          "02",
          "03",
          "04",
          "05",
          "06",
          "07",
          "08",
          "09",
          "10",
          "11",
          "12"
         ],
         "xaxis": "x",
         "y": [
          1365378.82,
          1507303.6,
          1838418.68,
          2078776.4,
          1795947.92,
          2086464.42,
          2138724.78,
          2215790.58,
          1904737.74,
          2047083.97,
          1813662.54,
          1941226.31
         ],
         "yaxis": "y"
        }
       ],
       "layout": {
        "barmode": "relative",
        "hoverlabel": {
         "bgcolor": "rgb(8,48,107)",
         "font": {
          "family": "Rockwell",
          "size": 12
         }
        },
        "legend": {
         "tracegroupgap": 0
        },
        "margin": {
         "t": 60
        },
        "template": {
         "data": {
          "bar": [
           {
            "error_x": {
             "color": "#2a3f5f"
            },
            "error_y": {
             "color": "#2a3f5f"
            },
            "marker": {
             "line": {
              "color": "#E5ECF6",
              "width": 0.5
             },
             "pattern": {
              "fillmode": "overlay",
              "size": 10,
              "solidity": 0.2
             }
            },
            "type": "bar"
           }
          ],
          "barpolar": [
           {
            "marker": {
             "line": {
              "color": "#E5ECF6",
              "width": 0.5
             },
             "pattern": {
              "fillmode": "overlay",
              "size": 10,
              "solidity": 0.2
             }
            },
            "type": "barpolar"
           }
          ],
          "carpet": [
           {
            "aaxis": {
             "endlinecolor": "#2a3f5f",
             "gridcolor": "white",
             "linecolor": "white",
             "minorgridcolor": "white",
             "startlinecolor": "#2a3f5f"
            },
            "baxis": {
             "endlinecolor": "#2a3f5f",
             "gridcolor": "white",
             "linecolor": "white",
             "minorgridcolor": "white",
             "startlinecolor": "#2a3f5f"
            },
            "type": "carpet"
           }
          ],
          "choropleth": [
           {
            "colorbar": {
             "outlinewidth": 0,
             "ticks": ""
            },
            "type": "choropleth"
           }
          ],
          "contour": [
           {
            "colorbar": {
             "outlinewidth": 0,
             "ticks": ""
            },
            "colorscale": [
             [
              0,
              "#0d0887"
             ],
             [
              0.1111111111111111,
              "#46039f"
             ],
             [
              0.2222222222222222,
              "#7201a8"
             ],
             [
              0.3333333333333333,
              "#9c179e"
             ],
             [
              0.4444444444444444,
              "#bd3786"
             ],
             [
              0.5555555555555556,
              "#d8576b"
             ],
             [
              0.6666666666666666,
              "#ed7953"
             ],
             [
              0.7777777777777778,
              "#fb9f3a"
             ],
             [
              0.8888888888888888,
              "#fdca26"
             ],
             [
              1,
              "#f0f921"
             ]
            ],
            "type": "contour"
           }
          ],
          "contourcarpet": [
           {
            "colorbar": {
             "outlinewidth": 0,
             "ticks": ""
            },
            "type": "contourcarpet"
           }
          ],
          "heatmap": [
           {
            "colorbar": {
             "outlinewidth": 0,
             "ticks": ""
            },
            "colorscale": [
             [
              0,
              "#0d0887"
             ],
             [
              0.1111111111111111,
              "#46039f"
             ],
             [
              0.2222222222222222,
              "#7201a8"
             ],
             [
              0.3333333333333333,
              "#9c179e"
             ],
             [
              0.4444444444444444,
              "#bd3786"
             ],
             [
              0.5555555555555556,
              "#d8576b"
             ],
             [
              0.6666666666666666,
              "#ed7953"
             ],
             [
              0.7777777777777778,
              "#fb9f3a"
             ],
             [
              0.8888888888888888,
              "#fdca26"
             ],
             [
              1,
              "#f0f921"
             ]
            ],
            "type": "heatmap"
           }
          ],
          "heatmapgl": [
           {
            "colorbar": {
             "outlinewidth": 0,
             "ticks": ""
            },
            "colorscale": [
             [
              0,
              "#0d0887"
             ],
             [
              0.1111111111111111,
              "#46039f"
             ],
             [
              0.2222222222222222,
              "#7201a8"
             ],
             [
              0.3333333333333333,
              "#9c179e"
             ],
             [
              0.4444444444444444,
              "#bd3786"
             ],
             [
              0.5555555555555556,
              "#d8576b"
             ],
             [
              0.6666666666666666,
              "#ed7953"
             ],
             [
              0.7777777777777778,
              "#fb9f3a"
             ],
             [
              0.8888888888888888,
              "#fdca26"
             ],
             [
              1,
              "#f0f921"
             ]
            ],
            "type": "heatmapgl"
           }
          ],
          "histogram": [
           {
            "marker": {
             "pattern": {
              "fillmode": "overlay",
              "size": 10,
              "solidity": 0.2
             }
            },
            "type": "histogram"
           }
          ],
          "histogram2d": [
           {
            "colorbar": {
             "outlinewidth": 0,
             "ticks": ""
            },
            "colorscale": [
             [
              0,
              "#0d0887"
             ],
             [
              0.1111111111111111,
              "#46039f"
             ],
             [
              0.2222222222222222,
              "#7201a8"
             ],
             [
              0.3333333333333333,
              "#9c179e"
             ],
             [
              0.4444444444444444,
              "#bd3786"
             ],
             [
              0.5555555555555556,
              "#d8576b"
             ],
             [
              0.6666666666666666,
              "#ed7953"
             ],
             [
              0.7777777777777778,
              "#fb9f3a"
             ],
             [
              0.8888888888888888,
              "#fdca26"
             ],
             [
              1,
              "#f0f921"
             ]
            ],
            "type": "histogram2d"
           }
          ],
          "histogram2dcontour": [
           {
            "colorbar": {
             "outlinewidth": 0,
             "ticks": ""
            },
            "colorscale": [
             [
              0,
              "#0d0887"
             ],
             [
              0.1111111111111111,
              "#46039f"
             ],
             [
              0.2222222222222222,
              "#7201a8"
             ],
             [
              0.3333333333333333,
              "#9c179e"
             ],
             [
              0.4444444444444444,
              "#bd3786"
             ],
             [
              0.5555555555555556,
              "#d8576b"
             ],
             [
              0.6666666666666666,
              "#ed7953"
             ],
             [
              0.7777777777777778,
              "#fb9f3a"
             ],
             [
              0.8888888888888888,
              "#fdca26"
             ],
             [
              1,
              "#f0f921"
             ]
            ],
            "type": "histogram2dcontour"
           }
          ],
          "mesh3d": [
           {
            "colorbar": {
             "outlinewidth": 0,
             "ticks": ""
            },
            "type": "mesh3d"
           }
          ],
          "parcoords": [
           {
            "line": {
             "colorbar": {
              "outlinewidth": 0,
              "ticks": ""
             }
            },
            "type": "parcoords"
           }
          ],
          "pie": [
           {
            "automargin": true,
            "type": "pie"
           }
          ],
          "scatter": [
           {
            "fillpattern": {
             "fillmode": "overlay",
             "size": 10,
             "solidity": 0.2
            },
            "type": "scatter"
           }
          ],
          "scatter3d": [
           {
            "line": {
             "colorbar": {
              "outlinewidth": 0,
              "ticks": ""
             }
            },
            "marker": {
             "colorbar": {
              "outlinewidth": 0,
              "ticks": ""
             }
            },
            "type": "scatter3d"
           }
          ],
          "scattercarpet": [
           {
            "marker": {
             "colorbar": {
              "outlinewidth": 0,
              "ticks": ""
             }
            },
            "type": "scattercarpet"
           }
          ],
          "scattergeo": [
           {
            "marker": {
             "colorbar": {
              "outlinewidth": 0,
              "ticks": ""
             }
            },
            "type": "scattergeo"
           }
          ],
          "scattergl": [
           {
            "marker": {
             "colorbar": {
              "outlinewidth": 0,
              "ticks": ""
             }
            },
            "type": "scattergl"
           }
          ],
          "scattermapbox": [
           {
            "marker": {
             "colorbar": {
              "outlinewidth": 0,
              "ticks": ""
             }
            },
            "type": "scattermapbox"
           }
          ],
          "scatterpolar": [
           {
            "marker": {
             "colorbar": {
              "outlinewidth": 0,
              "ticks": ""
             }
            },
            "type": "scatterpolar"
           }
          ],
          "scatterpolargl": [
           {
            "marker": {
             "colorbar": {
              "outlinewidth": 0,
              "ticks": ""
             }
            },
            "type": "scatterpolargl"
           }
          ],
          "scatterternary": [
           {
            "marker": {
             "colorbar": {
              "outlinewidth": 0,
              "ticks": ""
             }
            },
            "type": "scatterternary"
           }
          ],
          "surface": [
           {
            "colorbar": {
             "outlinewidth": 0,
             "ticks": ""
            },
            "colorscale": [
             [
              0,
              "#0d0887"
             ],
             [
              0.1111111111111111,
              "#46039f"
             ],
             [
              0.2222222222222222,
              "#7201a8"
             ],
             [
              0.3333333333333333,
              "#9c179e"
             ],
             [
              0.4444444444444444,
              "#bd3786"
             ],
             [
              0.5555555555555556,
              "#d8576b"
             ],
             [
              0.6666666666666666,
              "#ed7953"
             ],
             [
              0.7777777777777778,
              "#fb9f3a"
             ],
             [
              0.8888888888888888,
              "#fdca26"
             ],
             [
              1,
              "#f0f921"
             ]
            ],
            "type": "surface"
           }
          ],
          "table": [
           {
            "cells": {
             "fill": {
              "color": "#EBF0F8"
             },
             "line": {
              "color": "white"
             }
            },
            "header": {
             "fill": {
              "color": "#C8D4E3"
             },
             "line": {
              "color": "white"
             }
            },
            "type": "table"
           }
          ]
         },
         "layout": {
          "annotationdefaults": {
           "arrowcolor": "#2a3f5f",
           "arrowhead": 0,
           "arrowwidth": 1
          },
          "autotypenumbers": "strict",
          "coloraxis": {
           "colorbar": {
            "outlinewidth": 0,
            "ticks": ""
           }
          },
          "colorscale": {
           "diverging": [
            [
             0,
             "#8e0152"
            ],
            [
             0.1,
             "#c51b7d"
            ],
            [
             0.2,
             "#de77ae"
            ],
            [
             0.3,
             "#f1b6da"
            ],
            [
             0.4,
             "#fde0ef"
            ],
            [
             0.5,
             "#f7f7f7"
            ],
            [
             0.6,
             "#e6f5d0"
            ],
            [
             0.7,
             "#b8e186"
            ],
            [
             0.8,
             "#7fbc41"
            ],
            [
             0.9,
             "#4d9221"
            ],
            [
             1,
             "#276419"
            ]
           ],
           "sequential": [
            [
             0,
             "#0d0887"
            ],
            [
             0.1111111111111111,
             "#46039f"
            ],
            [
             0.2222222222222222,
             "#7201a8"
            ],
            [
             0.3333333333333333,
             "#9c179e"
            ],
            [
             0.4444444444444444,
             "#bd3786"
            ],
            [
             0.5555555555555556,
             "#d8576b"
            ],
            [
             0.6666666666666666,
             "#ed7953"
            ],
            [
             0.7777777777777778,
             "#fb9f3a"
            ],
            [
             0.8888888888888888,
             "#fdca26"
            ],
            [
             1,
             "#f0f921"
            ]
           ],
           "sequentialminus": [
            [
             0,
             "#0d0887"
            ],
            [
             0.1111111111111111,
             "#46039f"
            ],
            [
             0.2222222222222222,
             "#7201a8"
            ],
            [
             0.3333333333333333,
             "#9c179e"
            ],
            [
             0.4444444444444444,
             "#bd3786"
            ],
            [
             0.5555555555555556,
             "#d8576b"
            ],
            [
             0.6666666666666666,
             "#ed7953"
            ],
            [
             0.7777777777777778,
             "#fb9f3a"
            ],
            [
             0.8888888888888888,
             "#fdca26"
            ],
            [
             1,
             "#f0f921"
            ]
           ]
          },
          "colorway": [
           "#636efa",
           "#EF553B",
           "#00cc96",
           "#ab63fa",
           "#FFA15A",
           "#19d3f3",
           "#FF6692",
           "#B6E880",
           "#FF97FF",
           "#FECB52"
          ],
          "font": {
           "color": "#2a3f5f"
          },
          "geo": {
           "bgcolor": "white",
           "lakecolor": "white",
           "landcolor": "#E5ECF6",
           "showlakes": true,
           "showland": true,
           "subunitcolor": "white"
          },
          "hoverlabel": {
           "align": "left"
          },
          "hovermode": "closest",
          "mapbox": {
           "style": "light"
          },
          "paper_bgcolor": "white",
          "plot_bgcolor": "#E5ECF6",
          "polar": {
           "angularaxis": {
            "gridcolor": "white",
            "linecolor": "white",
            "ticks": ""
           },
           "bgcolor": "#E5ECF6",
           "radialaxis": {
            "gridcolor": "white",
            "linecolor": "white",
            "ticks": ""
           }
          },
          "scene": {
           "xaxis": {
            "backgroundcolor": "#E5ECF6",
            "gridcolor": "white",
            "gridwidth": 2,
            "linecolor": "white",
            "showbackground": true,
            "ticks": "",
            "zerolinecolor": "white"
           },
           "yaxis": {
            "backgroundcolor": "#E5ECF6",
            "gridcolor": "white",
            "gridwidth": 2,
            "linecolor": "white",
            "showbackground": true,
            "ticks": "",
            "zerolinecolor": "white"
           },
           "zaxis": {
            "backgroundcolor": "#E5ECF6",
            "gridcolor": "white",
            "gridwidth": 2,
            "linecolor": "white",
            "showbackground": true,
            "ticks": "",
            "zerolinecolor": "white"
           }
          },
          "shapedefaults": {
           "line": {
            "color": "#2a3f5f"
           }
          },
          "ternary": {
           "aaxis": {
            "gridcolor": "white",
            "linecolor": "white",
            "ticks": ""
           },
           "baxis": {
            "gridcolor": "white",
            "linecolor": "white",
            "ticks": ""
           },
           "bgcolor": "#E5ECF6",
           "caxis": {
            "gridcolor": "white",
            "linecolor": "white",
            "ticks": ""
           }
          },
          "title": {
           "x": 0.05
          },
          "xaxis": {
           "automargin": true,
           "gridcolor": "white",
           "linecolor": "white",
           "ticks": "",
           "title": {
            "standoff": 15
           },
           "zerolinecolor": "white",
           "zerolinewidth": 2
          },
          "yaxis": {
           "automargin": true,
           "gridcolor": "white",
           "linecolor": "white",
           "ticks": "",
           "title": {
            "standoff": 15
           },
           "zerolinecolor": "white",
           "zerolinewidth": 2
          }
         }
        },
        "title": {
         "text": "Polk County 2021 Monthly Vodka Sales-(USD)",
         "x": 0.5,
         "xanchor": "center",
         "y": 0.95,
         "yanchor": "top"
        },
        "xaxis": {
         "anchor": "y",
         "domain": [
          0,
          1
         ],
         "tickangle": 45,
         "ticktext": [
          "Jan",
          "Feb",
          "Mar",
          "Apr",
          "May",
          "Jun",
          "Jul",
          "Aug",
          "Sep",
          "Oct",
          "Nov",
          "Dec"
         ],
         "tickvals": [
          "01",
          "02",
          "03",
          "04",
          "05",
          "06",
          "07",
          "08",
          "09",
          "10",
          "11",
          "12"
         ],
         "title": {
          "font": {
           "size": 16
          },
          "standoff": 25,
          "text": "Month"
         }
        },
        "yaxis": {
         "anchor": "x",
         "domain": [
          0,
          1
         ],
         "title": {
          "font": {
           "size": 16
          },
          "standoff": 25,
          "text": "Sales (USD)"
         }
        }
       }
      },
      "text/html": [
       "<div>                            <div id=\"bd9cd64d-baef-48c2-93dc-93bd9c75249d\" class=\"plotly-graph-div\" style=\"height:525px; width:100%;\"></div>            <script type=\"text/javascript\">                require([\"plotly\"], function(Plotly) {                    window.PLOTLYENV=window.PLOTLYENV || {};                                    if (document.getElementById(\"bd9cd64d-baef-48c2-93dc-93bd9c75249d\")) {                    Plotly.newPlot(                        \"bd9cd64d-baef-48c2-93dc-93bd9c75249d\",                        [{\"alignmentgroup\":\"True\",\"hovertemplate\":\"month=%{x}<br>sales_usd=%{y}<extra></extra>\",\"legendgroup\":\"\",\"marker\":{\"color\":\"rgb(158,202,225)\",\"pattern\":{\"shape\":\"\"},\"line\":{\"color\":\"rgb(8,48,107)\",\"width\":1.5}},\"name\":\"\",\"offsetgroup\":\"\",\"orientation\":\"v\",\"showlegend\":false,\"textposition\":\"auto\",\"x\":[\"01\",\"02\",\"03\",\"04\",\"05\",\"06\",\"07\",\"08\",\"09\",\"10\",\"11\",\"12\"],\"xaxis\":\"x\",\"y\":[1365378.82,1507303.6,1838418.68,2078776.4,1795947.92,2086464.42,2138724.78,2215790.58,1904737.74,2047083.97,1813662.54,1941226.31],\"yaxis\":\"y\",\"type\":\"bar\",\"opacity\":0.6}],                        {\"template\":{\"data\":{\"histogram2dcontour\":[{\"type\":\"histogram2dcontour\",\"colorbar\":{\"outlinewidth\":0,\"ticks\":\"\"},\"colorscale\":[[0.0,\"#0d0887\"],[0.1111111111111111,\"#46039f\"],[0.2222222222222222,\"#7201a8\"],[0.3333333333333333,\"#9c179e\"],[0.4444444444444444,\"#bd3786\"],[0.5555555555555556,\"#d8576b\"],[0.6666666666666666,\"#ed7953\"],[0.7777777777777778,\"#fb9f3a\"],[0.8888888888888888,\"#fdca26\"],[1.0,\"#f0f921\"]]}],\"choropleth\":[{\"type\":\"choropleth\",\"colorbar\":{\"outlinewidth\":0,\"ticks\":\"\"}}],\"histogram2d\":[{\"type\":\"histogram2d\",\"colorbar\":{\"outlinewidth\":0,\"ticks\":\"\"},\"colorscale\":[[0.0,\"#0d0887\"],[0.1111111111111111,\"#46039f\"],[0.2222222222222222,\"#7201a8\"],[0.3333333333333333,\"#9c179e\"],[0.4444444444444444,\"#bd3786\"],[0.5555555555555556,\"#d8576b\"],[0.6666666666666666,\"#ed7953\"],[0.7777777777777778,\"#fb9f3a\"],[0.8888888888888888,\"#fdca26\"],[1.0,\"#f0f921\"]]}],\"heatmap\":[{\"type\":\"heatmap\",\"colorbar\":{\"outlinewidth\":0,\"ticks\":\"\"},\"colorscale\":[[0.0,\"#0d0887\"],[0.1111111111111111,\"#46039f\"],[0.2222222222222222,\"#7201a8\"],[0.3333333333333333,\"#9c179e\"],[0.4444444444444444,\"#bd3786\"],[0.5555555555555556,\"#d8576b\"],[0.6666666666666666,\"#ed7953\"],[0.7777777777777778,\"#fb9f3a\"],[0.8888888888888888,\"#fdca26\"],[1.0,\"#f0f921\"]]}],\"heatmapgl\":[{\"type\":\"heatmapgl\",\"colorbar\":{\"outlinewidth\":0,\"ticks\":\"\"},\"colorscale\":[[0.0,\"#0d0887\"],[0.1111111111111111,\"#46039f\"],[0.2222222222222222,\"#7201a8\"],[0.3333333333333333,\"#9c179e\"],[0.4444444444444444,\"#bd3786\"],[0.5555555555555556,\"#d8576b\"],[0.6666666666666666,\"#ed7953\"],[0.7777777777777778,\"#fb9f3a\"],[0.8888888888888888,\"#fdca26\"],[1.0,\"#f0f921\"]]}],\"contourcarpet\":[{\"type\":\"contourcarpet\",\"colorbar\":{\"outlinewidth\":0,\"ticks\":\"\"}}],\"contour\":[{\"type\":\"contour\",\"colorbar\":{\"outlinewidth\":0,\"ticks\":\"\"},\"colorscale\":[[0.0,\"#0d0887\"],[0.1111111111111111,\"#46039f\"],[0.2222222222222222,\"#7201a8\"],[0.3333333333333333,\"#9c179e\"],[0.4444444444444444,\"#bd3786\"],[0.5555555555555556,\"#d8576b\"],[0.6666666666666666,\"#ed7953\"],[0.7777777777777778,\"#fb9f3a\"],[0.8888888888888888,\"#fdca26\"],[1.0,\"#f0f921\"]]}],\"surface\":[{\"type\":\"surface\",\"colorbar\":{\"outlinewidth\":0,\"ticks\":\"\"},\"colorscale\":[[0.0,\"#0d0887\"],[0.1111111111111111,\"#46039f\"],[0.2222222222222222,\"#7201a8\"],[0.3333333333333333,\"#9c179e\"],[0.4444444444444444,\"#bd3786\"],[0.5555555555555556,\"#d8576b\"],[0.6666666666666666,\"#ed7953\"],[0.7777777777777778,\"#fb9f3a\"],[0.8888888888888888,\"#fdca26\"],[1.0,\"#f0f921\"]]}],\"mesh3d\":[{\"type\":\"mesh3d\",\"colorbar\":{\"outlinewidth\":0,\"ticks\":\"\"}}],\"scatter\":[{\"fillpattern\":{\"fillmode\":\"overlay\",\"size\":10,\"solidity\":0.2},\"type\":\"scatter\"}],\"parcoords\":[{\"type\":\"parcoords\",\"line\":{\"colorbar\":{\"outlinewidth\":0,\"ticks\":\"\"}}}],\"scatterpolargl\":[{\"type\":\"scatterpolargl\",\"marker\":{\"colorbar\":{\"outlinewidth\":0,\"ticks\":\"\"}}}],\"bar\":[{\"error_x\":{\"color\":\"#2a3f5f\"},\"error_y\":{\"color\":\"#2a3f5f\"},\"marker\":{\"line\":{\"color\":\"#E5ECF6\",\"width\":0.5},\"pattern\":{\"fillmode\":\"overlay\",\"size\":10,\"solidity\":0.2}},\"type\":\"bar\"}],\"scattergeo\":[{\"type\":\"scattergeo\",\"marker\":{\"colorbar\":{\"outlinewidth\":0,\"ticks\":\"\"}}}],\"scatterpolar\":[{\"type\":\"scatterpolar\",\"marker\":{\"colorbar\":{\"outlinewidth\":0,\"ticks\":\"\"}}}],\"histogram\":[{\"marker\":{\"pattern\":{\"fillmode\":\"overlay\",\"size\":10,\"solidity\":0.2}},\"type\":\"histogram\"}],\"scattergl\":[{\"type\":\"scattergl\",\"marker\":{\"colorbar\":{\"outlinewidth\":0,\"ticks\":\"\"}}}],\"scatter3d\":[{\"type\":\"scatter3d\",\"line\":{\"colorbar\":{\"outlinewidth\":0,\"ticks\":\"\"}},\"marker\":{\"colorbar\":{\"outlinewidth\":0,\"ticks\":\"\"}}}],\"scattermapbox\":[{\"type\":\"scattermapbox\",\"marker\":{\"colorbar\":{\"outlinewidth\":0,\"ticks\":\"\"}}}],\"scatterternary\":[{\"type\":\"scatterternary\",\"marker\":{\"colorbar\":{\"outlinewidth\":0,\"ticks\":\"\"}}}],\"scattercarpet\":[{\"type\":\"scattercarpet\",\"marker\":{\"colorbar\":{\"outlinewidth\":0,\"ticks\":\"\"}}}],\"carpet\":[{\"aaxis\":{\"endlinecolor\":\"#2a3f5f\",\"gridcolor\":\"white\",\"linecolor\":\"white\",\"minorgridcolor\":\"white\",\"startlinecolor\":\"#2a3f5f\"},\"baxis\":{\"endlinecolor\":\"#2a3f5f\",\"gridcolor\":\"white\",\"linecolor\":\"white\",\"minorgridcolor\":\"white\",\"startlinecolor\":\"#2a3f5f\"},\"type\":\"carpet\"}],\"table\":[{\"cells\":{\"fill\":{\"color\":\"#EBF0F8\"},\"line\":{\"color\":\"white\"}},\"header\":{\"fill\":{\"color\":\"#C8D4E3\"},\"line\":{\"color\":\"white\"}},\"type\":\"table\"}],\"barpolar\":[{\"marker\":{\"line\":{\"color\":\"#E5ECF6\",\"width\":0.5},\"pattern\":{\"fillmode\":\"overlay\",\"size\":10,\"solidity\":0.2}},\"type\":\"barpolar\"}],\"pie\":[{\"automargin\":true,\"type\":\"pie\"}]},\"layout\":{\"autotypenumbers\":\"strict\",\"colorway\":[\"#636efa\",\"#EF553B\",\"#00cc96\",\"#ab63fa\",\"#FFA15A\",\"#19d3f3\",\"#FF6692\",\"#B6E880\",\"#FF97FF\",\"#FECB52\"],\"font\":{\"color\":\"#2a3f5f\"},\"hovermode\":\"closest\",\"hoverlabel\":{\"align\":\"left\"},\"paper_bgcolor\":\"white\",\"plot_bgcolor\":\"#E5ECF6\",\"polar\":{\"bgcolor\":\"#E5ECF6\",\"angularaxis\":{\"gridcolor\":\"white\",\"linecolor\":\"white\",\"ticks\":\"\"},\"radialaxis\":{\"gridcolor\":\"white\",\"linecolor\":\"white\",\"ticks\":\"\"}},\"ternary\":{\"bgcolor\":\"#E5ECF6\",\"aaxis\":{\"gridcolor\":\"white\",\"linecolor\":\"white\",\"ticks\":\"\"},\"baxis\":{\"gridcolor\":\"white\",\"linecolor\":\"white\",\"ticks\":\"\"},\"caxis\":{\"gridcolor\":\"white\",\"linecolor\":\"white\",\"ticks\":\"\"}},\"coloraxis\":{\"colorbar\":{\"outlinewidth\":0,\"ticks\":\"\"}},\"colorscale\":{\"sequential\":[[0.0,\"#0d0887\"],[0.1111111111111111,\"#46039f\"],[0.2222222222222222,\"#7201a8\"],[0.3333333333333333,\"#9c179e\"],[0.4444444444444444,\"#bd3786\"],[0.5555555555555556,\"#d8576b\"],[0.6666666666666666,\"#ed7953\"],[0.7777777777777778,\"#fb9f3a\"],[0.8888888888888888,\"#fdca26\"],[1.0,\"#f0f921\"]],\"sequentialminus\":[[0.0,\"#0d0887\"],[0.1111111111111111,\"#46039f\"],[0.2222222222222222,\"#7201a8\"],[0.3333333333333333,\"#9c179e\"],[0.4444444444444444,\"#bd3786\"],[0.5555555555555556,\"#d8576b\"],[0.6666666666666666,\"#ed7953\"],[0.7777777777777778,\"#fb9f3a\"],[0.8888888888888888,\"#fdca26\"],[1.0,\"#f0f921\"]],\"diverging\":[[0,\"#8e0152\"],[0.1,\"#c51b7d\"],[0.2,\"#de77ae\"],[0.3,\"#f1b6da\"],[0.4,\"#fde0ef\"],[0.5,\"#f7f7f7\"],[0.6,\"#e6f5d0\"],[0.7,\"#b8e186\"],[0.8,\"#7fbc41\"],[0.9,\"#4d9221\"],[1,\"#276419\"]]},\"xaxis\":{\"gridcolor\":\"white\",\"linecolor\":\"white\",\"ticks\":\"\",\"title\":{\"standoff\":15},\"zerolinecolor\":\"white\",\"automargin\":true,\"zerolinewidth\":2},\"yaxis\":{\"gridcolor\":\"white\",\"linecolor\":\"white\",\"ticks\":\"\",\"title\":{\"standoff\":15},\"zerolinecolor\":\"white\",\"automargin\":true,\"zerolinewidth\":2},\"scene\":{\"xaxis\":{\"backgroundcolor\":\"#E5ECF6\",\"gridcolor\":\"white\",\"linecolor\":\"white\",\"showbackground\":true,\"ticks\":\"\",\"zerolinecolor\":\"white\",\"gridwidth\":2},\"yaxis\":{\"backgroundcolor\":\"#E5ECF6\",\"gridcolor\":\"white\",\"linecolor\":\"white\",\"showbackground\":true,\"ticks\":\"\",\"zerolinecolor\":\"white\",\"gridwidth\":2},\"zaxis\":{\"backgroundcolor\":\"#E5ECF6\",\"gridcolor\":\"white\",\"linecolor\":\"white\",\"showbackground\":true,\"ticks\":\"\",\"zerolinecolor\":\"white\",\"gridwidth\":2}},\"shapedefaults\":{\"line\":{\"color\":\"#2a3f5f\"}},\"annotationdefaults\":{\"arrowcolor\":\"#2a3f5f\",\"arrowhead\":0,\"arrowwidth\":1},\"geo\":{\"bgcolor\":\"white\",\"landcolor\":\"#E5ECF6\",\"subunitcolor\":\"white\",\"showland\":true,\"showlakes\":true,\"lakecolor\":\"white\"},\"title\":{\"x\":0.05},\"mapbox\":{\"style\":\"light\"}}},\"xaxis\":{\"anchor\":\"y\",\"domain\":[0.0,1.0],\"title\":{\"text\":\"Month\",\"font\":{\"size\":16},\"standoff\":25},\"tickangle\":45,\"ticktext\":[\"Jan\",\"Feb\",\"Mar\",\"Apr\",\"May\",\"Jun\",\"Jul\",\"Aug\",\"Sep\",\"Oct\",\"Nov\",\"Dec\"],\"tickvals\":[\"01\",\"02\",\"03\",\"04\",\"05\",\"06\",\"07\",\"08\",\"09\",\"10\",\"11\",\"12\"]},\"yaxis\":{\"anchor\":\"x\",\"domain\":[0.0,1.0],\"title\":{\"text\":\"Sales (USD)\",\"font\":{\"size\":16},\"standoff\":25}},\"legend\":{\"tracegroupgap\":0},\"margin\":{\"t\":60},\"barmode\":\"relative\",\"title\":{\"text\":\"Polk County 2021 Monthly Vodka Sales-(USD)\",\"y\":0.95,\"x\":0.5,\"xanchor\":\"center\",\"yanchor\":\"top\"},\"hoverlabel\":{\"font\":{\"size\":12,\"family\":\"Rockwell\"},\"bgcolor\":\"rgb(8,48,107)\"}},                        {\"responsive\": true}                    ).then(function(){\n",
       "                            \n",
       "var gd = document.getElementById('bd9cd64d-baef-48c2-93dc-93bd9c75249d');\n",
       "var x = new MutationObserver(function (mutations, observer) {{\n",
       "        var display = window.getComputedStyle(gd).display;\n",
       "        if (!display || display === 'none') {{\n",
       "            console.log([gd, 'removed!']);\n",
       "            Plotly.purge(gd);\n",
       "            observer.disconnect();\n",
       "        }}\n",
       "}});\n",
       "\n",
       "// Listen for the removal of the full notebook cells\n",
       "var notebookContainer = gd.closest('#notebook-container');\n",
       "if (notebookContainer) {{\n",
       "    x.observe(notebookContainer, {childList: true});\n",
       "}}\n",
       "\n",
       "// Listen for the clearing of the current output cell\n",
       "var outputEl = gd.closest('.output');\n",
       "if (outputEl) {{\n",
       "    x.observe(outputEl, {childList: true});\n",
       "}}\n",
       "\n",
       "                        })                };                });            </script>        </div>"
      ]
     },
     "metadata": {},
     "output_type": "display_data"
    }
   ],
   "source": [
    "fig = px.bar(polk_sales_mo, x = 'month', y = 'sales_usd')\n",
    "\n",
    "fig.update_layout(\n",
    "    title={\n",
    "        'text': 'Polk County 2021 Monthly Vodka Sales-(USD)',\n",
    "        'y': 0.95,\n",
    "        'x': 0.5,\n",
    "        'xanchor': 'center',\n",
    "        'yanchor': 'top'},\n",
    "    hoverlabel=dict(\n",
    "        bgcolor='rgb(8,48,107)',\n",
    "        font_size=12,\n",
    "        font_family='Rockwell'\n",
    "    )\n",
    ")\n",
    "\n",
    "\n",
    "fig.update_traces(marker_color='rgb(158,202,225)', marker_line_color='rgb(8,48,107)',\n",
    "                  marker_line_width=1.5, opacity=0.6)\n",
    "\n",
    "fig.update_xaxes(\n",
    "    tickangle=45,\n",
    "    title_text = 'Month',\n",
    "    title_standoff = 25, \n",
    "    title_font = {'size': 16},\n",
    "    ticktext=['Jan', 'Feb', 'Mar', 'Apr', 'May', 'Jun', 'Jul', 'Aug', 'Sep',\n",
    "              'Oct', 'Nov', 'Dec'],\n",
    "    tickvals = ['01', '02', '03', '04', '05', '06', '07', '08', '09', '10', '11', '12']\n",
    "\n",
    ")\n",
    "\n",
    "fig.update_yaxes(\n",
    "    title_text = 'Sales (USD)',\n",
    "    title_standoff = 25,\n",
    "    title_font = {'size':16}\n",
    ")\n",
    "\n",
    "\n",
    "fig.show()"
   ]
  },
  {
   "cell_type": "code",
   "execution_count": 299,
   "id": "6e1d961e",
   "metadata": {},
   "outputs": [],
   "source": [
    "dff = vodka21.copy()\n",
    "dff = dff.groupby(['county', 'month'])['sales_usd'].sum().reset_index()"
   ]
  },
  {
   "cell_type": "code",
   "execution_count": 300,
   "id": "46920a1b",
   "metadata": {},
   "outputs": [
    {
     "data": {
      "text/html": [
       "<div>\n",
       "<style scoped>\n",
       "    .dataframe tbody tr th:only-of-type {\n",
       "        vertical-align: middle;\n",
       "    }\n",
       "\n",
       "    .dataframe tbody tr th {\n",
       "        vertical-align: top;\n",
       "    }\n",
       "\n",
       "    .dataframe thead th {\n",
       "        text-align: right;\n",
       "    }\n",
       "</style>\n",
       "<table border=\"1\" class=\"dataframe\">\n",
       "  <thead>\n",
       "    <tr style=\"text-align: right;\">\n",
       "      <th></th>\n",
       "      <th>county</th>\n",
       "      <th>month</th>\n",
       "      <th>sales_usd</th>\n",
       "    </tr>\n",
       "  </thead>\n",
       "  <tbody>\n",
       "    <tr>\n",
       "      <th>0</th>\n",
       "      <td>ADAIR</td>\n",
       "      <td>01</td>\n",
       "      <td>10076.14</td>\n",
       "    </tr>\n",
       "    <tr>\n",
       "      <th>1</th>\n",
       "      <td>ADAIR</td>\n",
       "      <td>02</td>\n",
       "      <td>8378.51</td>\n",
       "    </tr>\n",
       "    <tr>\n",
       "      <th>2</th>\n",
       "      <td>ADAIR</td>\n",
       "      <td>03</td>\n",
       "      <td>7651.43</td>\n",
       "    </tr>\n",
       "    <tr>\n",
       "      <th>3</th>\n",
       "      <td>ADAIR</td>\n",
       "      <td>04</td>\n",
       "      <td>8429.04</td>\n",
       "    </tr>\n",
       "    <tr>\n",
       "      <th>4</th>\n",
       "      <td>ADAIR</td>\n",
       "      <td>05</td>\n",
       "      <td>8047.58</td>\n",
       "    </tr>\n",
       "  </tbody>\n",
       "</table>\n",
       "</div>"
      ],
      "text/plain": [
       "  county month  sales_usd\n",
       "0  ADAIR    01   10076.14\n",
       "1  ADAIR    02    8378.51\n",
       "2  ADAIR    03    7651.43\n",
       "3  ADAIR    04    8429.04\n",
       "4  ADAIR    05    8047.58"
      ]
     },
     "execution_count": 300,
     "metadata": {},
     "output_type": "execute_result"
    }
   ],
   "source": [
    "dff.head()"
   ]
  },
  {
   "cell_type": "code",
   "execution_count": 250,
   "id": "d3975fe2",
   "metadata": {},
   "outputs": [],
   "source": [
    "# Filter for Polk and Linn Counties\n",
    "polk_linn_sales_mo = monthly_county_sales[(monthly_county_sales['county']=='POLK') |\n",
    "                                     (monthly_county_sales['county']== 'LINN')]"
   ]
  },
  {
   "cell_type": "code",
   "execution_count": 252,
   "id": "77fcc742",
   "metadata": {},
   "outputs": [
    {
     "data": {
      "application/vnd.plotly.v1+json": {
       "config": {
        "plotlyServerURL": "https://plot.ly"
       },
       "data": [
        {
         "hovertemplate": "county=LINN<br>month=%{x}<br>sales_usd=%{y}<extra></extra>",
         "legendgroup": "LINN",
         "line": {
          "color": "#636efa",
          "dash": "solid"
         },
         "marker": {
          "symbol": "circle"
         },
         "mode": "lines",
         "name": "LINN",
         "orientation": "v",
         "showlegend": true,
         "type": "scatter",
         "x": [
          "01",
          "02",
          "03",
          "04",
          "05",
          "06",
          "07",
          "08",
          "09",
          "10",
          "11",
          "12"
         ],
         "xaxis": "x",
         "y": [
          588784.16,
          575888.83,
          639792.71,
          674681.18,
          682141.97,
          836917.68,
          726001.13,
          799044.24,
          641203.63,
          636343.22,
          754730.4,
          699390.02
         ],
         "yaxis": "y"
        },
        {
         "hovertemplate": "county=POLK<br>month=%{x}<br>sales_usd=%{y}<extra></extra>",
         "legendgroup": "POLK",
         "line": {
          "color": "#EF553B",
          "dash": "solid"
         },
         "marker": {
          "symbol": "circle"
         },
         "mode": "lines",
         "name": "POLK",
         "orientation": "v",
         "showlegend": true,
         "type": "scatter",
         "x": [
          "01",
          "02",
          "03",
          "04",
          "05",
          "06",
          "07",
          "08",
          "09",
          "10",
          "11",
          "12"
         ],
         "xaxis": "x",
         "y": [
          1365378.82,
          1507303.6,
          1838418.68,
          2078776.4,
          1795947.92,
          2086464.42,
          2138724.78,
          2215790.58,
          1904737.74,
          2047083.97,
          1813662.54,
          1941226.31
         ],
         "yaxis": "y"
        }
       ],
       "layout": {
        "legend": {
         "title": {
          "text": "county"
         },
         "tracegroupgap": 0
        },
        "margin": {
         "t": 60
        },
        "template": {
         "data": {
          "bar": [
           {
            "error_x": {
             "color": "#2a3f5f"
            },
            "error_y": {
             "color": "#2a3f5f"
            },
            "marker": {
             "line": {
              "color": "#E5ECF6",
              "width": 0.5
             },
             "pattern": {
              "fillmode": "overlay",
              "size": 10,
              "solidity": 0.2
             }
            },
            "type": "bar"
           }
          ],
          "barpolar": [
           {
            "marker": {
             "line": {
              "color": "#E5ECF6",
              "width": 0.5
             },
             "pattern": {
              "fillmode": "overlay",
              "size": 10,
              "solidity": 0.2
             }
            },
            "type": "barpolar"
           }
          ],
          "carpet": [
           {
            "aaxis": {
             "endlinecolor": "#2a3f5f",
             "gridcolor": "white",
             "linecolor": "white",
             "minorgridcolor": "white",
             "startlinecolor": "#2a3f5f"
            },
            "baxis": {
             "endlinecolor": "#2a3f5f",
             "gridcolor": "white",
             "linecolor": "white",
             "minorgridcolor": "white",
             "startlinecolor": "#2a3f5f"
            },
            "type": "carpet"
           }
          ],
          "choropleth": [
           {
            "colorbar": {
             "outlinewidth": 0,
             "ticks": ""
            },
            "type": "choropleth"
           }
          ],
          "contour": [
           {
            "colorbar": {
             "outlinewidth": 0,
             "ticks": ""
            },
            "colorscale": [
             [
              0,
              "#0d0887"
             ],
             [
              0.1111111111111111,
              "#46039f"
             ],
             [
              0.2222222222222222,
              "#7201a8"
             ],
             [
              0.3333333333333333,
              "#9c179e"
             ],
             [
              0.4444444444444444,
              "#bd3786"
             ],
             [
              0.5555555555555556,
              "#d8576b"
             ],
             [
              0.6666666666666666,
              "#ed7953"
             ],
             [
              0.7777777777777778,
              "#fb9f3a"
             ],
             [
              0.8888888888888888,
              "#fdca26"
             ],
             [
              1,
              "#f0f921"
             ]
            ],
            "type": "contour"
           }
          ],
          "contourcarpet": [
           {
            "colorbar": {
             "outlinewidth": 0,
             "ticks": ""
            },
            "type": "contourcarpet"
           }
          ],
          "heatmap": [
           {
            "colorbar": {
             "outlinewidth": 0,
             "ticks": ""
            },
            "colorscale": [
             [
              0,
              "#0d0887"
             ],
             [
              0.1111111111111111,
              "#46039f"
             ],
             [
              0.2222222222222222,
              "#7201a8"
             ],
             [
              0.3333333333333333,
              "#9c179e"
             ],
             [
              0.4444444444444444,
              "#bd3786"
             ],
             [
              0.5555555555555556,
              "#d8576b"
             ],
             [
              0.6666666666666666,
              "#ed7953"
             ],
             [
              0.7777777777777778,
              "#fb9f3a"
             ],
             [
              0.8888888888888888,
              "#fdca26"
             ],
             [
              1,
              "#f0f921"
             ]
            ],
            "type": "heatmap"
           }
          ],
          "heatmapgl": [
           {
            "colorbar": {
             "outlinewidth": 0,
             "ticks": ""
            },
            "colorscale": [
             [
              0,
              "#0d0887"
             ],
             [
              0.1111111111111111,
              "#46039f"
             ],
             [
              0.2222222222222222,
              "#7201a8"
             ],
             [
              0.3333333333333333,
              "#9c179e"
             ],
             [
              0.4444444444444444,
              "#bd3786"
             ],
             [
              0.5555555555555556,
              "#d8576b"
             ],
             [
              0.6666666666666666,
              "#ed7953"
             ],
             [
              0.7777777777777778,
              "#fb9f3a"
             ],
             [
              0.8888888888888888,
              "#fdca26"
             ],
             [
              1,
              "#f0f921"
             ]
            ],
            "type": "heatmapgl"
           }
          ],
          "histogram": [
           {
            "marker": {
             "pattern": {
              "fillmode": "overlay",
              "size": 10,
              "solidity": 0.2
             }
            },
            "type": "histogram"
           }
          ],
          "histogram2d": [
           {
            "colorbar": {
             "outlinewidth": 0,
             "ticks": ""
            },
            "colorscale": [
             [
              0,
              "#0d0887"
             ],
             [
              0.1111111111111111,
              "#46039f"
             ],
             [
              0.2222222222222222,
              "#7201a8"
             ],
             [
              0.3333333333333333,
              "#9c179e"
             ],
             [
              0.4444444444444444,
              "#bd3786"
             ],
             [
              0.5555555555555556,
              "#d8576b"
             ],
             [
              0.6666666666666666,
              "#ed7953"
             ],
             [
              0.7777777777777778,
              "#fb9f3a"
             ],
             [
              0.8888888888888888,
              "#fdca26"
             ],
             [
              1,
              "#f0f921"
             ]
            ],
            "type": "histogram2d"
           }
          ],
          "histogram2dcontour": [
           {
            "colorbar": {
             "outlinewidth": 0,
             "ticks": ""
            },
            "colorscale": [
             [
              0,
              "#0d0887"
             ],
             [
              0.1111111111111111,
              "#46039f"
             ],
             [
              0.2222222222222222,
              "#7201a8"
             ],
             [
              0.3333333333333333,
              "#9c179e"
             ],
             [
              0.4444444444444444,
              "#bd3786"
             ],
             [
              0.5555555555555556,
              "#d8576b"
             ],
             [
              0.6666666666666666,
              "#ed7953"
             ],
             [
              0.7777777777777778,
              "#fb9f3a"
             ],
             [
              0.8888888888888888,
              "#fdca26"
             ],
             [
              1,
              "#f0f921"
             ]
            ],
            "type": "histogram2dcontour"
           }
          ],
          "mesh3d": [
           {
            "colorbar": {
             "outlinewidth": 0,
             "ticks": ""
            },
            "type": "mesh3d"
           }
          ],
          "parcoords": [
           {
            "line": {
             "colorbar": {
              "outlinewidth": 0,
              "ticks": ""
             }
            },
            "type": "parcoords"
           }
          ],
          "pie": [
           {
            "automargin": true,
            "type": "pie"
           }
          ],
          "scatter": [
           {
            "fillpattern": {
             "fillmode": "overlay",
             "size": 10,
             "solidity": 0.2
            },
            "type": "scatter"
           }
          ],
          "scatter3d": [
           {
            "line": {
             "colorbar": {
              "outlinewidth": 0,
              "ticks": ""
             }
            },
            "marker": {
             "colorbar": {
              "outlinewidth": 0,
              "ticks": ""
             }
            },
            "type": "scatter3d"
           }
          ],
          "scattercarpet": [
           {
            "marker": {
             "colorbar": {
              "outlinewidth": 0,
              "ticks": ""
             }
            },
            "type": "scattercarpet"
           }
          ],
          "scattergeo": [
           {
            "marker": {
             "colorbar": {
              "outlinewidth": 0,
              "ticks": ""
             }
            },
            "type": "scattergeo"
           }
          ],
          "scattergl": [
           {
            "marker": {
             "colorbar": {
              "outlinewidth": 0,
              "ticks": ""
             }
            },
            "type": "scattergl"
           }
          ],
          "scattermapbox": [
           {
            "marker": {
             "colorbar": {
              "outlinewidth": 0,
              "ticks": ""
             }
            },
            "type": "scattermapbox"
           }
          ],
          "scatterpolar": [
           {
            "marker": {
             "colorbar": {
              "outlinewidth": 0,
              "ticks": ""
             }
            },
            "type": "scatterpolar"
           }
          ],
          "scatterpolargl": [
           {
            "marker": {
             "colorbar": {
              "outlinewidth": 0,
              "ticks": ""
             }
            },
            "type": "scatterpolargl"
           }
          ],
          "scatterternary": [
           {
            "marker": {
             "colorbar": {
              "outlinewidth": 0,
              "ticks": ""
             }
            },
            "type": "scatterternary"
           }
          ],
          "surface": [
           {
            "colorbar": {
             "outlinewidth": 0,
             "ticks": ""
            },
            "colorscale": [
             [
              0,
              "#0d0887"
             ],
             [
              0.1111111111111111,
              "#46039f"
             ],
             [
              0.2222222222222222,
              "#7201a8"
             ],
             [
              0.3333333333333333,
              "#9c179e"
             ],
             [
              0.4444444444444444,
              "#bd3786"
             ],
             [
              0.5555555555555556,
              "#d8576b"
             ],
             [
              0.6666666666666666,
              "#ed7953"
             ],
             [
              0.7777777777777778,
              "#fb9f3a"
             ],
             [
              0.8888888888888888,
              "#fdca26"
             ],
             [
              1,
              "#f0f921"
             ]
            ],
            "type": "surface"
           }
          ],
          "table": [
           {
            "cells": {
             "fill": {
              "color": "#EBF0F8"
             },
             "line": {
              "color": "white"
             }
            },
            "header": {
             "fill": {
              "color": "#C8D4E3"
             },
             "line": {
              "color": "white"
             }
            },
            "type": "table"
           }
          ]
         },
         "layout": {
          "annotationdefaults": {
           "arrowcolor": "#2a3f5f",
           "arrowhead": 0,
           "arrowwidth": 1
          },
          "autotypenumbers": "strict",
          "coloraxis": {
           "colorbar": {
            "outlinewidth": 0,
            "ticks": ""
           }
          },
          "colorscale": {
           "diverging": [
            [
             0,
             "#8e0152"
            ],
            [
             0.1,
             "#c51b7d"
            ],
            [
             0.2,
             "#de77ae"
            ],
            [
             0.3,
             "#f1b6da"
            ],
            [
             0.4,
             "#fde0ef"
            ],
            [
             0.5,
             "#f7f7f7"
            ],
            [
             0.6,
             "#e6f5d0"
            ],
            [
             0.7,
             "#b8e186"
            ],
            [
             0.8,
             "#7fbc41"
            ],
            [
             0.9,
             "#4d9221"
            ],
            [
             1,
             "#276419"
            ]
           ],
           "sequential": [
            [
             0,
             "#0d0887"
            ],
            [
             0.1111111111111111,
             "#46039f"
            ],
            [
             0.2222222222222222,
             "#7201a8"
            ],
            [
             0.3333333333333333,
             "#9c179e"
            ],
            [
             0.4444444444444444,
             "#bd3786"
            ],
            [
             0.5555555555555556,
             "#d8576b"
            ],
            [
             0.6666666666666666,
             "#ed7953"
            ],
            [
             0.7777777777777778,
             "#fb9f3a"
            ],
            [
             0.8888888888888888,
             "#fdca26"
            ],
            [
             1,
             "#f0f921"
            ]
           ],
           "sequentialminus": [
            [
             0,
             "#0d0887"
            ],
            [
             0.1111111111111111,
             "#46039f"
            ],
            [
             0.2222222222222222,
             "#7201a8"
            ],
            [
             0.3333333333333333,
             "#9c179e"
            ],
            [
             0.4444444444444444,
             "#bd3786"
            ],
            [
             0.5555555555555556,
             "#d8576b"
            ],
            [
             0.6666666666666666,
             "#ed7953"
            ],
            [
             0.7777777777777778,
             "#fb9f3a"
            ],
            [
             0.8888888888888888,
             "#fdca26"
            ],
            [
             1,
             "#f0f921"
            ]
           ]
          },
          "colorway": [
           "#636efa",
           "#EF553B",
           "#00cc96",
           "#ab63fa",
           "#FFA15A",
           "#19d3f3",
           "#FF6692",
           "#B6E880",
           "#FF97FF",
           "#FECB52"
          ],
          "font": {
           "color": "#2a3f5f"
          },
          "geo": {
           "bgcolor": "white",
           "lakecolor": "white",
           "landcolor": "#E5ECF6",
           "showlakes": true,
           "showland": true,
           "subunitcolor": "white"
          },
          "hoverlabel": {
           "align": "left"
          },
          "hovermode": "closest",
          "mapbox": {
           "style": "light"
          },
          "paper_bgcolor": "white",
          "plot_bgcolor": "#E5ECF6",
          "polar": {
           "angularaxis": {
            "gridcolor": "white",
            "linecolor": "white",
            "ticks": ""
           },
           "bgcolor": "#E5ECF6",
           "radialaxis": {
            "gridcolor": "white",
            "linecolor": "white",
            "ticks": ""
           }
          },
          "scene": {
           "xaxis": {
            "backgroundcolor": "#E5ECF6",
            "gridcolor": "white",
            "gridwidth": 2,
            "linecolor": "white",
            "showbackground": true,
            "ticks": "",
            "zerolinecolor": "white"
           },
           "yaxis": {
            "backgroundcolor": "#E5ECF6",
            "gridcolor": "white",
            "gridwidth": 2,
            "linecolor": "white",
            "showbackground": true,
            "ticks": "",
            "zerolinecolor": "white"
           },
           "zaxis": {
            "backgroundcolor": "#E5ECF6",
            "gridcolor": "white",
            "gridwidth": 2,
            "linecolor": "white",
            "showbackground": true,
            "ticks": "",
            "zerolinecolor": "white"
           }
          },
          "shapedefaults": {
           "line": {
            "color": "#2a3f5f"
           }
          },
          "ternary": {
           "aaxis": {
            "gridcolor": "white",
            "linecolor": "white",
            "ticks": ""
           },
           "baxis": {
            "gridcolor": "white",
            "linecolor": "white",
            "ticks": ""
           },
           "bgcolor": "#E5ECF6",
           "caxis": {
            "gridcolor": "white",
            "linecolor": "white",
            "ticks": ""
           }
          },
          "title": {
           "x": 0.05
          },
          "xaxis": {
           "automargin": true,
           "gridcolor": "white",
           "linecolor": "white",
           "ticks": "",
           "title": {
            "standoff": 15
           },
           "zerolinecolor": "white",
           "zerolinewidth": 2
          },
          "yaxis": {
           "automargin": true,
           "gridcolor": "white",
           "linecolor": "white",
           "ticks": "",
           "title": {
            "standoff": 15
           },
           "zerolinecolor": "white",
           "zerolinewidth": 2
          }
         }
        },
        "xaxis": {
         "anchor": "y",
         "domain": [
          0,
          1
         ],
         "title": {
          "text": "month"
         }
        },
        "yaxis": {
         "anchor": "x",
         "domain": [
          0,
          1
         ],
         "title": {
          "text": "sales_usd"
         }
        }
       }
      },
      "text/html": [
       "<div>                            <div id=\"6f72f1be-5890-45f6-9156-34768812b69e\" class=\"plotly-graph-div\" style=\"height:525px; width:100%;\"></div>            <script type=\"text/javascript\">                require([\"plotly\"], function(Plotly) {                    window.PLOTLYENV=window.PLOTLYENV || {};                                    if (document.getElementById(\"6f72f1be-5890-45f6-9156-34768812b69e\")) {                    Plotly.newPlot(                        \"6f72f1be-5890-45f6-9156-34768812b69e\",                        [{\"hovertemplate\":\"county=LINN<br>month=%{x}<br>sales_usd=%{y}<extra></extra>\",\"legendgroup\":\"LINN\",\"line\":{\"color\":\"#636efa\",\"dash\":\"solid\"},\"marker\":{\"symbol\":\"circle\"},\"mode\":\"lines\",\"name\":\"LINN\",\"orientation\":\"v\",\"showlegend\":true,\"x\":[\"01\",\"02\",\"03\",\"04\",\"05\",\"06\",\"07\",\"08\",\"09\",\"10\",\"11\",\"12\"],\"xaxis\":\"x\",\"y\":[588784.16,575888.83,639792.71,674681.18,682141.97,836917.68,726001.13,799044.24,641203.63,636343.22,754730.4,699390.02],\"yaxis\":\"y\",\"type\":\"scatter\"},{\"hovertemplate\":\"county=POLK<br>month=%{x}<br>sales_usd=%{y}<extra></extra>\",\"legendgroup\":\"POLK\",\"line\":{\"color\":\"#EF553B\",\"dash\":\"solid\"},\"marker\":{\"symbol\":\"circle\"},\"mode\":\"lines\",\"name\":\"POLK\",\"orientation\":\"v\",\"showlegend\":true,\"x\":[\"01\",\"02\",\"03\",\"04\",\"05\",\"06\",\"07\",\"08\",\"09\",\"10\",\"11\",\"12\"],\"xaxis\":\"x\",\"y\":[1365378.82,1507303.6,1838418.68,2078776.4,1795947.92,2086464.42,2138724.78,2215790.58,1904737.74,2047083.97,1813662.54,1941226.31],\"yaxis\":\"y\",\"type\":\"scatter\"}],                        {\"template\":{\"data\":{\"histogram2dcontour\":[{\"type\":\"histogram2dcontour\",\"colorbar\":{\"outlinewidth\":0,\"ticks\":\"\"},\"colorscale\":[[0.0,\"#0d0887\"],[0.1111111111111111,\"#46039f\"],[0.2222222222222222,\"#7201a8\"],[0.3333333333333333,\"#9c179e\"],[0.4444444444444444,\"#bd3786\"],[0.5555555555555556,\"#d8576b\"],[0.6666666666666666,\"#ed7953\"],[0.7777777777777778,\"#fb9f3a\"],[0.8888888888888888,\"#fdca26\"],[1.0,\"#f0f921\"]]}],\"choropleth\":[{\"type\":\"choropleth\",\"colorbar\":{\"outlinewidth\":0,\"ticks\":\"\"}}],\"histogram2d\":[{\"type\":\"histogram2d\",\"colorbar\":{\"outlinewidth\":0,\"ticks\":\"\"},\"colorscale\":[[0.0,\"#0d0887\"],[0.1111111111111111,\"#46039f\"],[0.2222222222222222,\"#7201a8\"],[0.3333333333333333,\"#9c179e\"],[0.4444444444444444,\"#bd3786\"],[0.5555555555555556,\"#d8576b\"],[0.6666666666666666,\"#ed7953\"],[0.7777777777777778,\"#fb9f3a\"],[0.8888888888888888,\"#fdca26\"],[1.0,\"#f0f921\"]]}],\"heatmap\":[{\"type\":\"heatmap\",\"colorbar\":{\"outlinewidth\":0,\"ticks\":\"\"},\"colorscale\":[[0.0,\"#0d0887\"],[0.1111111111111111,\"#46039f\"],[0.2222222222222222,\"#7201a8\"],[0.3333333333333333,\"#9c179e\"],[0.4444444444444444,\"#bd3786\"],[0.5555555555555556,\"#d8576b\"],[0.6666666666666666,\"#ed7953\"],[0.7777777777777778,\"#fb9f3a\"],[0.8888888888888888,\"#fdca26\"],[1.0,\"#f0f921\"]]}],\"heatmapgl\":[{\"type\":\"heatmapgl\",\"colorbar\":{\"outlinewidth\":0,\"ticks\":\"\"},\"colorscale\":[[0.0,\"#0d0887\"],[0.1111111111111111,\"#46039f\"],[0.2222222222222222,\"#7201a8\"],[0.3333333333333333,\"#9c179e\"],[0.4444444444444444,\"#bd3786\"],[0.5555555555555556,\"#d8576b\"],[0.6666666666666666,\"#ed7953\"],[0.7777777777777778,\"#fb9f3a\"],[0.8888888888888888,\"#fdca26\"],[1.0,\"#f0f921\"]]}],\"contourcarpet\":[{\"type\":\"contourcarpet\",\"colorbar\":{\"outlinewidth\":0,\"ticks\":\"\"}}],\"contour\":[{\"type\":\"contour\",\"colorbar\":{\"outlinewidth\":0,\"ticks\":\"\"},\"colorscale\":[[0.0,\"#0d0887\"],[0.1111111111111111,\"#46039f\"],[0.2222222222222222,\"#7201a8\"],[0.3333333333333333,\"#9c179e\"],[0.4444444444444444,\"#bd3786\"],[0.5555555555555556,\"#d8576b\"],[0.6666666666666666,\"#ed7953\"],[0.7777777777777778,\"#fb9f3a\"],[0.8888888888888888,\"#fdca26\"],[1.0,\"#f0f921\"]]}],\"surface\":[{\"type\":\"surface\",\"colorbar\":{\"outlinewidth\":0,\"ticks\":\"\"},\"colorscale\":[[0.0,\"#0d0887\"],[0.1111111111111111,\"#46039f\"],[0.2222222222222222,\"#7201a8\"],[0.3333333333333333,\"#9c179e\"],[0.4444444444444444,\"#bd3786\"],[0.5555555555555556,\"#d8576b\"],[0.6666666666666666,\"#ed7953\"],[0.7777777777777778,\"#fb9f3a\"],[0.8888888888888888,\"#fdca26\"],[1.0,\"#f0f921\"]]}],\"mesh3d\":[{\"type\":\"mesh3d\",\"colorbar\":{\"outlinewidth\":0,\"ticks\":\"\"}}],\"scatter\":[{\"fillpattern\":{\"fillmode\":\"overlay\",\"size\":10,\"solidity\":0.2},\"type\":\"scatter\"}],\"parcoords\":[{\"type\":\"parcoords\",\"line\":{\"colorbar\":{\"outlinewidth\":0,\"ticks\":\"\"}}}],\"scatterpolargl\":[{\"type\":\"scatterpolargl\",\"marker\":{\"colorbar\":{\"outlinewidth\":0,\"ticks\":\"\"}}}],\"bar\":[{\"error_x\":{\"color\":\"#2a3f5f\"},\"error_y\":{\"color\":\"#2a3f5f\"},\"marker\":{\"line\":{\"color\":\"#E5ECF6\",\"width\":0.5},\"pattern\":{\"fillmode\":\"overlay\",\"size\":10,\"solidity\":0.2}},\"type\":\"bar\"}],\"scattergeo\":[{\"type\":\"scattergeo\",\"marker\":{\"colorbar\":{\"outlinewidth\":0,\"ticks\":\"\"}}}],\"scatterpolar\":[{\"type\":\"scatterpolar\",\"marker\":{\"colorbar\":{\"outlinewidth\":0,\"ticks\":\"\"}}}],\"histogram\":[{\"marker\":{\"pattern\":{\"fillmode\":\"overlay\",\"size\":10,\"solidity\":0.2}},\"type\":\"histogram\"}],\"scattergl\":[{\"type\":\"scattergl\",\"marker\":{\"colorbar\":{\"outlinewidth\":0,\"ticks\":\"\"}}}],\"scatter3d\":[{\"type\":\"scatter3d\",\"line\":{\"colorbar\":{\"outlinewidth\":0,\"ticks\":\"\"}},\"marker\":{\"colorbar\":{\"outlinewidth\":0,\"ticks\":\"\"}}}],\"scattermapbox\":[{\"type\":\"scattermapbox\",\"marker\":{\"colorbar\":{\"outlinewidth\":0,\"ticks\":\"\"}}}],\"scatterternary\":[{\"type\":\"scatterternary\",\"marker\":{\"colorbar\":{\"outlinewidth\":0,\"ticks\":\"\"}}}],\"scattercarpet\":[{\"type\":\"scattercarpet\",\"marker\":{\"colorbar\":{\"outlinewidth\":0,\"ticks\":\"\"}}}],\"carpet\":[{\"aaxis\":{\"endlinecolor\":\"#2a3f5f\",\"gridcolor\":\"white\",\"linecolor\":\"white\",\"minorgridcolor\":\"white\",\"startlinecolor\":\"#2a3f5f\"},\"baxis\":{\"endlinecolor\":\"#2a3f5f\",\"gridcolor\":\"white\",\"linecolor\":\"white\",\"minorgridcolor\":\"white\",\"startlinecolor\":\"#2a3f5f\"},\"type\":\"carpet\"}],\"table\":[{\"cells\":{\"fill\":{\"color\":\"#EBF0F8\"},\"line\":{\"color\":\"white\"}},\"header\":{\"fill\":{\"color\":\"#C8D4E3\"},\"line\":{\"color\":\"white\"}},\"type\":\"table\"}],\"barpolar\":[{\"marker\":{\"line\":{\"color\":\"#E5ECF6\",\"width\":0.5},\"pattern\":{\"fillmode\":\"overlay\",\"size\":10,\"solidity\":0.2}},\"type\":\"barpolar\"}],\"pie\":[{\"automargin\":true,\"type\":\"pie\"}]},\"layout\":{\"autotypenumbers\":\"strict\",\"colorway\":[\"#636efa\",\"#EF553B\",\"#00cc96\",\"#ab63fa\",\"#FFA15A\",\"#19d3f3\",\"#FF6692\",\"#B6E880\",\"#FF97FF\",\"#FECB52\"],\"font\":{\"color\":\"#2a3f5f\"},\"hovermode\":\"closest\",\"hoverlabel\":{\"align\":\"left\"},\"paper_bgcolor\":\"white\",\"plot_bgcolor\":\"#E5ECF6\",\"polar\":{\"bgcolor\":\"#E5ECF6\",\"angularaxis\":{\"gridcolor\":\"white\",\"linecolor\":\"white\",\"ticks\":\"\"},\"radialaxis\":{\"gridcolor\":\"white\",\"linecolor\":\"white\",\"ticks\":\"\"}},\"ternary\":{\"bgcolor\":\"#E5ECF6\",\"aaxis\":{\"gridcolor\":\"white\",\"linecolor\":\"white\",\"ticks\":\"\"},\"baxis\":{\"gridcolor\":\"white\",\"linecolor\":\"white\",\"ticks\":\"\"},\"caxis\":{\"gridcolor\":\"white\",\"linecolor\":\"white\",\"ticks\":\"\"}},\"coloraxis\":{\"colorbar\":{\"outlinewidth\":0,\"ticks\":\"\"}},\"colorscale\":{\"sequential\":[[0.0,\"#0d0887\"],[0.1111111111111111,\"#46039f\"],[0.2222222222222222,\"#7201a8\"],[0.3333333333333333,\"#9c179e\"],[0.4444444444444444,\"#bd3786\"],[0.5555555555555556,\"#d8576b\"],[0.6666666666666666,\"#ed7953\"],[0.7777777777777778,\"#fb9f3a\"],[0.8888888888888888,\"#fdca26\"],[1.0,\"#f0f921\"]],\"sequentialminus\":[[0.0,\"#0d0887\"],[0.1111111111111111,\"#46039f\"],[0.2222222222222222,\"#7201a8\"],[0.3333333333333333,\"#9c179e\"],[0.4444444444444444,\"#bd3786\"],[0.5555555555555556,\"#d8576b\"],[0.6666666666666666,\"#ed7953\"],[0.7777777777777778,\"#fb9f3a\"],[0.8888888888888888,\"#fdca26\"],[1.0,\"#f0f921\"]],\"diverging\":[[0,\"#8e0152\"],[0.1,\"#c51b7d\"],[0.2,\"#de77ae\"],[0.3,\"#f1b6da\"],[0.4,\"#fde0ef\"],[0.5,\"#f7f7f7\"],[0.6,\"#e6f5d0\"],[0.7,\"#b8e186\"],[0.8,\"#7fbc41\"],[0.9,\"#4d9221\"],[1,\"#276419\"]]},\"xaxis\":{\"gridcolor\":\"white\",\"linecolor\":\"white\",\"ticks\":\"\",\"title\":{\"standoff\":15},\"zerolinecolor\":\"white\",\"automargin\":true,\"zerolinewidth\":2},\"yaxis\":{\"gridcolor\":\"white\",\"linecolor\":\"white\",\"ticks\":\"\",\"title\":{\"standoff\":15},\"zerolinecolor\":\"white\",\"automargin\":true,\"zerolinewidth\":2},\"scene\":{\"xaxis\":{\"backgroundcolor\":\"#E5ECF6\",\"gridcolor\":\"white\",\"linecolor\":\"white\",\"showbackground\":true,\"ticks\":\"\",\"zerolinecolor\":\"white\",\"gridwidth\":2},\"yaxis\":{\"backgroundcolor\":\"#E5ECF6\",\"gridcolor\":\"white\",\"linecolor\":\"white\",\"showbackground\":true,\"ticks\":\"\",\"zerolinecolor\":\"white\",\"gridwidth\":2},\"zaxis\":{\"backgroundcolor\":\"#E5ECF6\",\"gridcolor\":\"white\",\"linecolor\":\"white\",\"showbackground\":true,\"ticks\":\"\",\"zerolinecolor\":\"white\",\"gridwidth\":2}},\"shapedefaults\":{\"line\":{\"color\":\"#2a3f5f\"}},\"annotationdefaults\":{\"arrowcolor\":\"#2a3f5f\",\"arrowhead\":0,\"arrowwidth\":1},\"geo\":{\"bgcolor\":\"white\",\"landcolor\":\"#E5ECF6\",\"subunitcolor\":\"white\",\"showland\":true,\"showlakes\":true,\"lakecolor\":\"white\"},\"title\":{\"x\":0.05},\"mapbox\":{\"style\":\"light\"}}},\"xaxis\":{\"anchor\":\"y\",\"domain\":[0.0,1.0],\"title\":{\"text\":\"month\"}},\"yaxis\":{\"anchor\":\"x\",\"domain\":[0.0,1.0],\"title\":{\"text\":\"sales_usd\"}},\"legend\":{\"title\":{\"text\":\"county\"},\"tracegroupgap\":0},\"margin\":{\"t\":60}},                        {\"responsive\": true}                    ).then(function(){\n",
       "                            \n",
       "var gd = document.getElementById('6f72f1be-5890-45f6-9156-34768812b69e');\n",
       "var x = new MutationObserver(function (mutations, observer) {{\n",
       "        var display = window.getComputedStyle(gd).display;\n",
       "        if (!display || display === 'none') {{\n",
       "            console.log([gd, 'removed!']);\n",
       "            Plotly.purge(gd);\n",
       "            observer.disconnect();\n",
       "        }}\n",
       "}});\n",
       "\n",
       "// Listen for the removal of the full notebook cells\n",
       "var notebookContainer = gd.closest('#notebook-container');\n",
       "if (notebookContainer) {{\n",
       "    x.observe(notebookContainer, {childList: true});\n",
       "}}\n",
       "\n",
       "// Listen for the clearing of the current output cell\n",
       "var outputEl = gd.closest('.output');\n",
       "if (outputEl) {{\n",
       "    x.observe(outputEl, {childList: true});\n",
       "}}\n",
       "\n",
       "                        })                };                });            </script>        </div>"
      ]
     },
     "metadata": {},
     "output_type": "display_data"
    }
   ],
   "source": [
    "fig = px.line(polk_linn_sales_mo, x = 'month', y = 'sales_usd', color='county')\n",
    "\n",
    "# fig.update_layout(\n",
    "#     title={\n",
    "#         'text': 'Polk County 2021 Monthly Vodka Sales-(USD)',\n",
    "#         'y': 0.95,\n",
    "#         'x': 0.5,\n",
    "#         'xanchor': 'center',\n",
    "#         'yanchor': 'top'},\n",
    "#     hoverlabel=dict(\n",
    "#         bgcolor='rgb(8,48,107)',\n",
    "#         font_size=12,\n",
    "#         font_family='Rockwell'\n",
    "#     )\n",
    "# )\n",
    "\n",
    "\n",
    "# fig.update_traces(marker_color='rgb(158,202,225)', marker_line_color='rgb(8,48,107)',\n",
    "#                   marker_line_width=1.5, opacity=0.6)\n",
    "\n",
    "# fig.update_xaxes(\n",
    "#     tickangle=45,\n",
    "#     title_text = 'Month',\n",
    "#     title_standoff = 25, \n",
    "#     title_font = {'size': 16},\n",
    "#     ticktext=['Jan', 'Feb', 'Mar', 'Apr', 'May', 'Jun', 'Jul', 'Aug', 'Sep',\n",
    "#               'Oct', 'Nov', 'Dec'],\n",
    "#     tickvals = ['01', '02', '03', '04', '05', '06', '07', '08', '09', '10', '11', '12']\n",
    "\n",
    "# )\n",
    "\n",
    "# fig.update_yaxes(\n",
    "#     title_text = 'Sales (USD)',\n",
    "#     title_standoff = 25,\n",
    "#     title_font = {'size':16}\n",
    "# )\n",
    "\n",
    "\n",
    "fig.show()"
   ]
  },
  {
   "cell_type": "code",
   "execution_count": null,
   "id": "ea950d11",
   "metadata": {},
   "outputs": [],
   "source": []
  }
 ],
 "metadata": {
  "kernelspec": {
   "display_name": "Python 3 (engineering)",
   "language": "python",
   "name": "engineering"
  },
  "language_info": {
   "codemirror_mode": {
    "name": "ipython",
    "version": 3
   },
   "file_extension": ".py",
   "mimetype": "text/x-python",
   "name": "python",
   "nbconvert_exporter": "python",
   "pygments_lexer": "ipython3",
   "version": "3.9.12"
  }
 },
 "nbformat": 4,
 "nbformat_minor": 5
}
